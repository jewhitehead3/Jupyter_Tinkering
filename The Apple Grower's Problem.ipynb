{
 "cells": [
  {
   "cell_type": "markdown",
   "metadata": {
    "hide_input": true
   },
   "source": [
    "<h1><center> Modeling and Simulation: Apple Orchard Revenue </center></h1>"
   ]
  },
  {
   "cell_type": "markdown",
   "metadata": {
    "code_folding": [],
    "hide_input": true,
    "scrolled": true
   },
   "source": [
    "<div>\n",
    "<img src=\"appleOrchard.jpg\",align=\"center\", width = \"600\">\n",
    "</div>"
   ]
  },
  {
   "cell_type": "markdown",
   "metadata": {},
   "source": [
    "## Problem Statement:\n",
    "An apple grower wishes to develop a simulation of her orchard's revenue in a single year. \n",
    "\n",
    "Suppose\n",
    "\n",
    "**-** There are *m* trees;\n",
    "\n",
    "**-** The number of apples produced by tree *i* is $A_i$;\n",
    "\n",
    "**-** The $\\text{j}^{th}$ apple from tree *i* is $a_{i,j}$\n",
    "\n",
    "**-** The quality of apply *j* from tree *i* is $Q_{i,j} \\in [0,1]$\n",
    "\n",
    "**-** The weight of apple *j* from tree i is $W_{i,j}$ in grams.\n",
    "\n",
    "**-** Apples of quality greater tha $0.9$ (premiium grade) receive a price of $\\$r_1$ per kilo\n",
    "\n",
    "**-** Apples of quality between $0.5$ and $0.9$ (first grade) receive a price of $\\$r_2$\n",
    "\n",
    "**-** Apples of quality less than $0.5$ (second grade) receive a price of $\\$r_3$ per kilo."
   ]
  },
  {
   "cell_type": "markdown",
   "metadata": {},
   "source": [
    "## Tasks"
   ]
  },
  {
   "cell_type": "markdown",
   "metadata": {},
   "source": [
    "### Task 1\n",
    "Write down an expression for the total return from the orchard (in a single year)\n",
    "\n",
    "#### Orchard's Total Return\n",
    "Define $P \\colon Q_{i,j} \\to \\{\\$r_1,\\$r_2,\\$r_3 \\}$\n",
    "\n",
    "where $P$ is the function that maps from quality to price $\\$r_i$.\n",
    "\n",
    "Define $Z$ as the total return for the orchard.\n",
    "\n",
    "Then, we have\n",
    "\n",
    "\\begin{align*} Z = \\sum_i^{m}\\sum_j^{A_i} \\frac{P(Q_{i,j})}{1000}W_{i,j} \\end{align*}\n"
   ]
  },
  {
   "cell_type": "markdown",
   "metadata": {},
   "source": [
    "\n",
    "### Task 2\n",
    "\n",
    "- Suggest a type of distribution for $A_i$\n",
    "\n",
    "\n",
    "- Given that you know $A_i$, what is the distribution of the total number of premium grade apples from tree *i*, in terms of $p_1$ = $\\mathbb{P}(Q_{i,j} \\in [0.9,1])?$ \n",
    "\n",
    "\n",
    "- Suggest a type of distribution for $Q_{i,j}$\n",
    "\n",
    "\n",
    "- Suggest a type of distribution for $W_{i,j}$\n",
    "\n",
    "\n",
    "\n",
    "#### Distribution for *A*<sub>i</sub>\n",
    "\n"
   ]
  },
  {
   "cell_type": "markdown",
   "metadata": {},
   "source": [
    "We know that $A_i \\geq 0$, because $A_i$ is the number of apples produced by tree i. Thus, we restrict the distribution of $A_i$ to those with nonnegative, integer support.\n",
    "As $A_i$ represents the count of the number of apples produced by tree $i$, the Poisson distribution is a natural choice. Formally, we have \n",
    "$$A_i \\stackrel{iid}{\\sim} Poisson(\\lambda), \\text{for }  \\lambda \\geq 0$$\n",
    "\n",
    "Given $A_i$, the distribution of the total number of premium grade apples from tree $i$ is distributed as a Binomial random variable. Formally, if we define \n",
    "$$\\begin{align} p_i & :=  \\text{ # of premium grade apples from tree i}\\\\ \n",
    "A_i & :=  \\text{ # of apples produce by tree i}\\\\\n",
    "& \\text{then,}\\\\\n",
    "p_i|A_i & \\sim Bin(A_i,p_1 = Bin(A_i, 0.1)) \\end{align}$$\n",
    "\n",
    "#### Distribution for *Q*<sub>i,j</sub>\n",
    "$Q_{i,j}$ is the quality rating of the $j^{th}$ apple from the $i^{th}$ tree. Also, $Q_{i,j} \\in (0,1)$.\n",
    "Both a natural and flexibule choice of distribution is the Beta distribution. Fomrally, we take\n",
    "$$Q_{i,j} \\stackrel{iid}{\\sim} Beta(\\alpha,\\beta)$$\n",
    "\n",
    "#### Distribution for *W*<sub>i,j</sub>\n",
    "$W_{i,j}$ is the weight of $j^{th}$ apple from the $i^{th}$ tree. And so, $W_{i,j} \\geq 0$.\n",
    "Although, previous research has shown that the distribution of apple weight has a Normal distribution, the constraint of $W_{i,j} \\geq 0$ is obviously violated if $W_{i,j}$ is Normally distributed. \n",
    "\n",
    "A more pertinent distribution for apple weight is the Log-normal distribution whose justification will be given below. Formally, we have\n",
    "$$W_{i,j} \\stackrel{iid}{\\sim} Lognormal(\\mu,\\sigma^2)$$"
   ]
  },
  {
   "cell_type": "markdown",
   "metadata": {},
   "source": [
    "### Task 3\n",
    "Write down an expression for the expected return from the orchard (in a single year)\n",
    "\n",
    "$$\\begin{align} E[Z] = & E[ \\sum_i^{m}\\sum_j^{A_i} \\frac{P(Q_{i,j})}{1000}W_{i,j}]\\\\\n",
    "= & \\sum_i^{m}E[\\sum_j^{A_i} \\frac{P(Q_{i,j})}{1000}W_{i,j}] \\\\\n",
    "= & \\sum_i^{m}E[E[\\sum_j^{A_i} \\frac{P(Q_{i,j})}{1000}W_{i,j} |A_i]]\\\\\n",
    "= & \\sum_i^{m}E[A_i\\frac{E[P(Q_{i,j})]}{1000}E[W_{i,j}]]\\\\\n",
    "= & m\\Bigg[\\frac{\\lambda}{1000}\\big(r_1\\int_{0.9}^{1}f(q)dq + r_2\\int_{0.5}^{0.9}f(q)dq + r_3\\int_{0}^{0.5}f(q)dq\\Big)\\big(e^{\\mu + \\frac{\\sigma^2}{2}}\\Big)\\Bigg]\\end{align}$$\n",
    "\n",
    "\n",
    "\n",
    "\n",
    "#### Expected Return Widget\n",
    "To explore the effects of different levels of the parameters and of price, we create a widget that calculates expected revenue from the above formula.\n",
    "\n"
   ]
  },
  {
   "cell_type": "code",
   "execution_count": 1,
   "metadata": {
    "hide_input": true
   },
   "outputs": [],
   "source": [
    "from ipywidgets import interact, interactive, fixed, interact_manual\n",
    "import numpy as np\n",
    "import ipywidgets as widgets\n",
    "import scipy.stats as stats"
   ]
  },
  {
   "cell_type": "code",
   "execution_count": 2,
   "metadata": {
    "code_folding": [
     0,
     10,
     11
    ],
    "hide_input": true,
    "scrolled": false
   },
   "outputs": [
    {
     "data": {
      "application/vnd.jupyter.widget-view+json": {
       "model_id": "be3319ea34e6473ebae687a133c8b19d",
       "version_major": 2,
       "version_minor": 0
      },
      "text/plain": [
       "interactive(children=(IntSlider(value=1, description='m', min=1), IntSlider(value=50, description='lam', max=4…"
      ]
     },
     "metadata": {},
     "output_type": "display_data"
    }
   ],
   "source": [
    "@interact(m = widgets.IntSlider(min=1,max=100,step=1,value=1),\n",
    "         lam = widgets.IntSlider(min = 50, max = 400, step = 10, value = 50),\n",
    "         r1 = widgets.FloatSlider(min = 0,max = 5,step = 0.5,value = 1),\n",
    "         r2 =widgets.FloatSlider(min = 0,max = 5,step = 0.5,value = 1),\n",
    "         r3 = widgets.FloatSlider(min = 0,max = 5,step = 0.5,value = 1),\n",
    "         mu = widgets.FloatSlider(min = 2,max = 7,step = .5,value = 1),\n",
    "         sigma2 = widgets.FloatSlider(min = 0.01,max = 0.05,step = 0.001,value = 0.01),\n",
    "         alpha = widgets.IntSlider(min = 1,max = 100,step = 1,value = 5),\n",
    "         beta = widgets.IntSlider(min = 1,max = 100,step = 1,value = 5))\n",
    "\n",
    "def expZ(m,lam,r1,r2,r3,mu,sigma2,alpha,beta):\n",
    "    result = (m*(lam)/1000)*((r1)*(stats.beta.cdf(1,alpha,beta)-stats.beta.cdf(0.9,alpha,beta))\n",
    "                         + (r2)*(stats.beta.cdf(0.9,alpha,beta)-stats.beta.cdf(0.5,alpha,beta))\n",
    "                         + (r3)*(stats.beta.cdf(0.5,alpha,beta)))*np.exp(mu + (sigma2/2))\n",
    "    print(\"\\n\\n\\tExpected Revenue: ${0:.2f}\".format(result))\n"
   ]
  },
  {
   "cell_type": "markdown",
   "metadata": {},
   "source": [
    "## Model Realism and Assumptions"
   ]
  },
  {
   "cell_type": "markdown",
   "metadata": {
    "hide_input": false
   },
   "source": [
    "To ensure an adequate amount of realism in the modeling of apple-tree production and apple weights, we incorporate the results of three articles:\n",
    "\n",
    "1. The Journal of the American Society for Horticultural Science by Miranda, Carlos  and Royo, J.,  [Statistical Model Estimates Potential Yields in Golden Delicious and Royal Gala Apples before Bloom(2003)](https://www.researchgate.net/publication/248701745_Statistical_Model_Estimates_Potential_Yields_in_Golden_Delicious'_and_Royal_Gala'_Apples_before_Bloom).\n",
    "\n",
    "\n",
    "2. The New Zealand Journal of Crop and Horticultural Science, by Jianlu Zhang , Graham F. Thiele & Richard N. Rowe \n",
    "[Gala apple fruit (1995)](https://www.tandfonline.com/doi/pdf/10.1080/01140671.1995.9513871).\n",
    "\n",
    "\n",
    "3. Hessong, Athena. (n.d.). When Do Apple Trees Set Fruit? Home Guides | SF Gate. http://homeguides.sfgate.com/apple-trees-set-fruit-58656.html\n",
    "\n",
    "\n",
    "\n",
    "The results of article (1) that will used are the following:\n",
    "1. $\\text{Fruit Weight of Golden Delicious Apples (g/apple): Mean $\\pm$ SD =}$ $157.4 \\pm 19.7$\n",
    "\n",
    "\n",
    "2. $\\text{Yield per Golden Delicious Apple Tree (kg/tree): Mean $\\pm$ SD =}$ $33.2 \\pm 15.4$\n",
    "\n",
    "\n",
    "\n",
    "The result of article (2) that will be used and ***modified*** are:\n",
    "\n",
    "1. $\\text{The distribution of apple weights takes the shape of a Normal distribution}$.\n",
    "\n",
    "The result of article (3) that will be used is:\n",
    "\n",
    "1. $\\text{Fruit that has set on the tree can take between 100 and 200 days for the apples to be ready for harvest}$\n",
    "\n",
    "\n",
    "### Modeling *A*<sub>i</sub>\n",
    "\n",
    "We have already specified the number of apples produced by tree $i$, $A_i$, as a Poisson random variable with parameter $\\lambda$.\n",
    "\n",
    "We know that the $mle$ estimate of $\\lambda$ from an $iid$ sample $A_1, A_2, \\ldots, \n",
    "A_n$ drawn from a Poisson distribution is $\\bar A = n^{-1}\\sum_{i=1}^{n}A_i$.\n",
    "\n",
    "As a proxy to the mle estimate, we calculate $\\bar A$ from the mean apple weight \n",
    "and mean yield per apple tree as follows:"
   ]
  },
  {
   "cell_type": "markdown",
   "metadata": {},
   "source": [
    "Define\n",
    "\n",
    "$\\bar{W} :=$ mean fruit weight of apples (g/apple)\n",
    "\n",
    "$\\bar Y : = $ mean yield per apple tree (kg/tree)"
   ]
  },
  {
   "cell_type": "markdown",
   "metadata": {},
   "source": [
    "$$\\begin{align} \\hat \\lambda = & \\frac{\\bar Y \\text{(kg/tree)}}{\\bar W \\text{(g/apple)}}\\\\\n",
    "= & \\frac{1000 \\bar Y \\text{(g/tree)}}{\\bar W \\text{(g/apple)}}\\\\\n",
    "= & 1000\\frac{ \\bar Y}{\\bar W}\\text{(apple/tree)} \\approx 211 \\text{(apple/tree)}\\end{align}$$\n",
    " "
   ]
  },
  {
   "cell_type": "markdown",
   "metadata": {},
   "source": [
    "### Modeling *W*<sub>i,j</sub>\n",
    "\n"
   ]
  },
  {
   "cell_type": "markdown",
   "metadata": {},
   "source": [
    "The article, Gala apple fruit, by Zhang, Thiele, and Rowe found that the distribution of weight (g) of Gala apples was apparently Normal. This implies that the support of $W_{i,j}$, the weight of $j^{th}$ apple from the $i^{th}$ tree, is $(-\\infty, \\infty)$. Yet, we know all apples have non-negative weight.\n",
    "\n",
    "Whatever growth process produces the distribution of apple weights, it can never results in an apple at maturity having negative weight. For this reason, any distribution that assigns positive probability, however small, to apple weights that are less than zero are incorrect.\n",
    "\n",
    "\n",
    "\n",
    "#### An Exponential Growth Process for Apple Weight\n",
    "\n",
    "Many natural growth processes are driven by the accumulation of small, apparently random, percentage changes over time. On the log scale, these changes become additive, and by the Central Limit Theorem, have a Normal distribution.\n",
    "\n",
    "We hypothesize that the underlying growth process of an apple is a function of an exponential growth process. In fact, it seems plausible that a logistic growth process would characterize the apple's weight trajectory during its maturation, as both the maximum weight of each apple is contrained by biological and environmental factors and the rate of increase of the weight of an apple should decrease as it approaches its expected maximum weight.\n",
    "\n",
    "For our purposes, however, it will be sufficient to model the weight of $j^{th}$ apple from the $i^{th}$ tree on day $t$, according to a stochastic exponential growth equation such that\n",
    "\n",
    "$$\\begin{align} & W_{i,j}(t) = P_0\\text{ }e^{Rt}\\\\\n",
    "\\text{where, } & P_0 = 1\\\\\n",
    "& R \\sim N(\\mu,\\sigma^2) \\end{align}$$\n",
    "\n"
   ]
  },
  {
   "cell_type": "markdown",
   "metadata": {},
   "source": [
    "If we wanted a plausiable trajectory of the growth of an apple over its maturation, we might heuristically take the number of days of growth, $D$, to be 150, the average of the upper and lower bounds for the number of days for an apple to grow, given by article (3).\n",
    "\n",
    "Next, we would need to back out $\\mu$ and $\\sigma^2$ for the Normal distribution of daily growth rates.\n",
    "\n",
    "To do this, we rely upon the relationship between the $Normal$ and $Lognormal$ distributions such that:\n",
    "\n",
    "If $X \\sim N(\\mu_x,\\sigma^2_x)$, then $Y = e^x \\sim LN(\\mu_y, \\sigma^2_y)$, then given $\\mu_y$ and $\\sigma^2_y$,\n"
   ]
  },
  {
   "cell_type": "markdown",
   "metadata": {},
   "source": [
    "$$\\begin{align} \\mu_x & = 2\\ln(\\mu_y) - \\frac{1}{2}\\ln(\\sigma^2_y + \\mu_y^2)\\\\\n",
    "\\sigma^2_x & = -2\\ln(\\mu_y) + \\frac{1}{2}\\ln(\\sigma^2_y + \\mu_y^2) \\end{align}$$"
   ]
  },
  {
   "cell_type": "markdown",
   "metadata": {},
   "source": [
    "From article (1), we have $\\hat \\mu_y \\approx 157$ and $\\hat \\sigma^2_y \\approx 388$. Also, we assume that the data on which these statistics are calculated are Lognormally distributed.\n",
    "\n",
    "Thus, from the relationship between the parameters of the $Normal$ and $Lognormal$ above, we have\n",
    "\n",
    "$$\\begin{align} \\hat\\mu_x & \\approx 5 \\\\\n",
    "\\hat\\sigma^2_x & \\approx 0.04 \\end{align}$$\n",
    "\n",
    "\n",
    "The above values of $\\hat\\mu_x$ and $\\hat\\sigma^2_x$ are the parameters for a full season of growth, i.e., approximately 150 days.\n",
    "\n",
    "Parameter values for daily growth would be $\\frac{\\hat\\mu_x}{150}$ and $\\frac{\\hat\\sigma^2_x}{150^2}$\n",
    "\n",
    "For revenue simulation purposes, however, we will have need only of the maturity distribution of apple weight. And so, we will use $\\hat\\mu_x \\approx 5$ and $\\hat\\sigma^2_x \\approx 0.04$ for the parameters of the distribution of the seasonal growth for apple weight."
   ]
  },
  {
   "cell_type": "markdown",
   "metadata": {},
   "source": [
    "### Modeling *Q*<sub>i,j</sub>\n",
    "\n",
    "We allow for flexibility in specifying the shape of the distribution of the quality of apples through giving the user the ability to change the parameter values of the $Beta$ distribution."
   ]
  },
  {
   "cell_type": "markdown",
   "metadata": {},
   "source": [
    "## Orchard Simulation Class and Visualization"
   ]
  },
  {
   "cell_type": "markdown",
   "metadata": {},
   "source": [
    "Next, we create an Orchard Simulation class called OrchardSim to allow for a cleaner more tractable qualitative analysis of the relationship of orchard revenue to the random variables of apple amount, quality, and weight.\n",
    "\n",
    "To help along intuition, we create a widget to visualize how changes to parameter values changes the distributions of revenue, apple production, apple quality, and apple weight."
   ]
  },
  {
   "cell_type": "markdown",
   "metadata": {
    "hide_input": false
   },
   "source": [
    "### OrchardSim Class"
   ]
  },
  {
   "cell_type": "code",
   "execution_count": 3,
   "metadata": {
    "hide_input": true
   },
   "outputs": [],
   "source": [
    "\n",
    "## orchard_revenue.py\n",
    "# Class definition for orchard revenue simulation\n",
    "\n",
    "from __future__ import print_function\n",
    "import seaborn as sns\n",
    "import numpy as np\n",
    "\n",
    "\n",
    "\n",
    "class OrchardSim:\n",
    "    \"\"\"\n",
    "        Class used to simulate apple orchard revenues\n",
    "        \n",
    "        Attributes \n",
    "        --------------\n",
    "        nscen (int):\n",
    "            the number of scenarios to simulate\n",
    "        \n",
    "        trees (int):\n",
    "            the number of trees in the orchard\n",
    "        \n",
    "        R (list):\n",
    "            a list of revenue per kilogram of apples by grade\n",
    "            \n",
    "            R[0] premium grade revenue per kilogram\n",
    "            \n",
    "            R[1] first grade revenue per kilogram\n",
    "            \n",
    "            R[2] second grade revenue per kilogram\n",
    "        \n",
    "        qualityCutoff (list):\n",
    "            a list of quality cutoffs\n",
    "            \n",
    "            qualityCutoff[0] premium grade lower bound\n",
    "            \n",
    "            qualityCutoff[1] first grade upper bound\n",
    "            \n",
    "            qualityCutoff[i] in (0,1)\n",
    "        \n",
    "        amt_param (int):\n",
    "            the paramter for the Poisson distribution to simulate number of apples grown on a tree\n",
    "\n",
    "        q_alpha (float):\n",
    "            parmater for Beta distribution to simulate quality of apples\n",
    "        \n",
    "        q_beta (float):\n",
    "            parameter for Beta distribution to simulate quality of apples\n",
    "            \n",
    "        w_mean (float):\n",
    "            mean for Normal distribution to simulate apple weights\n",
    "            \n",
    "        w_var (float):\n",
    "            variance for Normal distribution to simulate apple weights\n",
    "        \n",
    "        \"\"\"\n",
    "    @ staticmethod\n",
    "    def inverseMu(ybar,s2_hat):\n",
    "        t1 = 2*np.log(ybar)\n",
    "        t2 = (1/2)*np.log(s2_hat + ybar**2)\n",
    "        return(t1 - t2)\n",
    "    @ staticmethod\n",
    "    def inverseVar(ybar,s2_hat):\n",
    "        t1 = np.log(s2_hat + ybar**2)\n",
    "        t2 = 2*np.log(ybar)\n",
    "        return(t1 - t2)\n",
    "\n",
    "    def __init__(self,nscen,trees,amt_param,q_alpha,q_beta,w_mean,w_var,R = [2,1.5,1],qualityCutoff = [0.5,0.9]):\n",
    "   \n",
    "        self.nscen = nscen\n",
    "        self.trees = trees\n",
    "        \n",
    "        # price per kilo for grade 1 apples\n",
    "        self.r1 = R[0]\n",
    "        # price per kilo for grade 2 apples\n",
    "        self.r2 = R[1]\n",
    "        # price per kilo for grade 3 apples\n",
    "        self.r3 = R[2]\n",
    "        self.rev_list = [self.r1,self.r2,self.r3]\n",
    "        \n",
    "        self.A = np.zeros([self.trees,nscen])\n",
    "        self.amt_param = amt_param\n",
    "\n",
    "        self.Q = np.zeros([self.trees,nscen])\n",
    "        self.q_alpha = q_alpha\n",
    "        self.q_beta = q_beta\n",
    "        \n",
    "        self.gprem_ub = 1\n",
    "        self.gprem_lb = qualityCutoff[1]\n",
    "        self.g1st_ub = qualityCutoff[1]\n",
    "        self.g1st_lb = qualityCutoff[0]\n",
    "        self.g2nd_ub = qualityCutoff[0]\n",
    "        self.g2nd_lb = 0\n",
    "       \n",
    "    \n",
    "        self.w_mean = self.inverseMu(w_mean,w_var)\n",
    "        self.w_sd = np.sqrt(self.inverseVar(w_mean,w_var))\n",
    "        \n",
    "        self.rev_df = np.zeros(nscen)\n",
    "    \n",
    "\n",
    "    def priceMap(self,q):\n",
    "        \"\"\"\n",
    "        Function to map quality of apples to prices\n",
    "        \n",
    "        \"\"\"\n",
    "        if( q >= self.gprem_lb):\n",
    "            p = self.r1\n",
    "            return(p)\n",
    "        elif(q >= self.g1st_lb and q < self.gprem_lb):\n",
    "            p = self.r2\n",
    "            return(p)\n",
    "        else:\n",
    "            p = self.r3\n",
    "            return(p)\n",
    "    \n",
    "    def simOrchardGrowth(self):\n",
    "        \"\"\"\n",
    "        Function to simulate orchard growth and revenue\n",
    "        \"\"\"\n",
    "        # Simulate number of apples produced by trees across all scenarios\n",
    "        self.A = np.random.poisson(self.amt_param,[self.trees,self.nscen])\n",
    "       \n",
    "        # Create array of total number of apples produced in each scenario\n",
    "        totalA = self.A.sum(0)\n",
    "        self.Q_list = []\n",
    "        self.P_list = []\n",
    "        self.W_list = []\n",
    "        # Vectorize priceMap function\n",
    "        pMapVec = np.vectorize(self.priceMap)\n",
    "   \n",
    "        for scen in range(self.nscen):\n",
    "            q = np.random.beta(self.q_alpha,self.q_beta,totalA[scen])\n",
    "            self.Q_list.append(q)\n",
    "            p = pMapVec(q)\n",
    "            self.P_list.append(p)\n",
    "            w = np.exp(np.random.normal(self.w_mean, self.w_sd, totalA[scen]))\n",
    "            self.W_list.append(w)\n",
    "            self.rev_df[scen] = (1/1000)*np.dot(w,p)\n",
    "            \n",
    "    def plotRevenueDistn(self,ax_other = None):\n",
    "        hist_kws_dict={\"histtype\": \"bar\", \"linewidth\": 1.5,\n",
    "                  \"alpha\": 1, \"color\": \"g\",\"edgecolor\":\"black\"}\n",
    "        ax = sns.distplot(self.rev_df,kde = False, hist_kws = hist_kws_dict)\n",
    "        ax.set_title(\"Histogram of Orchard Revenue\")\n",
    "        ax.set_xlabel(\"Revenue ($)\")\n",
    "        ax.set_ylabel(\"Count\")\n",
    "        ax_other = ax\n",
    "        return ax_other\n",
    "\n",
    "        \n",
    "    \n",
    "    def plotQualityDistn(self,ax_other = None):\n",
    "        hist_kws_dict={\"histtype\": \"bar\", \"linewidth\": 1.5,\n",
    "                  \"alpha\": 1, \"color\": \"g\",\"edgecolor\":\"black\"}\n",
    "        y = np.hstack(self.Q_list)\n",
    "        ax = sns.distplot(y,kde = False, hist_kws = hist_kws_dict)\n",
    "        ax.set_title(\"Histogram of Quality of Apples\")\n",
    "        ax.set_xlabel(\"Apple Quality\")\n",
    "        ax.set_ylabel(\"Count\")\n",
    "        ax_other = ax\n",
    "        return ax_other\n",
    "\n",
    " \n",
    "    def plotWeightDistn(self,ax_other = None):\n",
    "        hist_kws_dict={\"histtype\": \"bar\", \"linewidth\": 1.5,\n",
    "                  \"alpha\": 1, \"color\": \"g\",\"edgecolor\":\"black\"}\n",
    "        y = np.hstack(self.W_list)\n",
    "        ax = sns.distplot(y,kde = False, hist_kws = hist_kws_dict)\n",
    "        ax.set_title(\"Histogram of Weight of Apples\")\n",
    "        ax.set_xlabel(\"Apple Weight (g)\")\n",
    "        ax.set_ylabel(\"Count\")\n",
    "        ax_other = ax\n",
    "        return ax_other\n",
    "\n",
    "\n",
    "    \n",
    "    def plotAmountDistn(self,ax_other = None):\n",
    "        hist_kws_dict={\"histtype\": \"bar\", \"linewidth\": 1.5,\n",
    "                  \"alpha\": 1, \"color\": \"g\",\"edgecolor\":\"black\"}\n",
    "        y = np.hstack(self.A)\n",
    "        ax = sns.distplot(y,kde = False, hist_kws = hist_kws_dict)\n",
    "        ax.set_title(\"Histogram of Apple Amount\")\n",
    "        ax.set_xlabel(\"Apples Amount\")\n",
    "        ax.set_ylabel(\"Count\")\n",
    "        ax_other = ax\n",
    "        return ax_other\n",
    "\n",
    "    \n",
    "    def plotApplePriceDistn(self,ax_other = None):\n",
    "        prices = np.hstack(self.P_list)\n",
    "        prices = np.sort(prices)\n",
    "        ax = sns.countplot(x = prices)\n",
    "        ax.set_title(\"Countplot of Apple Price\")\n",
    "        ax.set_xlabel(\"Apple Price ($)\")\n",
    "        ax.set_ylabel(\"Count\")\n",
    "        ax_other = ax\n",
    "        return ax_other"
   ]
  },
  {
   "cell_type": "markdown",
   "metadata": {},
   "source": [
    "### OrchardSim Visualization Widget"
   ]
  },
  {
   "cell_type": "code",
   "execution_count": 4,
   "metadata": {
    "hide_input": true
   },
   "outputs": [
    {
     "data": {
      "application/vnd.jupyter.widget-view+json": {
       "model_id": "a909b748bb3343d7a5ee1955f03942d6",
       "version_major": 2,
       "version_minor": 0
      },
      "text/plain": [
       "interactive(children=(IntSlider(value=100, continuous_update=False, description='m', max=1000, min=10, step=10…"
      ]
     },
     "metadata": {},
     "output_type": "display_data"
    }
   ],
   "source": [
    "@interact(m = widgets.IntSlider(min=10,max=1000,step=10,value=100,continuous_update=False),\n",
    "         lam = widgets.IntSlider(min = 50, max = 400, step = 10, value = 211,continuous_update=False),\n",
    "         r1 = widgets.FloatSlider(min = 0,max = 5,step = 0.5,value = 5,continuous_update=False),\n",
    "         r2 =widgets.FloatSlider(min = 0,max = 5,step = 0.5,value = 3,continuous_update=False),\n",
    "         r3 = widgets.FloatSlider(min = 0,max = 5,step = 0.5,value = 1.50,continuous_update=False),\n",
    "         mu = widgets.FloatSlider(min = 130,max = 180,step = 10,value = 150,continuous_update=False),\n",
    "         sigma2 = widgets.FloatSlider(min =700,max = 1200,step = 50,value = 900,continuous_update=False),\n",
    "         alpha = widgets.IntSlider(min = 1,max = 100,step = 1,value = 5,continuous_update=False),\n",
    "         beta = widgets.IntSlider(min = 1,max = 100,step = 1,value = 5,continuous_update=False))\n",
    "\n",
    "def expZ(m,lam,r1,r2,r3,mu,sigma2,alpha,beta):\n",
    "\n",
    "\n",
    "    from matplotlib import pyplot as plt\n",
    "    nscen = 100\n",
    "    trees = m\n",
    "    amt_param = lam\n",
    "    q_alpha = alpha\n",
    "    q_beta = beta\n",
    "    w_mean = mu\n",
    "    w_var = sigma2\n",
    "    anls = OrchardSim(nscen,trees,amt_param,q_alpha,q_beta,\n",
    "                              w_mean,w_var,)\n",
    "    anls.simOrchardGrowth()\n",
    "\n",
    "\n",
    "    plt.figure(figsize=(18, 16), dpi= 80, facecolor='w', edgecolor='k')\n",
    "\n",
    "    plt.tight_layout()\n",
    "\n",
    "    ax1 = plt.subplot(311)\n",
    "    anls.plotRevenueDistn(ax1)\n",
    "\n",
    "    ax2 = plt.subplot(323)\n",
    "    anls.plotWeightDistn(ax2)\n",
    "\n",
    "    ax3 = plt.subplot(324)\n",
    "    anls.plotAmountDistn(ax3)\n",
    "\n",
    "    ax4 = plt.subplot(325)\n",
    "    anls.plotQualityDistn(ax4)\n",
    "\n",
    "    ax5 = plt.subplot(326)\n",
    "    anls.plotApplePriceDistn(ax5)\n",
    "\n"
   ]
  }
 ],
 "metadata": {
  "kernelspec": {
   "display_name": "Python 3",
   "language": "python",
   "name": "python3"
  },
  "language_info": {
   "codemirror_mode": {
    "name": "ipython",
    "version": 3
   },
   "file_extension": ".py",
   "mimetype": "text/x-python",
   "name": "python",
   "nbconvert_exporter": "python",
   "pygments_lexer": "ipython3",
   "version": "3.7.3"
  },
  "latex_envs": {
   "LaTeX_envs_menu_present": true,
   "autoclose": false,
   "autocomplete": true,
   "bibliofile": "biblio.bib",
   "cite_by": "apalike",
   "current_citInitial": 1,
   "eqLabelWithNumbers": true,
   "eqNumInitial": 1,
   "hotkeys": {
    "equation": "Ctrl-E",
    "itemize": "Ctrl-I"
   },
   "labels_anchors": false,
   "latex_user_defs": false,
   "report_style_numbering": false,
   "user_envs_cfg": false
  },
  "toc": {
   "base_numbering": 1,
   "nav_menu": {
    "height": "214.986px",
    "width": "315.994px"
   },
   "number_sections": true,
   "sideBar": true,
   "skip_h1_title": true,
   "title_cell": "Table of Contents",
   "title_sidebar": "Contents",
   "toc_cell": false,
   "toc_position": {
    "height": "620.895px",
    "left": "38px",
    "top": "11.1931px",
    "width": "225.043px"
   },
   "toc_section_display": true,
   "toc_window_display": true
  }
 },
 "nbformat": 4,
 "nbformat_minor": 2
}
