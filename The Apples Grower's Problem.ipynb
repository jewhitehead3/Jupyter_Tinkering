{
 "cells": [
  {
   "cell_type": "markdown",
   "metadata": {
    "hide_input": false
   },
   "source": [
    "<h1><center> Modeling and Simulation: Apple Orchard Revenue </center></h1?"
   ]
  },
  {
   "cell_type": "markdown",
   "metadata": {
    "code_folding": [],
    "hide_input": true,
    "scrolled": true
   },
   "source": [
    "<div>\n",
    "<img src=\"appleOrchard.jpg\",align=\"center\", width = \"600\">\n",
    "</div>"
   ]
  },
  {
   "cell_type": "markdown",
   "metadata": {},
   "source": [
    "## Problem Statement:\n",
    "An apple grower wishes to develop a simulation of her orchard's revenue in a single year. \n",
    "\n",
    "Suppose\n",
    "\n",
    "**-** There are *m* trees;\n",
    "\n",
    "**-** The number of apples produced by tree *i* is $A_i$;\n",
    "\n",
    "**-** The $\\text{j}^{th}$ apple from tree *i* is $a_{i,j}$\n",
    "\n",
    "**-** The quality of apply *j* from tree *i* is $Q_{i,j} \\in [0,1]$\n",
    "\n",
    "**-** The weight of apple *j* from tree i is $W_{i,j}$ in grams.\n",
    "\n",
    "**-** Apples of quality greater tha $0.9$ (premiium grade) receive a price of $\\$r_1$ per kilo\n",
    "\n",
    "**-** Apples of quality between $0.5$ and $0.9$ (first grade) receive a price of $\\$r_2$\n",
    "\n",
    "**-** Apples of quality less than $0.5$ (second grade) receive a price of $\\$r_3$ per kilo."
   ]
  },
  {
   "cell_type": "markdown",
   "metadata": {},
   "source": [
    "## Tasks"
   ]
  },
  {
   "cell_type": "markdown",
   "metadata": {},
   "source": [
    "### Task 1\n",
    "Write down an expression for the total return from the orchard (in a single year)\n",
    "\n",
    "#### Orchard's Total Return\n",
    "Define $P \\colon Q_{i,j} \\to \\{ \\$r_1,\\$r_2,\\$r_3 \\}$\n",
    "\n",
    "where $P$ is the function that maps from quality to price $\\$r_i$.\n",
    "\n",
    "Define $Z$ as the total return for the orchard.\n",
    "\n",
    "Then, we have\n",
    "\n",
    "\\begin{align*} Z = \\sum_i^{m}\\sum_j^{A_i} \\frac{P(Q_{i,j})}{1000}W_{i,j} \\end{align*}\n"
   ]
  },
  {
   "cell_type": "markdown",
   "metadata": {},
   "source": [
    "\n",
    "### Task 2\n",
    "\n",
    "- Suggest a type of distribution for $A_i$\n",
    "\n",
    "\n",
    "- Given that you know $A_i$, what is the distribution of the total number of premium grade apples from tree *i*, in terms of $p_1$ = $\\mathbb{P}(Q_{i,j} \\in [0.9,1])?$ \n",
    "\n",
    "\n",
    "- Suggest a type of distribution for $Q_{i,j}$\n",
    "\n",
    "\n",
    "- Suggest a type of distribution for $W_{i,j}$\n",
    "\n",
    "\n",
    "\n",
    "#### Distribution for *A*<sub>i</sub>\n",
    "\n"
   ]
  },
  {
   "cell_type": "markdown",
   "metadata": {},
   "source": [
    "We know that $A_i \\geq 0$, because $A_i$ is the number of apples produced by tree i. Thus, we restrict the distribution of $A_i$ to those with nonnegative, integer support.\n",
    "As $A_i$ represents the count of the number of apples produced by tree $i$, the Poisson distribution is a natural choice. Formally, we have \n",
    "$$A_i \\stackrel{iid}{\\sim} Poisson(\\lambda), \\text{for }  \\lambda \\geq 0$$\n",
    "\n",
    "Given $A_i$, the distribution of the total number of premium grade apples from tree $i$ is distributed as a Binomial random variable. Formally, if we define \n",
    "$$\\begin{align} p_i := & \\text{ # of premium grade apples from tree i}\\\\ \n",
    "A_i := & \\text{ # of apples produce by tree i}\\end{align}$$\n",
    "Then,\n",
    "$$\\begin{align} p_i|A_i \\sim Bin(A_i,p_1) \\end{align} = Bin(A_i, 0.1)$$\n",
    "\n",
    "#### Distribution for *Q*<sub>i,j</sub>\n",
    "$Q_{i,j}$ is the quality rating of the $j^{th}$ apple from the $i^{th}$ tree. Also, $Q_{i,j} \\in (0,1)$.\n",
    "Both a natural and flexibule choice of distribution is the Beta distribution. Fomrally, we take\n",
    "$$Q_{i,j} \\stackrel{iid}{\\sim} Beta(\\alpha,\\beta)$$\n",
    "\n",
    "#### Distribution for *W*<sub>i,j</sub>\n",
    "$W_{i,j}$ is the weight of $j^{th}$ apple from the $i^{th}$ tree. And so, $W_{i,j} \\geq 0$.\n",
    "Although, previous research has shown that the distribution of apple weight has a Normal distribution, the constraint of $W_{i,j} \\geq 0$ is obviously violated if $W_{i,j}$ is Normally distributed. \n",
    "\n",
    "A more pertinent distribution for apple weight is the Log-normal distribution whose justification will be given below. Formally, we have\n",
    "$$W_{i,j} \\stackrel{iid}{\\sim} Lognormal(\\mu,\\sigma^2)$$"
   ]
  },
  {
   "cell_type": "markdown",
   "metadata": {},
   "source": [
    "### Task 3\n",
    "Write down an expression for the expected return from the orchard (in a single year)\n",
    "\n",
    "$$\\begin{align} E[Z] = & E[ \\sum_i^{m}\\sum_j^{A_i} \\frac{P(Q_{i,j})}{1000}W_{i,j}]\\\\\n",
    "= & \\sum_i^{m}E[\\sum_j^{A_i} \\frac{P(Q_{i,j})}{1000}W_{i,j}] \\\\\n",
    "= & \\sum_i^{m}E[E[\\sum_j^{A_i} \\frac{P(Q_{i,j})}{1000}W_{i,j} |A_i]]\\\\\n",
    "= & \\sum_i^{m}E[A_i\\frac{E[P(Q_{i,j})]}{1000}E[W_{i,j}]]\\\\\n",
    "= & m\\Bigg[\\frac{\\lambda}{1000}\\big(r_1\\int_{0.9}^{1}f(q)dq + r_2\\int_{0.5}^{0.9}f(q)dq + r_3\\int_{0}^{0.5}f(q)dq\\Big)\\big(e^{\\mu + \\frac{\\sigma^2}{2}}\\Big)\\Bigg]\\end{align}$$\n",
    "\n",
    "\n",
    "\n",
    "\n",
    "#### Expected Return Widget\n",
    "To explore the effects of different levels of the parameters and of price, we create a widget that calculates expected revenue.\n",
    "\n"
   ]
  },
  {
   "cell_type": "code",
   "execution_count": 4,
   "metadata": {
    "hide_input": true
   },
   "outputs": [],
   "source": [
    "from ipywidgets import interact, interactive, fixed, interact_manual\n",
    "import numpy as np\n",
    "import ipywidgets as widgets\n",
    "import scipy.stats as stats"
   ]
  },
  {
   "cell_type": "code",
   "execution_count": 5,
   "metadata": {
    "code_folding": [
     0,
     10,
     11
    ],
    "hide_input": true,
    "scrolled": false
   },
   "outputs": [
    {
     "data": {
      "application/vnd.jupyter.widget-view+json": {
       "model_id": "36de428df4ba4287bfbb4a8884abac8d",
       "version_major": 2,
       "version_minor": 0
      },
      "text/plain": [
       "interactive(children=(IntSlider(value=1, description='m', min=1), IntSlider(value=50, description='lam', max=4…"
      ]
     },
     "metadata": {},
     "output_type": "display_data"
    }
   ],
   "source": [
    "@interact(m = widgets.IntSlider(min=1,max=100,step=1,value=1),\n",
    "         lam = widgets.IntSlider(min = 50, max = 400, step = 10, value = 50),\n",
    "         r1 = widgets.FloatSlider(min = 0,max = 5,step = 0.5,value = 1),\n",
    "         r2 =widgets.FloatSlider(min = 0,max = 5,step = 0.5,value = 1),\n",
    "         r3 = widgets.FloatSlider(min = 0,max = 5,step = 0.5,value = 1),\n",
    "         mu = widgets.FloatSlider(min = 2,max = 7,step = .5,value = 1),\n",
    "         sigma2 = widgets.FloatSlider(min = 0.01,max = 0.05,step = 0.001,value = 0.01),\n",
    "         alpha = widgets.IntSlider(min = 1,max = 100,step = 1,value = 5),\n",
    "         beta = widgets.IntSlider(min = 1,max = 100,step = 1,value = 5))\n",
    "\n",
    "def expZ(m,lam,r1,r2,r3,mu,sigma2,alpha,beta):\n",
    "    result = (m*(lam)/1000)*((r1)*(stats.beta.cdf(1,alpha,beta)-stats.beta.cdf(0.9,alpha,beta))\n",
    "                         + (r2)*(stats.beta.cdf(0.9,alpha,beta)-stats.beta.cdf(0.5,alpha,beta))\n",
    "                         + (r3)*(stats.beta.cdf(0.5,alpha,beta)))*np.exp(mu + (sigma2/2))\n",
    "    print(\"\\n\\n\\tExpected Revenue: ${0:.2f}\".format(result))\n"
   ]
  },
  {
   "cell_type": "markdown",
   "metadata": {},
   "source": [
    "## Model Realism and Assumptions"
   ]
  },
  {
   "cell_type": "markdown",
   "metadata": {
    "hide_input": false
   },
   "source": [
    "To ensure an adequate amount of realism in the modeling of apple-tree production and apple weights, we incorporate the results of three articles:\n",
    "\n",
    "1. The Journal of the American Society for Horticultural Science by Miranda, Carlos  and Royo, J.,  [Statistical Model Estimates Potential Yields in Golden Delicious and Royal Gala Apples before Bloom(2003)](https://www.researchgate.net/publication/248701745_Statistical_Model_Estimates_Potential_Yields_in_Golden_Delicious'_and_Royal_Gala'_Apples_before_Bloom).\n",
    "\n",
    "\n",
    "2. The New Zealand Journal of Crop and Horticultural Science, by Jianlu Zhang , Graham F. Thiele & Richard N. Rowe \n",
    "[Gala apple fruit (1995)](https://www.tandfonline.com/doi/pdf/10.1080/01140671.1995.9513871).\n",
    "\n",
    "\n",
    "3. Hessong, Athena. (n.d.). When Do Apple Trees Set Fruit? Home Guides | SF Gate. http://homeguides.sfgate.com/apple-trees-set-fruit-58656.html\n",
    "\n",
    "\n",
    "\n",
    "The results of article (1) that will used are the following:\n",
    "1. $\\text{Fruit Weight of Golden Delicious Apples (g/apple): Mean $\\pm$ SD =}$ $157.4 \\pm 19.7$\n",
    "\n",
    "\n",
    "2. $\\text{Yield per Golden Delicious Apple Tree (kg/tree): Mean $\\pm$ SD =}$ $33.2 \\pm 15.4$\n",
    "\n",
    "\n",
    "\n",
    "The result of article (2) that will be used and ***modified*** are:\n",
    "\n",
    "1. $\\text{The distribution of apple weights takes the shape of a Normal distribution}$.\n",
    "\n",
    "The result of article (3) that will be used is:\n",
    "\n",
    "1. $\\text{After the fruit has set on the tree, it can take between 100 and 200 days for the apples to be ready for harvest}$\n",
    "\n",
    "\n",
    "### Modeling *A*<sub>i</sub>\n",
    "\n",
    "We have already specified the number of apples produced by tree $i$, $A_i$, as a Poisson random variable with parameter $\\lambda$.\n",
    "\n",
    "We know that the $mle$ estimate of $\\lambda$ from an $iid$ sample $A_1, A_2, \\ldots, A_n$ drawn from a Poisson distribution is $\\bar A = n^{-1}\\sum_{i=1}^{n}A_i$.\n",
    "\n",
    "As a proxy to the mle estimate, we calculate $\\bar A$ from the mean apple weight and mean yield per apple tree as follows:"
   ]
  },
  {
   "cell_type": "markdown",
   "metadata": {},
   "source": [
    "Define\n",
    "\n",
    "$\\bar{W} :=$ mean fruit weight of apples (g/apple)\n",
    "\n",
    "$\\bar Y : = $ mean yield per apple tree (kg/tree)"
   ]
  },
  {
   "cell_type": "markdown",
   "metadata": {},
   "source": [
    "$$\\begin{align} \\hat \\lambda = & \\frac{\\bar Y \\text{(kg/tree)}}{\\bar W \\text{(g/apple)}}\\\\\n",
    "= & \\frac{1000 \\bar Y \\text{(g/tree)}}{\\bar W \\text{(g/apple)}}\\\\\n",
    "= & 1000\\frac{ \\bar Y}{\\bar W}\\text{(apple/tree)} \\approx 211 \\text{(apple/tree)}\\end{align}$$\n",
    " "
   ]
  },
  {
   "cell_type": "markdown",
   "metadata": {},
   "source": [
    "### Modeling *W*<sub>i,j</sub>\n",
    "\n"
   ]
  },
  {
   "cell_type": "markdown",
   "metadata": {},
   "source": [
    "The article, Gala apple fruit, by Zhang, Thiele, and Rowe found that the distribution of weight (g) of Gala apples was apparently Normal. This implies that the support of $W_{i,j}$, the weight of $j^{th}$ apple from the $i^{th}$ tree, is $(-\\infty, \\infty)$. This goes against common sense.\n",
    "\n",
    "Whatever growth process produces the distribution of apple weights, it can never results in an apple at maturity having negative weight. For this reason, any distribution that assigns positive probability, however small, to apple weights that are less than zero are incorrect.\n",
    "\n",
    "\n",
    "\n",
    "#### An Exponential Growth Process for Apple Weight\n",
    "\n",
    "Many natural growth processes are driven by the accumulation of small, apparently random, percentage changes over time. On the log scale, these changes become additive, and by the Central Limit Theorem, have a Normal distribution.\n",
    "\n",
    "We hypothesize that the underlying growth process of an apple is a function of an exponential growth process. In fact, it seems plausible that a logistic growth process would characterize the apple's weight trajectory during its maturation, as both the maximum weight of each apple is contrained by biological and environmental factors and the rate of increase of the weight of an apple should decrease as it approaches its expected maximum weight.\n",
    "\n",
    "For our purposes, however, it will be sufficient to model the weight of $j^{th}$ apple from the $i^{th}$ tree on day $t$, according to a stochastic exponential growth equation such that\n",
    "\n",
    "$$\\begin{align} & W_{i,j}(t) = P_0\\text{ }e^{Rt}\\\\\n",
    "\\text{where, } & P_0 = 1\\\\\n",
    "& R \\sim N(\\mu,\\sigma^2) \\end{align}$$\n",
    "\n"
   ]
  },
  {
   "cell_type": "markdown",
   "metadata": {},
   "source": [
    "If we wanted a plausiable trajectory of the growth of an apple over its maturation, we might heuristically take the number of days of growth, $D$, to be 150, the average of the upper and lower bounds for the number of days for an apple to grow, given by article (3).\n",
    "\n",
    "Next, we would need to back out $\\mu$ and $\\sigma^2$ for the Normal distribution of daily growth rates.\n",
    "\n",
    "To do this, we rely upon the relationship between the $Normal$ and $Lognormal$ distributions such that:\n",
    "\n",
    "If $X \\sim N(\\mu_x,\\sigma^2_x)$, then $Y = e^x \\sim LN(\\mu_y, \\sigma^2_y)$, then given $\\mu_y$ and $\\sigma^2_y$,\n",
    "\n",
    "$$\\begin{align} \\mu_x & = 2\\ln(\\mu_y) - \\frac{1}{2}\\ln(\\sigma^2_y + \\mu_y^2)\\\\\n",
    "\\sigma^2_x & = -2\\ln(\\mu_y) + \\frac{1}{2}\\ln(\\sigma^2_y + \\mu_y^2) \\end{align}$$"
   ]
  },
  {
   "cell_type": "code",
   "execution_count": null,
   "metadata": {},
   "outputs": [],
   "source": []
  }
 ],
 "metadata": {
  "kernelspec": {
   "display_name": "Python 3",
   "language": "python",
   "name": "python3"
  },
  "language_info": {
   "codemirror_mode": {
    "name": "ipython",
    "version": 3
   },
   "file_extension": ".py",
   "mimetype": "text/x-python",
   "name": "python",
   "nbconvert_exporter": "python",
   "pygments_lexer": "ipython3",
   "version": "3.7.3"
  },
  "latex_envs": {
   "LaTeX_envs_menu_present": true,
   "autoclose": false,
   "autocomplete": true,
   "bibliofile": "biblio.bib",
   "cite_by": "apalike",
   "current_citInitial": 1,
   "eqLabelWithNumbers": true,
   "eqNumInitial": 1,
   "hotkeys": {
    "equation": "Ctrl-E",
    "itemize": "Ctrl-I"
   },
   "labels_anchors": false,
   "latex_user_defs": false,
   "report_style_numbering": false,
   "user_envs_cfg": false
  },
  "toc": {
   "base_numbering": 1,
   "nav_menu": {
    "height": "214.986px",
    "width": "315.994px"
   },
   "number_sections": true,
   "sideBar": true,
   "skip_h1_title": true,
   "title_cell": "Table of Contents",
   "title_sidebar": "Contents",
   "toc_cell": false,
   "toc_position": {
    "height": "620.895px",
    "left": "38px",
    "top": "11.1931px",
    "width": "201.861px"
   },
   "toc_section_display": true,
   "toc_window_display": true
  }
 },
 "nbformat": 4,
 "nbformat_minor": 2
}
