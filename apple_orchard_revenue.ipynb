{
 "cells": [
  {
   "cell_type": "markdown",
   "metadata": {},
   "source": [
    "<h1><center> Modeling and Simulation: Apple Orchard Revenue </center></h1>"
   ]
  },
  {
   "cell_type": "markdown",
   "metadata": {},
   "source": [
    "<img src='files/appleOrchard.jpg'/> "
   ]
  },
  {
   "cell_type": "markdown",
   "metadata": {},
   "source": [
    "## Problem Statement:\n",
    "An apple grower wishes to develop a simulation of her orchard's revenue in a single year. \n",
    "\n",
    "Suppose\n",
    "\n",
    "**-** There are *m* trees;\n",
    "\n",
    "**-** The number of apples produced by tree *i* is $A_i$;\n",
    "\n",
    "**-** The $\\text{j}^{th}$ apple from tree *i* is $a_{i,j}$\n",
    "\n",
    "**-** The quality of apply *j* from tree *i* is $Q_{i,j} \\in [0,1]$\n",
    "\n",
    "**-** The weight of apple *j* from tree i is $W_{i,j}$ in grams.\n",
    "\n",
    "**-** Apples of quality greater tha $0.9$ (premiium grade) receive a price of $\\$r_1$ per kilo\n",
    "\n",
    "**-** Apples of quality between $0.5$ and $0.9$ (first grade) receive a price of $\\$r_2$\n",
    "\n",
    "**-** Apples of quality less than $0.5$ (second grade) receive a price of $\\$r_3$ per kilo."
   ]
  },
  {
   "cell_type": "markdown",
   "metadata": {},
   "source": [
    "## Tasks"
   ]
  },
  {
   "cell_type": "markdown",
   "metadata": {},
   "source": [
    "### Task 1\n",
    "Write down an expression for the total return from the orchard (in a single year)\n",
    "\n",
    "#### Orchard's Total Return\n",
    "Define $P \\colon Q_{i,j} \\to$ $\\text{{\\$ $r_1$,\\$ $r_2$,\\$ $r_3$}}$\n",
    "\n",
    "where $P$ is the function that maps from quality to price $\\$r_i$.\n",
    "\n",
    "Define $Z$ as the total return for the orchard.\n",
    "\n",
    "Then, we have\n",
    "\n",
    "\\begin{align*} Z = \\sum_i^{m}\\sum_j^{A_i} \\frac{P(Q_{i,j})}{1000}W_{i,j} \\end{align*}\n"
   ]
  },
  {
   "cell_type": "markdown",
   "metadata": {},
   "source": [
    "\n",
    "### Task 2\n",
    "\n",
    "- Suggest a type of distribution for $A_i$\n",
    "\n",
    "\n",
    "- Given that you know $A_i$, what is the distribution of the total number of premium grade apples from tree *i*, in terms of $p_1$ = $\\mathbb{P}(Q_{i,j} \\in [0.9,1])?$ \n",
    "\n",
    "\n",
    "- Suggest a type of distribution for $Q_{i,j}$\n",
    "\n",
    "\n",
    "- Suggest a type of distribution for $W_{i,j}$\n",
    "\n",
    "\n",
    "\n",
    "#### Distribution for *A*<sub>i</sub>\n",
    "\n"
   ]
  },
  {
   "cell_type": "markdown",
   "metadata": {},
   "source": [
    "We know that $A_i \\geq 0$, because $A_i$ is the number of apples produced by tree i. Thus, we restrict the distribution of $A_i$ to those with nonnegative, integer support.\n",
    "As $A_i$ represents the count of the number of apples produced by tree $i$, the Poisson distribution is a natural choice. Formally, we have \n",
    "$$A_i \\stackrel{iid}{\\sim} Poisson(\\lambda), \\text{for }  \\lambda \\geq 0$$\n",
    "\n",
    "Given $A_i$, the distribution of the total number of premium grade apples from tree $i$ is distributed as a Binomial random variable. Formally, if we define"
   ]
  },
  {
   "cell_type": "markdown",
   "metadata": {},
   "source": [
    "$$\\begin{aligned}p_i & :=  \\# \\text{ of premium grade apples from tree i}\\\\\n",
    "A_i & :=  \\#  \\text{ of apples produce by tree i}\\\\\n",
    "& \\text{then,}\\\\\n",
    "p_i|A_i & \\sim Bin(A_i,p_1 = Bin(A_i, 0.1))\\end{aligned}$$\n",
    "\n",
    "#### Distribution for *Q*<sub>i,j</sub>\n",
    "$Q_{i,j}$ is the quality rating of the $j^{th}$ apple from the $i^{th}$ tree. Also, $Q_{i,j} \\in (0,1)$.\n",
    "Both a natural and flexibule choice of distribution is the Beta distribution. Fomrally, we take\n",
    "$$Q_{i,j} \\stackrel{iid}{\\sim} Beta(\\alpha,\\beta)$$\n",
    "\n",
    "#### Distribution for *W*<sub>i,j</sub>\n",
    "$W_{i,j}$ is the weight of $j^{th}$ apple from the $i^{th}$ tree. And so, $W_{i,j} \\geq 0$.\n",
    "Although, previous research has shown that the distribution of apple weight has a Normal distribution, the constraint of $W_{i,j} \\geq 0$ is obviously violated if $W_{i,j}$ is Normally distributed. \n",
    "\n",
    "A more pertinent distribution for apple weight is the Log-normal distribution whose justification will be given below. Formally, we have\n",
    "$$W_{i,j} \\stackrel{iid}{\\sim} Lognormal(\\mu,\\sigma^2)$$"
   ]
  },
  {
   "cell_type": "markdown",
   "metadata": {},
   "source": [
    "### Task 3\n",
    "Write down an expression for the expected return from the orchard (in a single year)\n",
    "\n",
    "$$\\begin{aligned} E[Z] = & E[ \\sum_i^{m}\\sum_j^{A_i} \\frac{P(Q_{i,j})}{1000}W_{i,j}]\\\\\n",
    "= & \\sum_i^{m}E[\\sum_j^{A_i} \\frac{P(Q_{i,j})}{1000}W_{i,j}] \\\\\n",
    "= & \\sum_i^{m}E[E[\\sum_j^{A_i} \\frac{P(Q_{i,j})}{1000}W_{i,j} |A_i]]\\\\\n",
    "= & \\sum_i^{m}E[A_i\\frac{E[P(Q_{i,j})]}{1000}E[W_{i,j}]]\\\\\n",
    "= & m\\Bigg[\\frac{\\lambda}{1000}\\big(r_1\\int_{0.9}^{1}f(q)dq + r_2\\int_{0.5}^{0.9}f(q)dq + r_3\\int_{0}^{0.5}f(q)dq\\Big)\\big(e^{\\mu + \\frac{\\sigma^2}{2}}\\Big)\\Bigg]\\end{aligned}$$\n",
    "\n",
    "\n",
    "\n",
    "\n",
    "#### Expected Return Widget\n",
    "To explore the effects of different levels of the parameters and of price, we create a widget that calculates expected revenue from the above formula.\n",
    "\n"
   ]
  },
  {
   "cell_type": "code",
   "execution_count": 47,
   "metadata": {
    "hide_input": true
   },
   "outputs": [],
   "source": [
    "from ipywidgets import interact, interactive, fixed, interact_manual\n",
    "import numpy as np\n",
    "import ipywidgets as widgets\n",
    "import scipy.stats as stats"
   ]
  },
  {
   "cell_type": "code",
   "execution_count": 48,
   "metadata": {
    "code_folding": [
     0,
     10,
     11
    ],
    "hide_input": true,
    "scrolled": false
   },
   "outputs": [
    {
     "data": {
      "application/vnd.jupyter.widget-view+json": {
       "model_id": "8c5de26cd3ce4dc580021202092290fe",
       "version_major": 2,
       "version_minor": 0
      },
      "text/plain": [
       "interactive(children=(IntSlider(value=1, description='m', min=1), IntSlider(value=50, description='lam', max=4…"
      ]
     },
     "metadata": {},
     "output_type": "display_data"
    }
   ],
   "source": [
    "@interact(m = widgets.IntSlider(min=1,max=100,step=1,value=1),\n",
    "         lam = widgets.IntSlider(min = 50, max = 400, step = 10, value = 50),\n",
    "         r1 = widgets.FloatSlider(min = 0,max = 5,step = 0.5,value = 1),\n",
    "         r2 =widgets.FloatSlider(min = 0,max = 5,step = 0.5,value = 1),\n",
    "         r3 = widgets.FloatSlider(min = 0,max = 5,step = 0.5,value = 1),\n",
    "         mu = widgets.FloatSlider(min = 2,max = 7,step = .5,value = 1),\n",
    "         sigma2 = widgets.FloatSlider(min = 0.01,max = 0.05,step = 0.001,value = 0.01),\n",
    "         alpha = widgets.IntSlider(min = 1,max = 100,step = 1,value = 5),\n",
    "         beta = widgets.IntSlider(min = 1,max = 100,step = 1,value = 5))\n",
    "\n",
    "def expZ(m,lam,r1,r2,r3,mu,sigma2,alpha,beta):\n",
    "    result = (m*(lam)/1000)*((r1)*(stats.beta.cdf(1,alpha,beta)-stats.beta.cdf(0.9,alpha,beta))\n",
    "                         + (r2)*(stats.beta.cdf(0.9,alpha,beta)-stats.beta.cdf(0.5,alpha,beta))\n",
    "                         + (r3)*(stats.beta.cdf(0.5,alpha,beta)))*np.exp(mu + (sigma2/2))\n",
    "    print(\"\\n\\n\\tExpected Revenue: ${0:.2f}\".format(result))\n"
   ]
  },
  {
   "cell_type": "markdown",
   "metadata": {},
   "source": [
    "## Model Realism and Assumptions"
   ]
  },
  {
   "cell_type": "markdown",
   "metadata": {
    "hide_input": false
   },
   "source": [
    "To ensure an adequate amount of realism in the modeling of apple-tree production and apple weights, we incorporate the results of three articles:\n",
    "\n",
    "1. The Journal of the American Society for Horticultural Science by Miranda, Carlos  and Royo, J.,  [Statistical Model Estimates Potential Yields in Golden Delicious and Royal Gala Apples before Bloom(2003)](https://www.researchgate.net/publication/248701745_Statistical_Model_Estimates_Potential_Yields_in_Golden_Delicious'_and_Royal_Gala'_Apples_before_Bloom).\n",
    "\n",
    "\n",
    "2. The New Zealand Journal of Crop and Horticultural Science, by Jianlu Zhang , Graham F. Thiele & Richard N. Rowe \n",
    "[Gala apple fruit (1995)](https://www.tandfonline.com/doi/pdf/10.1080/01140671.1995.9513871).\n",
    "\n",
    "\n",
    "3. Hessong, Athena. (n.d.). When Do Apple Trees Set Fruit? Home Guides | SF Gate. http://homeguides.sfgate.com/apple-trees-set-fruit-58656.html\n",
    "\n",
    "\n",
    "\n",
    "The results of article (1) that will used are the following:\n",
    "1. $\\text{Fruit Weight of Golden Delicious Apples (g/apple): Mean $\\pm$ SD =}$ $157.4 \\pm 19.7$\n",
    "\n",
    "\n",
    "2. $\\text{Yield per Golden Delicious Apple Tree (kg/tree): Mean $\\pm$ SD =}$ $33.2 \\pm 15.4$\n",
    "\n",
    "\n",
    "\n",
    "The result of article (2) that will be used and ***modified*** are:\n",
    "\n",
    "1. $\\text{The distribution of apple weights takes the shape of a Normal distribution}$.\n",
    "\n",
    "The result of article (3) that will be used is:\n",
    "\n",
    "1. $\\text{Fruit that has set on the tree can take between 100 and 200 days for the apples to be ready for harvest}$\n",
    "\n",
    "\n",
    "### Modeling *A*<sub>i</sub>\n",
    "\n",
    "We have already specified the number of apples produced by tree $i$, $A_i$, as a Poisson random variable with parameter $\\lambda$.\n",
    "\n",
    "We know that the $mle$ estimate of $\\lambda$ from an $iid$ sample $A_1, A_2, \\ldots, \n",
    "A_n$ drawn from a Poisson distribution is $\\bar{A} = n^{-1}\\sum_{i=1}^{n}A_i$.\n",
    "\n",
    "As a proxy to the mle estimate, we calculate $\\bar{A}$ from the mean apple weight \n",
    "and mean yield per apple tree as follows:"
   ]
  },
  {
   "cell_type": "markdown",
   "metadata": {},
   "source": [
    "Define\n",
    "\n",
    "$\\bar{W}$ $:=$  mean fruit weight of apples (g/apple)\n",
    "\n",
    "$\\bar{Y}$ $:=$  mean yield per apple tree (kg/tree)"
   ]
  },
  {
   "cell_type": "markdown",
   "metadata": {},
   "source": [
    "$$\\begin{aligned} \n",
    "\\lambda_{mle}\n",
    "= & \\frac{\\bar{Y} \\text{(kg/tree)}}{\\bar{W} \\text{(g/apple)}}\\\\\n",
    "= & \\frac{1000 \\bar{Y} \\text{(g/tree)}}{\\bar{W} \\text{(g/apple)}}\\\\\n",
    "= & 1000\\frac{ \\bar{Y}}{\\bar{W}}\\text{(apple/tree)} \\approx 211 \\text{(apple/tree)}\n",
    "\\end{aligned}$$"
   ]
  },
  {
   "cell_type": "markdown",
   "metadata": {},
   "source": [
    "### Modeling *W*<sub>i,j</sub>\n",
    "\n"
   ]
  },
  {
   "cell_type": "markdown",
   "metadata": {},
   "source": [
    "The article, Gala apple fruit, by Zhang, Thiele, and Rowe found that the distribution of weight (g) of Gala apples was apparently Normal. This implies that the support of $W_{i,j}$, the weight of $j^{th}$ apple from the $i^{th}$ tree, is $(-\\infty, \\infty)$. Yet, we know all apples have non-negative weight.\n",
    "\n",
    "Whatever growth process produces the distribution of apple weights, it can never results in an apple at maturity having negative weight. For this reason, any distribution that assigns positive probability, however small, to apple weights that are less than zero are incorrect.\n",
    "\n",
    "\n",
    "\n",
    "#### An Exponential Growth Process for Apple Weight\n",
    "\n",
    "Many natural growth processes are driven by the accumulation of small, apparently random, percentage changes over time. On the log scale, these changes become additive, and by the Central Limit Theorem, have a Normal distribution.\n",
    "\n",
    "We hypothesize that the underlying growth process of an apple is a function of an exponential growth process. In fact, it seems plausible that a logistic growth process would characterize the apple's weight trajectory during its maturation, as both the maximum weight of each apple is contrained by biological and environmental factors and the rate of increase of the weight of an apple should decrease as it approaches its expected maximum weight.\n",
    "\n",
    "For our purposes, however, it will be sufficient to model the weight of $j^{th}$ apple from the $i^{th}$ tree on day $t$, according to a stochastic exponential growth equation such that\n",
    "\n",
    "$$\\begin{aligned} & W_{i,j}(t) = P_0\\text{ }e^{Rt}\\\\\n",
    "\\text{where, } & P_0 = 1\\\\\n",
    "& R \\sim N(\\mu,\\sigma^2) \\end{aligned}$$\n",
    "\n"
   ]
  },
  {
   "cell_type": "markdown",
   "metadata": {},
   "source": [
    "If we wanted a plausiable trajectory of the growth of an apple over its maturation, we might heuristically take the number of days of growth, $D$, to be 150, the average of the upper and lower bounds for the number of days for an apple to grow, given by article (3).\n",
    "\n",
    "Next, we would need to back out $\\mu$ and $\\sigma^2$ for the Normal distribution of daily growth rates.\n",
    "\n",
    "To do this, we rely upon the relationship between the $Normal$ and $Lognormal$ distributions such that:\n",
    "\n",
    "If $X \\sim N(\\mu_x,\\sigma^2_x)$, then $Y = e^x \\sim LN(\\mu_y, \\sigma^2_y)$, then given $\\mu_y$ and $\\sigma^2_y$,\n"
   ]
  },
  {
   "cell_type": "markdown",
   "metadata": {},
   "source": [
    "$$\\begin{aligned} \\mu_x & = 2\\ln(\\mu_y) - \\frac{1}{2}\\ln(\\sigma^2_y + \\mu_y^2)\\\\\n",
    "\\sigma^2_x & = -2\\ln(\\mu_y) + \\frac{1}{2}\\ln(\\sigma^2_y + \\mu_y^2) \\end{aligned}$$"
   ]
  },
  {
   "cell_type": "markdown",
   "metadata": {},
   "source": [
    "From article (1), we have $\\hat \\mu_y \\approx 157$ and $\\hat \\sigma^2_y \\approx 388$. Also, we assume that the data on which these statistics are calculated are Lognormally distributed.\n",
    "\n",
    "Thus, from the relationship between the parameters of the $Normal$ and $Lognormal$ above, we have\n",
    "\n",
    "$$\\begin{aligned} \\mu_x & \\approx 5 \\\\\n",
    "\\sigma^2_x & \\approx 0.04 \\end{aligned}$$\n",
    "\n",
    "\n",
    "The above values of $\\hat{\\mu_x}$ and $\\hat{\\sigma^2_x}$ are the parameters for a full season of growth, i.e., approximately 150 days.\n",
    "\n",
    "Parameter values for daily growth would be $\\frac{\\hat{\\mu_x}}{150}$ and $\\frac{\\hat{\\sigma^2_x}}{150^2}$\n",
    "\n",
    "For revenue simulation purposes, however, we will have need only of the maturity distribution of apple weight. And so, we will use $\\hat{\\mu_x} \\approx 5$ and $\\hat{\\sigma^2_x} \\approx 0.04$ for the parameters of the distribution of the seasonal growth for apple weight."
   ]
  },
  {
   "cell_type": "markdown",
   "metadata": {},
   "source": [
    "### Modeling *Q*<sub>i,j</sub>\n",
    "\n",
    "We allow for flexibility in specifying the shape of the distribution of the quality of apples through giving the user the ability to change the parameter values of the $Beta$ distribution."
   ]
  },
  {
   "cell_type": "markdown",
   "metadata": {},
   "source": [
    "## Orchard Simulation Class and Visualization"
   ]
  },
  {
   "cell_type": "markdown",
   "metadata": {},
   "source": [
    "Next, we create an Orchard Simulation class called OrchardSim to allow for a cleaner more tractable qualitative analysis of the relationship of orchard revenue to the random variables of apple amount, quality, and weight.\n",
    "\n"
   ]
  },
  {
   "cell_type": "markdown",
   "metadata": {
    "hide_input": false
   },
   "source": [
    "### OrchardSim Class"
   ]
  },
  {
   "cell_type": "code",
   "execution_count": 49,
   "metadata": {
    "hide_input": true
   },
   "outputs": [],
   "source": [
    "\n",
    "## orchard_revenue.py\n",
    "# Class definition for orchard revenue simulation\n",
    "\n",
    "from __future__ import print_function\n",
    "import seaborn as sns\n",
    "import numpy as np\n",
    "\n",
    "\n",
    "\n",
    "class OrchardSim:\n",
    "    \"\"\"\n",
    "        Class used to simulate apple orchard revenues\n",
    "        \n",
    "        Attributes \n",
    "        --------------\n",
    "        nscen (int):\n",
    "            the number of scenarios to simulate\n",
    "        \n",
    "        trees (int):\n",
    "            the number of trees in the orchard\n",
    "        \n",
    "        R (list):\n",
    "            a list of revenue per kilogram of apples by grade\n",
    "            \n",
    "            R[0] premium grade revenue per kilogram\n",
    "            \n",
    "            R[1] first grade revenue per kilogram\n",
    "            \n",
    "            R[2] second grade revenue per kilogram\n",
    "        \n",
    "        qualityCutoff (list):\n",
    "            a list of quality cutoffs\n",
    "            \n",
    "            qualityCutoff[0] premium grade lower bound\n",
    "            \n",
    "            qualityCutoff[1] first grade upper bound\n",
    "            \n",
    "            qualityCutoff[i] in (0,1)\n",
    "        \n",
    "        amt_param (int):\n",
    "            the paramter for the Poisson distribution to simulate number of apples grown on a tree\n",
    "\n",
    "        q_alpha (float):\n",
    "            parmater for Beta distribution to simulate quality of apples\n",
    "        \n",
    "        q_beta (float):\n",
    "            parameter for Beta distribution to simulate quality of apples\n",
    "            \n",
    "        w_mean (float):\n",
    "            mean for Normal distribution to simulate apple weights\n",
    "            \n",
    "        w_var (float):\n",
    "            variance for Normal distribution to simulate apple weights\n",
    "        \n",
    "        \"\"\"\n",
    "    @ staticmethod\n",
    "    def inverseMu(ybar,s2_hat):\n",
    "        t1 = 2*np.log(ybar)\n",
    "        t2 = (1/2)*np.log(s2_hat + ybar**2)\n",
    "        return(t1 - t2)\n",
    "    @ staticmethod\n",
    "    def inverseVar(ybar,s2_hat):\n",
    "        t1 = np.log(s2_hat + ybar**2)\n",
    "        t2 = 2*np.log(ybar)\n",
    "        return(t1 - t2)\n",
    "\n",
    "    def __init__(self,nscen,trees,amt_param,q_alpha,q_beta,w_mean,w_var,R = [2,1.5,1],qualityCutoff = [0.5,0.9]):\n",
    "   \n",
    "        self.nscen = nscen\n",
    "        self.trees = trees\n",
    "        \n",
    "        # price per kilo for grade 1 apples\n",
    "        self.r1 = R[0]\n",
    "        # price per kilo for grade 2 apples\n",
    "        self.r2 = R[1]\n",
    "        # price per kilo for grade 3 apples\n",
    "        self.r3 = R[2]\n",
    "        self.rev_list = [self.r1,self.r2,self.r3]\n",
    "        \n",
    "        self.A = np.zeros([self.trees,nscen])\n",
    "        self.amt_param = amt_param\n",
    "\n",
    "        self.Q = np.zeros([self.trees,nscen])\n",
    "        self.q_alpha = q_alpha\n",
    "        self.q_beta = q_beta\n",
    "        \n",
    "        self.gprem_ub = 1\n",
    "        self.gprem_lb = qualityCutoff[1]\n",
    "        self.g1st_ub = qualityCutoff[1]\n",
    "        self.g1st_lb = qualityCutoff[0]\n",
    "        self.g2nd_ub = qualityCutoff[0]\n",
    "        self.g2nd_lb = 0\n",
    "       \n",
    "    \n",
    "        self.w_mean = self.inverseMu(w_mean,w_var)\n",
    "        self.w_sd = np.sqrt(self.inverseVar(w_mean,w_var))\n",
    "        \n",
    "        self.rev_df = np.zeros(nscen)\n",
    "    \n",
    "\n",
    "    def priceMap(self,q):\n",
    "        \"\"\"\n",
    "        Function to map quality of apples to prices\n",
    "        \n",
    "        \"\"\"\n",
    "        if( q >= self.gprem_lb):\n",
    "            p = self.r1\n",
    "            return(p)\n",
    "        elif(q >= self.g1st_lb and q < self.gprem_lb):\n",
    "            p = self.r2\n",
    "            return(p)\n",
    "        else:\n",
    "            p = self.r3\n",
    "            return(p)\n",
    "    \n",
    "    def simOrchardGrowth(self):\n",
    "        \"\"\"\n",
    "        Function to simulate orchard growth and revenue\n",
    "        \"\"\"\n",
    "        # Simulate number of apples produced by trees across all scenarios\n",
    "        self.A = np.random.poisson(self.amt_param,[self.trees,self.nscen])\n",
    "       \n",
    "        # Create array of total number of apples produced in each scenario\n",
    "        totalA = self.A.sum(0)\n",
    "        self.Q_list = []\n",
    "        self.P_list = []\n",
    "        self.W_list = []\n",
    "        # Vectorize priceMap function\n",
    "        pMapVec = np.vectorize(self.priceMap)\n",
    "   \n",
    "        for scen in range(self.nscen):\n",
    "            q = np.random.beta(self.q_alpha,self.q_beta,totalA[scen])\n",
    "            self.Q_list.append(q)\n",
    "            p = pMapVec(q)\n",
    "            self.P_list.append(p)\n",
    "            w = np.exp(np.random.normal(self.w_mean, self.w_sd, totalA[scen]))\n",
    "            self.W_list.append(w)\n",
    "            self.rev_df[scen] = (1/1000)*np.dot(w,p)\n",
    "            \n",
    "    def plotRevenueDistn(self,ax_other = None):\n",
    "        hist_kws_dict={\"histtype\": \"bar\", \"linewidth\": 1.5,\n",
    "                  \"alpha\": 1, \"color\": \"g\",\"edgecolor\":\"black\"}\n",
    "        ax = sns.distplot(self.rev_df,kde = False, hist_kws = hist_kws_dict)\n",
    "        ax.set_title(\"Histogram of Orchard Revenue\")\n",
    "        ax.set_xlabel(\"Revenue ($)\")\n",
    "        ax.set_ylabel(\"Count\")\n",
    "        ax_other = ax\n",
    "        return ax_other\n",
    "\n",
    "        \n",
    "    \n",
    "    def plotQualityDistn(self,ax_other = None):\n",
    "        hist_kws_dict={\"histtype\": \"bar\", \"linewidth\": 1.5,\n",
    "                  \"alpha\": 1, \"color\": \"g\",\"edgecolor\":\"black\"}\n",
    "        y = np.hstack(self.Q_list)\n",
    "        ax = sns.distplot(y,kde = False, hist_kws = hist_kws_dict)\n",
    "        ax.set_title(\"Histogram of Quality of Apples\")\n",
    "        ax.set_xlabel(\"Apple Quality\")\n",
    "        ax.set_ylabel(\"Count\")\n",
    "        ax_other = ax\n",
    "        return ax_other\n",
    "\n",
    " \n",
    "    def plotWeightDistn(self,ax_other = None):\n",
    "        hist_kws_dict={\"histtype\": \"bar\", \"linewidth\": 1.5,\n",
    "                  \"alpha\": 1, \"color\": \"g\",\"edgecolor\":\"black\"}\n",
    "        y = np.hstack(self.W_list)\n",
    "        ax = sns.distplot(y,kde = False, hist_kws = hist_kws_dict)\n",
    "        ax.set_title(\"Histogram of Weight of Apples\")\n",
    "        ax.set_xlabel(\"Apple Weight (g)\")\n",
    "        ax.set_ylabel(\"Count\")\n",
    "        ax_other = ax\n",
    "        return ax_other\n",
    "\n",
    "\n",
    "    \n",
    "    def plotAmountDistn(self,ax_other = None):\n",
    "        hist_kws_dict={\"histtype\": \"bar\", \"linewidth\": 1.5,\n",
    "                  \"alpha\": 1, \"color\": \"g\",\"edgecolor\":\"black\"}\n",
    "        y = np.hstack(self.A)\n",
    "        ax = sns.distplot(y,kde = False, hist_kws = hist_kws_dict)\n",
    "        ax.set_title(\"Histogram of Apple Amount\")\n",
    "        ax.set_xlabel(\"Apples Amount\")\n",
    "        ax.set_ylabel(\"Count\")\n",
    "        ax_other = ax\n",
    "        return ax_other\n",
    "\n",
    "    \n",
    "    def plotApplePriceDistn(self,ax_other = None):\n",
    "        prices = np.hstack(self.P_list)\n",
    "        prices = np.sort(prices)\n",
    "        ax = sns.countplot(x = prices)\n",
    "        ax.set_title(\"Countplot of Apple Price\")\n",
    "        ax.set_xlabel(\"Apple Price ($)\")\n",
    "        ax.set_ylabel(\"Count\")\n",
    "        ax_other = ax\n",
    "        return ax_other"
   ]
  },
  {
   "cell_type": "markdown",
   "metadata": {},
   "source": [
    "### OrchardSim Visualization Widget"
   ]
  },
  {
   "cell_type": "markdown",
   "metadata": {},
   "source": [
    "To help along intuition, we create a widget to visualize how changes to parameter values changes the distributions of revenue, apple production, apple quality, and apple weight."
   ]
  },
  {
   "cell_type": "code",
   "execution_count": 50,
   "metadata": {
    "hide_input": true
   },
   "outputs": [
    {
     "data": {
      "application/vnd.jupyter.widget-view+json": {
       "model_id": "d9349f0710d14660b21173999462c3ef",
       "version_major": 2,
       "version_minor": 0
      },
      "text/plain": [
       "interactive(children=(IntSlider(value=100, continuous_update=False, description='m', max=1000, min=10, step=10…"
      ]
     },
     "metadata": {},
     "output_type": "display_data"
    }
   ],
   "source": [
    "@interact(m = widgets.IntSlider(min=10,max=1000,step=10,value=100,continuous_update=False),\n",
    "         lam = widgets.IntSlider(min = 50, max = 400, step = 10, value = 211,continuous_update=False),\n",
    "         r1 = widgets.FloatSlider(min = 0,max = 5,step = 0.5,value = 5,continuous_update=False),\n",
    "         r2 =widgets.FloatSlider(min = 0,max = 5,step = 0.5,value = 3,continuous_update=False),\n",
    "         r3 = widgets.FloatSlider(min = 0,max = 5,step = 0.5,value = 1.50,continuous_update=False),\n",
    "         mu = widgets.FloatSlider(min = 130,max = 180,step = 10,value = 150,continuous_update=False),\n",
    "         sigma2 = widgets.FloatSlider(min =700,max = 1200,step = 50,value = 900,continuous_update=False),\n",
    "         alpha = widgets.IntSlider(min = 1,max = 100,step = 1,value = 5,continuous_update=False),\n",
    "         beta = widgets.IntSlider(min = 1,max = 100,step = 1,value = 5,continuous_update=False))\n",
    "\n",
    "def expZ(m,lam,r1,r2,r3,mu,sigma2,alpha,beta):\n",
    "\n",
    "\n",
    "    from matplotlib import pyplot as plt\n",
    "    nscen = 100\n",
    "    trees = m\n",
    "    amt_param = lam\n",
    "    q_alpha = alpha\n",
    "    q_beta = beta\n",
    "    w_mean = mu\n",
    "    w_var = sigma2\n",
    "    anls = OrchardSim(nscen,trees,amt_param,q_alpha,q_beta,\n",
    "                              w_mean,w_var,)\n",
    "    anls.simOrchardGrowth()\n",
    "\n",
    "\n",
    "    plt.figure(figsize=(18, 16), dpi= 80, facecolor='w', edgecolor='k')\n",
    "\n",
    "    plt.tight_layout()\n",
    "\n",
    "    ax1 = plt.subplot(311)\n",
    "    anls.plotRevenueDistn(ax1)\n",
    "\n",
    "    ax2 = plt.subplot(323)\n",
    "    anls.plotWeightDistn(ax2)\n",
    "\n",
    "    ax3 = plt.subplot(324)\n",
    "    anls.plotAmountDistn(ax3)\n",
    "\n",
    "    ax4 = plt.subplot(325)\n",
    "    anls.plotQualityDistn(ax4)\n",
    "\n",
    "    ax5 = plt.subplot(326)\n",
    "    anls.plotApplePriceDistn(ax5)"
   ]
  }
 ],
 "metadata": {
  "hide_input": false,
  "kernelspec": {
   "display_name": "Python 3",
   "language": "python",
   "name": "python3"
  },
  "language_info": {
   "codemirror_mode": {
    "name": "ipython",
    "version": 3
   },
   "file_extension": ".py",
   "mimetype": "text/x-python",
   "name": "python",
   "nbconvert_exporter": "python",
   "pygments_lexer": "ipython3",
   "version": "3.7.3"
  },
  "latex_envs": {
   "LaTeX_envs_menu_present": true,
   "autoclose": false,
   "autocomplete": true,
   "bibliofile": "biblio.bib",
   "cite_by": "apalike",
   "current_citInitial": 1,
   "eqLabelWithNumbers": true,
   "eqNumInitial": 1,
   "hotkeys": {
    "equation": "Ctrl-E",
    "itemize": "Ctrl-I"
   },
   "labels_anchors": false,
   "latex_user_defs": false,
   "report_style_numbering": false,
   "user_envs_cfg": false
  },
  "toc": {
   "base_numbering": 1,
   "nav_menu": {
    "height": "214.986px",
    "width": "315.994px"
   },
   "number_sections": false,
   "sideBar": true,
   "skip_h1_title": false,
   "title_cell": "Table of Contents",
   "title_sidebar": "Contents",
   "toc_cell": false,
   "toc_position": {
    "height": "620.895px",
    "left": "38px",
    "top": "11.1931px",
    "width": "225.043px"
   },
   "toc_section_display": true,
   "toc_window_display": true
  },
  "widgets": {
   "application/vnd.jupyter.widget-state+json": {
    "state": {
     "02e7e4db5ec348e3b4b95ce3911b7891": {
      "model_module": "@jupyter-widgets/controls",
      "model_module_version": "1.5.0",
      "model_name": "FloatSliderModel",
      "state": {
       "description": "r3",
       "layout": "IPY_MODEL_f75f08dd4e03491a874bf8a0da83f50c",
       "max": 5,
       "step": 0.5,
       "style": "IPY_MODEL_c9e07abea94e45379c137d1bed68d7b8",
       "value": 1
      }
     },
     "032ee37cd75f4383a68a065104cbac09": {
      "model_module": "@jupyter-widgets/controls",
      "model_module_version": "1.5.0",
      "model_name": "FloatSliderModel",
      "state": {
       "continuous_update": false,
       "description": "r2",
       "layout": "IPY_MODEL_b336e0db63df459695d75c152fc661f9",
       "max": 5,
       "step": 0.5,
       "style": "IPY_MODEL_4ad5674d172b47b997dec0883f58608a",
       "value": 3
      }
     },
     "041b2e02798545e4b7328fda9b1ca902": {
      "model_module": "@jupyter-widgets/base",
      "model_module_version": "1.2.0",
      "model_name": "LayoutModel",
      "state": {}
     },
     "0444707949e04f1b99f76ab32118ad0b": {
      "model_module": "@jupyter-widgets/controls",
      "model_module_version": "1.5.0",
      "model_name": "SliderStyleModel",
      "state": {
       "description_width": ""
      }
     },
     "054f4a0b07ef4b729ad7762242bbce26": {
      "model_module": "@jupyter-widgets/controls",
      "model_module_version": "1.5.0",
      "model_name": "SliderStyleModel",
      "state": {
       "description_width": ""
      }
     },
     "05fb4474ef1b4d46a912dc3365c84c74": {
      "model_module": "@jupyter-widgets/controls",
      "model_module_version": "1.5.0",
      "model_name": "SliderStyleModel",
      "state": {
       "description_width": ""
      }
     },
     "06a0a42e138f4dd696d7a1b06e961646": {
      "model_module": "@jupyter-widgets/controls",
      "model_module_version": "1.5.0",
      "model_name": "SliderStyleModel",
      "state": {
       "description_width": ""
      }
     },
     "06fb1d003e7e40bfae6b400e1eae4f35": {
      "model_module": "@jupyter-widgets/base",
      "model_module_version": "1.2.0",
      "model_name": "LayoutModel",
      "state": {}
     },
     "0994d6fd25ec43dbbe5fb926b32866bb": {
      "model_module": "@jupyter-widgets/base",
      "model_module_version": "1.2.0",
      "model_name": "LayoutModel",
      "state": {}
     },
     "09b018aedcab4ded967b33fc218baf17": {
      "model_module": "@jupyter-widgets/output",
      "model_module_version": "1.0.0",
      "model_name": "OutputModel",
      "state": {
       "layout": "IPY_MODEL_e572c8788b9646449c2d940195e23163",
       "outputs": [
        {
         "data": {
          "image/png": "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\n",
          "text/plain": "<Figure size 1440x1280 with 5 Axes>"
         },
         "metadata": {},
         "output_type": "display_data"
        }
       ]
      }
     },
     "0a5a638548cb4b00b2d1337091f37141": {
      "model_module": "@jupyter-widgets/controls",
      "model_module_version": "1.5.0",
      "model_name": "SliderStyleModel",
      "state": {
       "description_width": ""
      }
     },
     "0a812255615843f2ba3228d02a125564": {
      "model_module": "@jupyter-widgets/controls",
      "model_module_version": "1.5.0",
      "model_name": "IntSliderModel",
      "state": {
       "continuous_update": false,
       "description": "lam",
       "layout": "IPY_MODEL_15af53691eb54ec1af6d0232c04a3fb0",
       "max": 400,
       "min": 50,
       "step": 10,
       "style": "IPY_MODEL_bb87da94ff4d4843aaa137aa551ab02a",
       "value": 211
      }
     },
     "0ab4b7dc248e44fda23c2dbdd9098384": {
      "model_module": "@jupyter-widgets/controls",
      "model_module_version": "1.5.0",
      "model_name": "VBoxModel",
      "state": {
       "_dom_classes": [
        "widget-interact"
       ],
       "children": [
        "IPY_MODEL_7ef611dc20a14b0d8e0697603a73ecfd",
        "IPY_MODEL_c1e2c5936c564defb282422dd0c41908",
        "IPY_MODEL_dde8681e8aa34919b85b602136467eea",
        "IPY_MODEL_80cd6f1537754cc292605656e2b5ffe5",
        "IPY_MODEL_30b436b97eae41428c3c16d890d08f37",
        "IPY_MODEL_f3b58429ce424835990f41661b000735",
        "IPY_MODEL_615097b3b7124a66933a445b8f2259c6",
        "IPY_MODEL_5316d070fb844b73854f36d50def074c",
        "IPY_MODEL_3718cff675a24bc9a5fe0db76418c3e1",
        "IPY_MODEL_cae3b7ee69914f82a96badc5e855aadb"
       ],
       "layout": "IPY_MODEL_6d931d2ba2f94b8aa218e3a5bc3c27bb"
      }
     },
     "0c202399b0ac4b76ab4ab59dff9cc69b": {
      "model_module": "@jupyter-widgets/base",
      "model_module_version": "1.2.0",
      "model_name": "LayoutModel",
      "state": {}
     },
     "0c50420ecbde49acb8470c7adb6a5cee": {
      "model_module": "@jupyter-widgets/controls",
      "model_module_version": "1.5.0",
      "model_name": "SliderStyleModel",
      "state": {
       "description_width": ""
      }
     },
     "0cd235ed888e44568f117ef21324220b": {
      "model_module": "@jupyter-widgets/controls",
      "model_module_version": "1.5.0",
      "model_name": "SliderStyleModel",
      "state": {
       "description_width": ""
      }
     },
     "0d3c28554df54eb9b8b568cd22a73f85": {
      "model_module": "@jupyter-widgets/base",
      "model_module_version": "1.2.0",
      "model_name": "LayoutModel",
      "state": {}
     },
     "0d827e74e5d34acf820f37eb83594b5f": {
      "model_module": "@jupyter-widgets/controls",
      "model_module_version": "1.5.0",
      "model_name": "IntSliderModel",
      "state": {
       "description": "lam",
       "layout": "IPY_MODEL_0d3c28554df54eb9b8b568cd22a73f85",
       "max": 400,
       "min": 50,
       "step": 10,
       "style": "IPY_MODEL_73f098aa00d74b8c915ceeed66076754",
       "value": 50
      }
     },
     "0e60f42f6343403aa5f490e65c908d93": {
      "model_module": "@jupyter-widgets/controls",
      "model_module_version": "1.5.0",
      "model_name": "SliderStyleModel",
      "state": {
       "description_width": ""
      }
     },
     "12340291cd1f48c894dafced27e5e839": {
      "model_module": "@jupyter-widgets/controls",
      "model_module_version": "1.5.0",
      "model_name": "IntSliderModel",
      "state": {
       "continuous_update": false,
       "description": "beta",
       "layout": "IPY_MODEL_33be354e8ae140bf904e9dab4f553bbc",
       "min": 1,
       "style": "IPY_MODEL_f0d89efb02e94cd8bda77acc1365ab6b",
       "value": 5
      }
     },
     "1252f2a707dd40c1bd5467963c22c247": {
      "model_module": "@jupyter-widgets/controls",
      "model_module_version": "1.5.0",
      "model_name": "SliderStyleModel",
      "state": {
       "description_width": ""
      }
     },
     "125dd587d21d4946a6cb4a2f9794d558": {
      "model_module": "@jupyter-widgets/output",
      "model_module_version": "1.0.0",
      "model_name": "OutputModel",
      "state": {
       "layout": "IPY_MODEL_b331dd6176ac4dce8141955348d9103d",
       "outputs": [
        {
         "name": "stdout",
         "output_type": "stream",
         "text": "\n\n\tExpected Revenue: $0.37\n"
        }
       ]
      }
     },
     "141b2ecc614e4cfd9a7a5ee1bd516100": {
      "model_module": "@jupyter-widgets/base",
      "model_module_version": "1.2.0",
      "model_name": "LayoutModel",
      "state": {}
     },
     "15af53691eb54ec1af6d0232c04a3fb0": {
      "model_module": "@jupyter-widgets/base",
      "model_module_version": "1.2.0",
      "model_name": "LayoutModel",
      "state": {}
     },
     "15e64efc5cbe4404a6c361dbfde532bb": {
      "model_module": "@jupyter-widgets/output",
      "model_module_version": "1.0.0",
      "model_name": "OutputModel",
      "state": {
       "layout": "IPY_MODEL_7ebac76faef64ed092a1444f9bd86d84",
       "outputs": [
        {
         "data": {
          "image/png": "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\n",
          "text/plain": "<Figure size 1440x1280 with 5 Axes>"
         },
         "metadata": {},
         "output_type": "display_data"
        }
       ]
      }
     },
     "1660119f55634bb7b6a70d587a4de7af": {
      "model_module": "@jupyter-widgets/controls",
      "model_module_version": "1.5.0",
      "model_name": "SliderStyleModel",
      "state": {
       "description_width": ""
      }
     },
     "1700588224c74aa4a6ecaf6249d40992": {
      "model_module": "@jupyter-widgets/controls",
      "model_module_version": "1.5.0",
      "model_name": "FloatSliderModel",
      "state": {
       "continuous_update": false,
       "description": "r2",
       "layout": "IPY_MODEL_aaddf447db9249ba8430f698593ab893",
       "max": 5,
       "step": 0.5,
       "style": "IPY_MODEL_b62ca9ed2ca4437a91bb38d80a9ecaac",
       "value": 3
      }
     },
     "173fc2a72fcb45e7be39b1c2c5c4b9c3": {
      "model_module": "@jupyter-widgets/output",
      "model_module_version": "1.0.0",
      "model_name": "OutputModel",
      "state": {
       "layout": "IPY_MODEL_234115c546d04e8eae594b8121512903",
       "outputs": [
        {
         "name": "stdout",
         "output_type": "stream",
         "text": "\n\n\tExpected Revenue: $0.37\n"
        }
       ]
      }
     },
     "17a9a00717994616bfeece5f73d3d110": {
      "model_module": "@jupyter-widgets/controls",
      "model_module_version": "1.5.0",
      "model_name": "FloatSliderModel",
      "state": {
       "continuous_update": false,
       "description": "r2",
       "layout": "IPY_MODEL_d23e461fa27349758b584feebf77c06f",
       "max": 5,
       "step": 0.5,
       "style": "IPY_MODEL_4d8e2109e6a94cd592f0f2b6f51c9d56",
       "value": 3
      }
     },
     "1b5ca8d2185a4df58a913920a8d45ff1": {
      "model_module": "@jupyter-widgets/base",
      "model_module_version": "1.2.0",
      "model_name": "LayoutModel",
      "state": {}
     },
     "1bae273f13484ff7bd90576bc8e93363": {
      "model_module": "@jupyter-widgets/controls",
      "model_module_version": "1.5.0",
      "model_name": "IntSliderModel",
      "state": {
       "continuous_update": false,
       "description": "beta",
       "layout": "IPY_MODEL_ddef54c811ac4db7a01a64faa4affaab",
       "min": 1,
       "style": "IPY_MODEL_afaf7b5480344b4ab22a7948dd227ab2",
       "value": 5
      }
     },
     "1bc6a98c75c44def9912ff252f9a9ecf": {
      "model_module": "@jupyter-widgets/base",
      "model_module_version": "1.2.0",
      "model_name": "LayoutModel",
      "state": {}
     },
     "1cc81d9f9125470da20e95cb1d82e42d": {
      "model_module": "@jupyter-widgets/controls",
      "model_module_version": "1.5.0",
      "model_name": "FloatSliderModel",
      "state": {
       "continuous_update": false,
       "description": "r3",
       "layout": "IPY_MODEL_eb1cde7eb01345fcbe33212f17f931e0",
       "max": 5,
       "step": 0.5,
       "style": "IPY_MODEL_05fb4474ef1b4d46a912dc3365c84c74",
       "value": 1.5
      }
     },
     "1cdbe6ee25ed4e2fa5f8b35a8ff57020": {
      "model_module": "@jupyter-widgets/base",
      "model_module_version": "1.2.0",
      "model_name": "LayoutModel",
      "state": {}
     },
     "1e64049e1c1e49649bbae3ec69c5513e": {
      "model_module": "@jupyter-widgets/base",
      "model_module_version": "1.2.0",
      "model_name": "LayoutModel",
      "state": {}
     },
     "1edf4ec87d87456696e0fd561577c240": {
      "model_module": "@jupyter-widgets/controls",
      "model_module_version": "1.5.0",
      "model_name": "IntSliderModel",
      "state": {
       "continuous_update": false,
       "description": "m",
       "layout": "IPY_MODEL_2f7b3b7568b34e98b52e7a86c07db6c6",
       "max": 1000,
       "min": 10,
       "step": 10,
       "style": "IPY_MODEL_d5f78fb33ba740699e720bd4df042241",
       "value": 290
      }
     },
     "202ea4fe25f64b7ea42be7a69225afe3": {
      "model_module": "@jupyter-widgets/controls",
      "model_module_version": "1.5.0",
      "model_name": "IntSliderModel",
      "state": {
       "description": "lam",
       "layout": "IPY_MODEL_f20a3e1ac8a144cb91791cb4235619bc",
       "max": 400,
       "min": 50,
       "step": 10,
       "style": "IPY_MODEL_ca8baec1a25942aeabc26e36e212b927",
       "value": 230
      }
     },
     "206ff1d76987492d8b3a0db9cf27ec5e": {
      "model_module": "@jupyter-widgets/controls",
      "model_module_version": "1.5.0",
      "model_name": "IntSliderModel",
      "state": {
       "continuous_update": false,
       "description": "lam",
       "layout": "IPY_MODEL_6c17a640af6c4450a67696b666272998",
       "max": 400,
       "min": 50,
       "step": 10,
       "style": "IPY_MODEL_054f4a0b07ef4b729ad7762242bbce26",
       "value": 211
      }
     },
     "20859d73339e468ca266c111eb1e6a11": {
      "model_module": "@jupyter-widgets/controls",
      "model_module_version": "1.5.0",
      "model_name": "IntSliderModel",
      "state": {
       "description": "m",
       "layout": "IPY_MODEL_e31cf1ad6678447a908fe0ed738307b3",
       "min": 1,
       "style": "IPY_MODEL_9cf0697da7654096a5eaee831d10d3aa",
       "value": 32
      }
     },
     "21bc2a9002674d3989a706bccd5f1a2c": {
      "model_module": "@jupyter-widgets/controls",
      "model_module_version": "1.5.0",
      "model_name": "SliderStyleModel",
      "state": {
       "description_width": ""
      }
     },
     "21eec57519324d6b86e98ba01e270008": {
      "model_module": "@jupyter-widgets/controls",
      "model_module_version": "1.5.0",
      "model_name": "SliderStyleModel",
      "state": {
       "description_width": ""
      }
     },
     "22e5e22639454932af4da72d14dd3eee": {
      "model_module": "@jupyter-widgets/base",
      "model_module_version": "1.2.0",
      "model_name": "LayoutModel",
      "state": {}
     },
     "234115c546d04e8eae594b8121512903": {
      "model_module": "@jupyter-widgets/base",
      "model_module_version": "1.2.0",
      "model_name": "LayoutModel",
      "state": {}
     },
     "235861c8c224464ab038859dae6ae514": {
      "model_module": "@jupyter-widgets/controls",
      "model_module_version": "1.5.0",
      "model_name": "SliderStyleModel",
      "state": {
       "description_width": ""
      }
     },
     "2450d1e2de1d40049e15f360740041f7": {
      "model_module": "@jupyter-widgets/base",
      "model_module_version": "1.2.0",
      "model_name": "LayoutModel",
      "state": {}
     },
     "248b0cdb44434a36b747bff3ea82e80c": {
      "model_module": "@jupyter-widgets/controls",
      "model_module_version": "1.5.0",
      "model_name": "IntSliderModel",
      "state": {
       "continuous_update": false,
       "description": "lam",
       "layout": "IPY_MODEL_b11e96fa144c4a798354acb5ee798c2b",
       "max": 400,
       "min": 50,
       "step": 10,
       "style": "IPY_MODEL_a3e5ddf259b5421fac9abe774f4beaba",
       "value": 211
      }
     },
     "2528549b831042c0b2cf70b21d5cd804": {
      "model_module": "@jupyter-widgets/controls",
      "model_module_version": "1.5.0",
      "model_name": "SliderStyleModel",
      "state": {
       "description_width": ""
      }
     },
     "25a5caac07fb40058470fbd68ccf381f": {
      "model_module": "@jupyter-widgets/controls",
      "model_module_version": "1.5.0",
      "model_name": "IntSliderModel",
      "state": {
       "description": "m",
       "layout": "IPY_MODEL_8fa9ea83f42a40a5bd04b5b7542145df",
       "min": 1,
       "style": "IPY_MODEL_b95fdde15caa45eeb0ecc02419f73648",
       "value": 1
      }
     },
     "2806bab89b1249beb7c63311b9d73587": {
      "model_module": "@jupyter-widgets/controls",
      "model_module_version": "1.5.0",
      "model_name": "FloatSliderModel",
      "state": {
       "description": "mu",
       "layout": "IPY_MODEL_34bdce02bbe8475a95eb4b900e772474",
       "max": 7,
       "min": 2,
       "step": 0.5,
       "style": "IPY_MODEL_bd6ac8775d8c4640b97615fa6fc13704",
       "value": 2
      }
     },
     "282ef2700c72425fb90f4ce60c895a5d": {
      "model_module": "@jupyter-widgets/controls",
      "model_module_version": "1.5.0",
      "model_name": "FloatSliderModel",
      "state": {
       "description": "r2",
       "layout": "IPY_MODEL_622f9c505b164bc1bb49f7f96418ef1c",
       "max": 5,
       "step": 0.5,
       "style": "IPY_MODEL_0444707949e04f1b99f76ab32118ad0b",
       "value": 1
      }
     },
     "29ab8556f5ea4da9b264e7cf3e0a932b": {
      "model_module": "@jupyter-widgets/base",
      "model_module_version": "1.2.0",
      "model_name": "LayoutModel",
      "state": {}
     },
     "29dcadff4a1849beb6661ef313a854bb": {
      "model_module": "@jupyter-widgets/base",
      "model_module_version": "1.2.0",
      "model_name": "LayoutModel",
      "state": {}
     },
     "2ab49306e0da470282deca5ec705a388": {
      "model_module": "@jupyter-widgets/controls",
      "model_module_version": "1.5.0",
      "model_name": "IntSliderModel",
      "state": {
       "description": "alpha",
       "layout": "IPY_MODEL_4a33d151f14d4435b08ed5e3938f9765",
       "min": 1,
       "style": "IPY_MODEL_3338192f01d04851b32ea367e849995b",
       "value": 5
      }
     },
     "2b4d27d3f7b34fada48f46fcb81bdf75": {
      "model_module": "@jupyter-widgets/base",
      "model_module_version": "1.2.0",
      "model_name": "LayoutModel",
      "state": {}
     },
     "2bc7146fa9c445b79af901a39d2a97cc": {
      "model_module": "@jupyter-widgets/controls",
      "model_module_version": "1.5.0",
      "model_name": "SliderStyleModel",
      "state": {
       "description_width": ""
      }
     },
     "2c2a37c663174ce0bbad690c5f7c2f03": {
      "model_module": "@jupyter-widgets/controls",
      "model_module_version": "1.5.0",
      "model_name": "SliderStyleModel",
      "state": {
       "description_width": ""
      }
     },
     "2ce2e07e7e4f48e98958fb8f96920fca": {
      "model_module": "@jupyter-widgets/controls",
      "model_module_version": "1.5.0",
      "model_name": "FloatSliderModel",
      "state": {
       "description": "sigma2",
       "layout": "IPY_MODEL_9808791348404e64beb7d17bde7c0157",
       "max": 0.05,
       "min": 0.01,
       "step": 0.001,
       "style": "IPY_MODEL_2c2a37c663174ce0bbad690c5f7c2f03",
       "value": 0.01
      }
     },
     "2d3740eb2b434d4b9c990e5f1758a41a": {
      "model_module": "@jupyter-widgets/controls",
      "model_module_version": "1.5.0",
      "model_name": "FloatSliderModel",
      "state": {
       "description": "r1",
       "layout": "IPY_MODEL_55f57840042042dcb969b47b4228c32f",
       "max": 5,
       "step": 0.5,
       "style": "IPY_MODEL_c3b9127bf99b40db8168563e7c64db90",
       "value": 1
      }
     },
     "2da47717fa82428b9540dc4c7ecd7ef9": {
      "model_module": "@jupyter-widgets/base",
      "model_module_version": "1.2.0",
      "model_name": "LayoutModel",
      "state": {}
     },
     "2deeb4f4506549758ab5dddcbbd8a1da": {
      "model_module": "@jupyter-widgets/controls",
      "model_module_version": "1.5.0",
      "model_name": "SliderStyleModel",
      "state": {
       "description_width": ""
      }
     },
     "2e16985b65ce45a7a494654f1f7a71a7": {
      "model_module": "@jupyter-widgets/controls",
      "model_module_version": "1.5.0",
      "model_name": "SliderStyleModel",
      "state": {
       "description_width": ""
      }
     },
     "2e79ecff5fd34182adad6fb51f51b5fe": {
      "model_module": "@jupyter-widgets/controls",
      "model_module_version": "1.5.0",
      "model_name": "SliderStyleModel",
      "state": {
       "description_width": ""
      }
     },
     "2f7b3b7568b34e98b52e7a86c07db6c6": {
      "model_module": "@jupyter-widgets/base",
      "model_module_version": "1.2.0",
      "model_name": "LayoutModel",
      "state": {}
     },
     "2fb7b66108b8413ea312b8a9e5a61498": {
      "model_module": "@jupyter-widgets/base",
      "model_module_version": "1.2.0",
      "model_name": "LayoutModel",
      "state": {}
     },
     "30534b2ebebb4425bc5a29fecd2fc287": {
      "model_module": "@jupyter-widgets/base",
      "model_module_version": "1.2.0",
      "model_name": "LayoutModel",
      "state": {}
     },
     "30b436b97eae41428c3c16d890d08f37": {
      "model_module": "@jupyter-widgets/controls",
      "model_module_version": "1.5.0",
      "model_name": "FloatSliderModel",
      "state": {
       "continuous_update": false,
       "description": "r3",
       "layout": "IPY_MODEL_6bf639a28f5143b5aeb6251da2afb08d",
       "max": 5,
       "step": 0.5,
       "style": "IPY_MODEL_a568e487fb6149f3aa3a53e1df9bf642",
       "value": 1.5
      }
     },
     "314b30bde3eb47a9b7768de58cd65a84": {
      "model_module": "@jupyter-widgets/controls",
      "model_module_version": "1.5.0",
      "model_name": "SliderStyleModel",
      "state": {
       "description_width": ""
      }
     },
     "31772f266569479bb1e46f05e3c5f5be": {
      "model_module": "@jupyter-widgets/base",
      "model_module_version": "1.2.0",
      "model_name": "LayoutModel",
      "state": {}
     },
     "31fc3094a15846858e9a25845176e234": {
      "model_module": "@jupyter-widgets/controls",
      "model_module_version": "1.5.0",
      "model_name": "FloatSliderModel",
      "state": {
       "continuous_update": false,
       "description": "r3",
       "layout": "IPY_MODEL_a42e8ff4bdff4a60804da92daef320e8",
       "max": 5,
       "step": 0.5,
       "style": "IPY_MODEL_4fd1622062dc4588a442e68007422356",
       "value": 1.5
      }
     },
     "32eff7f034204279abfba7ee58d54f17": {
      "model_module": "@jupyter-widgets/controls",
      "model_module_version": "1.5.0",
      "model_name": "FloatSliderModel",
      "state": {
       "continuous_update": false,
       "description": "sigma2",
       "layout": "IPY_MODEL_fd4931b870164d7c93ab8600347b3f28",
       "max": 1200,
       "min": 700,
       "step": 50,
       "style": "IPY_MODEL_d754def19a2241b58222eac7eb8e1e79",
       "value": 900
      }
     },
     "3338192f01d04851b32ea367e849995b": {
      "model_module": "@jupyter-widgets/controls",
      "model_module_version": "1.5.0",
      "model_name": "SliderStyleModel",
      "state": {
       "description_width": ""
      }
     },
     "33be354e8ae140bf904e9dab4f553bbc": {
      "model_module": "@jupyter-widgets/base",
      "model_module_version": "1.2.0",
      "model_name": "LayoutModel",
      "state": {}
     },
     "3429b14fc17d4372abc07b281e1b61a5": {
      "model_module": "@jupyter-widgets/controls",
      "model_module_version": "1.5.0",
      "model_name": "SliderStyleModel",
      "state": {
       "description_width": ""
      }
     },
     "34bdce02bbe8475a95eb4b900e772474": {
      "model_module": "@jupyter-widgets/base",
      "model_module_version": "1.2.0",
      "model_name": "LayoutModel",
      "state": {}
     },
     "363ad7590b984a46a7b2bed968c6af45": {
      "model_module": "@jupyter-widgets/base",
      "model_module_version": "1.2.0",
      "model_name": "LayoutModel",
      "state": {}
     },
     "3718cff675a24bc9a5fe0db76418c3e1": {
      "model_module": "@jupyter-widgets/controls",
      "model_module_version": "1.5.0",
      "model_name": "IntSliderModel",
      "state": {
       "continuous_update": false,
       "description": "beta",
       "layout": "IPY_MODEL_0994d6fd25ec43dbbe5fb926b32866bb",
       "min": 1,
       "style": "IPY_MODEL_a005a003db5e4d68a415da4222f345e0",
       "value": 5
      }
     },
     "37a954af56dd45dbabf70955879a67b4": {
      "model_module": "@jupyter-widgets/base",
      "model_module_version": "1.2.0",
      "model_name": "LayoutModel",
      "state": {}
     },
     "37ee46455f694bb29bf227fc9f637db4": {
      "model_module": "@jupyter-widgets/base",
      "model_module_version": "1.2.0",
      "model_name": "LayoutModel",
      "state": {}
     },
     "38119f285c384f07879f57aa1fe27ac4": {
      "model_module": "@jupyter-widgets/base",
      "model_module_version": "1.2.0",
      "model_name": "LayoutModel",
      "state": {}
     },
     "38c622b97dca4b6591a8299e6488ec67": {
      "model_module": "@jupyter-widgets/base",
      "model_module_version": "1.2.0",
      "model_name": "LayoutModel",
      "state": {}
     },
     "38fb719a437e4eecb06345731fa9eebe": {
      "model_module": "@jupyter-widgets/controls",
      "model_module_version": "1.5.0",
      "model_name": "SliderStyleModel",
      "state": {
       "description_width": ""
      }
     },
     "3a39ef7becb949f0bff02b9ad70c7560": {
      "model_module": "@jupyter-widgets/controls",
      "model_module_version": "1.5.0",
      "model_name": "SliderStyleModel",
      "state": {
       "description_width": ""
      }
     },
     "3c95208ee6554f48877c02faf6a74932": {
      "model_module": "@jupyter-widgets/base",
      "model_module_version": "1.2.0",
      "model_name": "LayoutModel",
      "state": {}
     },
     "3cda9c8ad37843399350fa5a1bdafbbf": {
      "model_module": "@jupyter-widgets/controls",
      "model_module_version": "1.5.0",
      "model_name": "VBoxModel",
      "state": {
       "_dom_classes": [
        "widget-interact"
       ],
       "children": [
        "IPY_MODEL_58d9170b430d4b5cbaf6dd6c7813e03d",
        "IPY_MODEL_b39e4baebd804f5596bf17b79d84f5c2",
        "IPY_MODEL_468bb3cb19ae4d0cbe50114bb7806db9",
        "IPY_MODEL_d0f2de3120f048b7998decbfad4db976",
        "IPY_MODEL_02e7e4db5ec348e3b4b95ce3911b7891",
        "IPY_MODEL_a6374ff6546340778082d21f47a30d83",
        "IPY_MODEL_cbd06a1416614e3798bc2a3586d2009c",
        "IPY_MODEL_9c97d83e108047d5959db5f15a4022a5",
        "IPY_MODEL_80379779212c43b8948bd9595f046652",
        "IPY_MODEL_bc591c61ccc141e2aa746d96570109e3"
       ],
       "layout": "IPY_MODEL_5266df2aa8b84536aa6d892a776ac933"
      }
     },
     "3cf5b783fe6d445b9eb0d1a55d4048f1": {
      "model_module": "@jupyter-widgets/controls",
      "model_module_version": "1.5.0",
      "model_name": "VBoxModel",
      "state": {
       "_dom_classes": [
        "widget-interact"
       ],
       "children": [
        "IPY_MODEL_de2923e0167341e4b60e0155498a86c1",
        "IPY_MODEL_4d8b5d77df7d4762acc677cc6686b2d2",
        "IPY_MODEL_cb780454adee4e5f93a6f1f0c885fc36",
        "IPY_MODEL_65985f76655d47228c1663ea6a2b8f2b",
        "IPY_MODEL_52a47c18a65d40fba35a421d5af9d766",
        "IPY_MODEL_db6e766eeed2435485f97044b4077331",
        "IPY_MODEL_32eff7f034204279abfba7ee58d54f17",
        "IPY_MODEL_e803e934b59f48dabbc8635aa6ccd7c1",
        "IPY_MODEL_6eca7e8d555a41f89ad58ade99940571",
        "IPY_MODEL_d8176398a1f1402198ca37d8a4a5b879"
       ],
       "layout": "IPY_MODEL_1cdbe6ee25ed4e2fa5f8b35a8ff57020"
      }
     },
     "3d8b8f74d29b45d797117270e9c3938c": {
      "model_module": "@jupyter-widgets/controls",
      "model_module_version": "1.5.0",
      "model_name": "IntSliderModel",
      "state": {
       "continuous_update": false,
       "description": "alpha",
       "layout": "IPY_MODEL_38c622b97dca4b6591a8299e6488ec67",
       "min": 1,
       "style": "IPY_MODEL_620b712e7823485e91aa14cac2e3cbd3",
       "value": 5
      }
     },
     "3e9c3b3b9cc847e3b511d86b69ab406c": {
      "model_module": "@jupyter-widgets/controls",
      "model_module_version": "1.5.0",
      "model_name": "SliderStyleModel",
      "state": {
       "description_width": ""
      }
     },
     "3f9fa878666f463781ef0cfddf4e64dd": {
      "model_module": "@jupyter-widgets/base",
      "model_module_version": "1.2.0",
      "model_name": "LayoutModel",
      "state": {}
     },
     "3fa11e23b65c435280497f0db9719530": {
      "model_module": "@jupyter-widgets/controls",
      "model_module_version": "1.5.0",
      "model_name": "IntSliderModel",
      "state": {
       "continuous_update": false,
       "description": "alpha",
       "layout": "IPY_MODEL_8062be2e649c44d399186c5bd34bd6cf",
       "min": 1,
       "style": "IPY_MODEL_9f6c0900e9c1430e992de9421a01f79e",
       "value": 5
      }
     },
     "3fcdee124af74d4290ff64fb322825cd": {
      "model_module": "@jupyter-widgets/base",
      "model_module_version": "1.2.0",
      "model_name": "LayoutModel",
      "state": {}
     },
     "40193593cb1c4a1b8fd28c8fe61f4f11": {
      "model_module": "@jupyter-widgets/controls",
      "model_module_version": "1.5.0",
      "model_name": "FloatSliderModel",
      "state": {
       "description": "r3",
       "layout": "IPY_MODEL_867ac3fcef2d42a29c6e93d4b468468a",
       "max": 5,
       "step": 0.5,
       "style": "IPY_MODEL_e473ec5baf154247b57816b8a8007bff",
       "value": 1
      }
     },
     "40994045a4184690a335c4e2a10bc09c": {
      "model_module": "@jupyter-widgets/controls",
      "model_module_version": "1.5.0",
      "model_name": "SliderStyleModel",
      "state": {
       "description_width": ""
      }
     },
     "4194dd47384d46d4885e939964820b3a": {
      "model_module": "@jupyter-widgets/base",
      "model_module_version": "1.2.0",
      "model_name": "LayoutModel",
      "state": {}
     },
     "41c69f294b7248978948d82e233266d7": {
      "model_module": "@jupyter-widgets/controls",
      "model_module_version": "1.5.0",
      "model_name": "SliderStyleModel",
      "state": {
       "description_width": ""
      }
     },
     "42d618ce16ac4726a8e3f3d80e55cddf": {
      "model_module": "@jupyter-widgets/controls",
      "model_module_version": "1.5.0",
      "model_name": "SliderStyleModel",
      "state": {
       "description_width": ""
      }
     },
     "42ed25b70a9549a8a29ae93cebcfa8a8": {
      "model_module": "@jupyter-widgets/base",
      "model_module_version": "1.2.0",
      "model_name": "LayoutModel",
      "state": {}
     },
     "42ff62c435a848c0ba9ee47c46151478": {
      "model_module": "@jupyter-widgets/controls",
      "model_module_version": "1.5.0",
      "model_name": "SliderStyleModel",
      "state": {
       "description_width": ""
      }
     },
     "4351c36de06b41889d5eec9b66eaa3b7": {
      "model_module": "@jupyter-widgets/base",
      "model_module_version": "1.2.0",
      "model_name": "LayoutModel",
      "state": {}
     },
     "43d69f98b8704af88d55458e858dade2": {
      "model_module": "@jupyter-widgets/base",
      "model_module_version": "1.2.0",
      "model_name": "LayoutModel",
      "state": {}
     },
     "468bb3cb19ae4d0cbe50114bb7806db9": {
      "model_module": "@jupyter-widgets/controls",
      "model_module_version": "1.5.0",
      "model_name": "FloatSliderModel",
      "state": {
       "description": "r1",
       "layout": "IPY_MODEL_9540bb3fd32d4fd8ad45d286bd450d83",
       "max": 5,
       "step": 0.5,
       "style": "IPY_MODEL_b6e5f85b80be47ee8df93c5fbd1530a1",
       "value": 1
      }
     },
     "473526ddfe7d47f5ba27f882b6788738": {
      "model_module": "@jupyter-widgets/controls",
      "model_module_version": "1.5.0",
      "model_name": "SliderStyleModel",
      "state": {
       "description_width": ""
      }
     },
     "49ad02ee3008473da35e4637e4406778": {
      "model_module": "@jupyter-widgets/controls",
      "model_module_version": "1.5.0",
      "model_name": "SliderStyleModel",
      "state": {
       "description_width": ""
      }
     },
     "4a33d151f14d4435b08ed5e3938f9765": {
      "model_module": "@jupyter-widgets/base",
      "model_module_version": "1.2.0",
      "model_name": "LayoutModel",
      "state": {}
     },
     "4a50370126714f0ba6348f39bfb8c484": {
      "model_module": "@jupyter-widgets/controls",
      "model_module_version": "1.5.0",
      "model_name": "IntSliderModel",
      "state": {
       "continuous_update": false,
       "description": "lam",
       "layout": "IPY_MODEL_a62ceed0605946349c9a5284aa9d8d92",
       "max": 400,
       "min": 50,
       "step": 10,
       "style": "IPY_MODEL_bdff662208974d01a4593baef06256bd",
       "value": 211
      }
     },
     "4aceda3ca90e4a698f5b122d84afab72": {
      "model_module": "@jupyter-widgets/base",
      "model_module_version": "1.2.0",
      "model_name": "LayoutModel",
      "state": {}
     },
     "4ad5674d172b47b997dec0883f58608a": {
      "model_module": "@jupyter-widgets/controls",
      "model_module_version": "1.5.0",
      "model_name": "SliderStyleModel",
      "state": {
       "description_width": ""
      }
     },
     "4ada49329e7741aba747ae89134c5f88": {
      "model_module": "@jupyter-widgets/output",
      "model_module_version": "1.0.0",
      "model_name": "OutputModel",
      "state": {
       "layout": "IPY_MODEL_dda7c266654f4a148eadf02ed6c3d080",
       "outputs": [
        {
         "name": "stdout",
         "output_type": "stream",
         "text": "\n\n\tExpected Revenue: $85.44\n"
        }
       ]
      }
     },
     "4b74defb239f439683e0af067cb5b1b5": {
      "model_module": "@jupyter-widgets/controls",
      "model_module_version": "1.5.0",
      "model_name": "IntSliderModel",
      "state": {
       "description": "alpha",
       "layout": "IPY_MODEL_90a928e11ec54a31810ff2ef7e868c11",
       "min": 1,
       "style": "IPY_MODEL_b90ac2018a264ef19301de6d2504951e",
       "value": 5
      }
     },
     "4be9cc256f874d40b01de85b6cd5774f": {
      "model_module": "@jupyter-widgets/controls",
      "model_module_version": "1.5.0",
      "model_name": "SliderStyleModel",
      "state": {
       "description_width": ""
      }
     },
     "4cc6c675d68b4f75be0cc61a03b923b3": {
      "model_module": "@jupyter-widgets/base",
      "model_module_version": "1.2.0",
      "model_name": "LayoutModel",
      "state": {}
     },
     "4d62d84fef69458696630733f0b8ee4c": {
      "model_module": "@jupyter-widgets/controls",
      "model_module_version": "1.5.0",
      "model_name": "SliderStyleModel",
      "state": {
       "description_width": ""
      }
     },
     "4d8b5d77df7d4762acc677cc6686b2d2": {
      "model_module": "@jupyter-widgets/controls",
      "model_module_version": "1.5.0",
      "model_name": "IntSliderModel",
      "state": {
       "continuous_update": false,
       "description": "lam",
       "layout": "IPY_MODEL_ed5957847efa446b92c872c75cc82e94",
       "max": 400,
       "min": 50,
       "step": 10,
       "style": "IPY_MODEL_21bc2a9002674d3989a706bccd5f1a2c",
       "value": 211
      }
     },
     "4d8e2109e6a94cd592f0f2b6f51c9d56": {
      "model_module": "@jupyter-widgets/controls",
      "model_module_version": "1.5.0",
      "model_name": "SliderStyleModel",
      "state": {
       "description_width": ""
      }
     },
     "4e3d6c59b36344fa94913828106106b1": {
      "model_module": "@jupyter-widgets/controls",
      "model_module_version": "1.5.0",
      "model_name": "SliderStyleModel",
      "state": {
       "description_width": ""
      }
     },
     "4eae16a102a140548a9dbeb1d205fc31": {
      "model_module": "@jupyter-widgets/base",
      "model_module_version": "1.2.0",
      "model_name": "LayoutModel",
      "state": {}
     },
     "4ecdff1c0b324e5b89d1048cf3f05b06": {
      "model_module": "@jupyter-widgets/controls",
      "model_module_version": "1.5.0",
      "model_name": "SliderStyleModel",
      "state": {
       "description_width": ""
      }
     },
     "4efcb2c1695740ba8838a5d7ffe21111": {
      "model_module": "@jupyter-widgets/controls",
      "model_module_version": "1.5.0",
      "model_name": "IntSliderModel",
      "state": {
       "description": "lam",
       "layout": "IPY_MODEL_363ad7590b984a46a7b2bed968c6af45",
       "max": 400,
       "min": 50,
       "step": 10,
       "style": "IPY_MODEL_3a39ef7becb949f0bff02b9ad70c7560",
       "value": 50
      }
     },
     "4fd1622062dc4588a442e68007422356": {
      "model_module": "@jupyter-widgets/controls",
      "model_module_version": "1.5.0",
      "model_name": "SliderStyleModel",
      "state": {
       "description_width": ""
      }
     },
     "51392ba82d12469ebc1898b79a2278e6": {
      "model_module": "@jupyter-widgets/controls",
      "model_module_version": "1.5.0",
      "model_name": "SliderStyleModel",
      "state": {
       "description_width": ""
      }
     },
     "525c681c5ecf415395511ef99e2ac4e0": {
      "model_module": "@jupyter-widgets/base",
      "model_module_version": "1.2.0",
      "model_name": "LayoutModel",
      "state": {}
     },
     "5266df2aa8b84536aa6d892a776ac933": {
      "model_module": "@jupyter-widgets/base",
      "model_module_version": "1.2.0",
      "model_name": "LayoutModel",
      "state": {}
     },
     "52a47c18a65d40fba35a421d5af9d766": {
      "model_module": "@jupyter-widgets/controls",
      "model_module_version": "1.5.0",
      "model_name": "FloatSliderModel",
      "state": {
       "continuous_update": false,
       "description": "r3",
       "layout": "IPY_MODEL_2b4d27d3f7b34fada48f46fcb81bdf75",
       "max": 5,
       "step": 0.5,
       "style": "IPY_MODEL_986ac9ea4c4d4469a104a2f3d0d2c783",
       "value": 1.5
      }
     },
     "5316d070fb844b73854f36d50def074c": {
      "model_module": "@jupyter-widgets/controls",
      "model_module_version": "1.5.0",
      "model_name": "IntSliderModel",
      "state": {
       "continuous_update": false,
       "description": "alpha",
       "layout": "IPY_MODEL_8dd4f7f18ed24307892a2ffc703f3092",
       "min": 1,
       "style": "IPY_MODEL_8afed1f5ce0a456499924f8b2699e91d",
       "value": 5
      }
     },
     "542f74b1665a44cfa910913a92cc2966": {
      "model_module": "@jupyter-widgets/controls",
      "model_module_version": "1.5.0",
      "model_name": "SliderStyleModel",
      "state": {
       "description_width": ""
      }
     },
     "5442979e782747a88034325ab064536a": {
      "model_module": "@jupyter-widgets/base",
      "model_module_version": "1.2.0",
      "model_name": "LayoutModel",
      "state": {}
     },
     "5452f02f1ea34c91afe08bb1870a2a4d": {
      "model_module": "@jupyter-widgets/base",
      "model_module_version": "1.2.0",
      "model_name": "LayoutModel",
      "state": {}
     },
     "547609eab76842ae8f51e82535cb429e": {
      "model_module": "@jupyter-widgets/controls",
      "model_module_version": "1.5.0",
      "model_name": "SliderStyleModel",
      "state": {
       "description_width": ""
      }
     },
     "5484a46a89ad42edbcb2b108b3a2c8d2": {
      "model_module": "@jupyter-widgets/base",
      "model_module_version": "1.2.0",
      "model_name": "LayoutModel",
      "state": {}
     },
     "5539e331480c45739e933deaf2e5367e": {
      "model_module": "@jupyter-widgets/controls",
      "model_module_version": "1.5.0",
      "model_name": "FloatSliderModel",
      "state": {
       "continuous_update": false,
       "description": "sigma2",
       "layout": "IPY_MODEL_d287d4a24fd54687bf2ecdc07ed1bbf4",
       "max": 1200,
       "min": 700,
       "step": 50,
       "style": "IPY_MODEL_b02d4db7cbaf431486452ca03eea5902",
       "value": 900
      }
     },
     "554735b0aebc4be492f3de841f59ba84": {
      "model_module": "@jupyter-widgets/base",
      "model_module_version": "1.2.0",
      "model_name": "LayoutModel",
      "state": {}
     },
     "5573b5b6924e40cda4f499f57692d3c3": {
      "model_module": "@jupyter-widgets/controls",
      "model_module_version": "1.5.0",
      "model_name": "FloatSliderModel",
      "state": {
       "continuous_update": false,
       "description": "mu",
       "layout": "IPY_MODEL_b06a670158b044459a8005f843225261",
       "max": 180,
       "min": 130,
       "step": 10,
       "style": "IPY_MODEL_42d618ce16ac4726a8e3f3d80e55cddf",
       "value": 150
      }
     },
     "55a138736e3a4e4987b24e710ec6889e": {
      "model_module": "@jupyter-widgets/controls",
      "model_module_version": "1.5.0",
      "model_name": "IntSliderModel",
      "state": {
       "continuous_update": false,
       "description": "m",
       "layout": "IPY_MODEL_c0e0d7b787b14a949f27e8a915393d14",
       "max": 1000,
       "min": 10,
       "step": 10,
       "style": "IPY_MODEL_754b7ed7e0754cab99c4b478dc97047d",
       "value": 100
      }
     },
     "55f57840042042dcb969b47b4228c32f": {
      "model_module": "@jupyter-widgets/base",
      "model_module_version": "1.2.0",
      "model_name": "LayoutModel",
      "state": {}
     },
     "5670c1f88a7b4d49a66a06b53c285a6f": {
      "model_module": "@jupyter-widgets/base",
      "model_module_version": "1.2.0",
      "model_name": "LayoutModel",
      "state": {}
     },
     "570ac61926c64cac80ed2511d35efdca": {
      "model_module": "@jupyter-widgets/base",
      "model_module_version": "1.2.0",
      "model_name": "LayoutModel",
      "state": {}
     },
     "576104cdecd34af9bebaad42078a5eae": {
      "model_module": "@jupyter-widgets/controls",
      "model_module_version": "1.5.0",
      "model_name": "FloatSliderModel",
      "state": {
       "description": "r3",
       "layout": "IPY_MODEL_1b5ca8d2185a4df58a913920a8d45ff1",
       "max": 5,
       "step": 0.5,
       "style": "IPY_MODEL_da1248323dee4e04b4e280744e6b2182",
       "value": 1
      }
     },
     "5819679af81d4c47a7bab080d5ba9ae5": {
      "model_module": "@jupyter-widgets/base",
      "model_module_version": "1.2.0",
      "model_name": "LayoutModel",
      "state": {}
     },
     "589d68a0da284d20a6d0f7a80dacba73": {
      "model_module": "@jupyter-widgets/base",
      "model_module_version": "1.2.0",
      "model_name": "LayoutModel",
      "state": {}
     },
     "58d9170b430d4b5cbaf6dd6c7813e03d": {
      "model_module": "@jupyter-widgets/controls",
      "model_module_version": "1.5.0",
      "model_name": "IntSliderModel",
      "state": {
       "description": "m",
       "layout": "IPY_MODEL_2fb7b66108b8413ea312b8a9e5a61498",
       "min": 1,
       "style": "IPY_MODEL_a484775659b84498a755d9a4c399d580",
       "value": 1
      }
     },
     "5963f88922cb471786339008c4938caf": {
      "model_module": "@jupyter-widgets/controls",
      "model_module_version": "1.5.0",
      "model_name": "FloatSliderModel",
      "state": {
       "continuous_update": false,
       "description": "sigma2",
       "layout": "IPY_MODEL_8740223c38cf417ea2cc57884f03ff4d",
       "max": 1200,
       "min": 700,
       "step": 50,
       "style": "IPY_MODEL_9818a8ac41e24d71ba7cfb8d249c6451",
       "value": 900
      }
     },
     "5a6bd79f99e349cb843044a5d7f2dc00": {
      "model_module": "@jupyter-widgets/controls",
      "model_module_version": "1.5.0",
      "model_name": "SliderStyleModel",
      "state": {
       "description_width": ""
      }
     },
     "5b91a4dca7484a6597bce708e7178d7d": {
      "model_module": "@jupyter-widgets/controls",
      "model_module_version": "1.5.0",
      "model_name": "IntSliderModel",
      "state": {
       "description": "alpha",
       "layout": "IPY_MODEL_b4ccfb88d8264746834f546d165065b9",
       "min": 1,
       "style": "IPY_MODEL_b86b1e08732347b090c4fd7788868a37",
       "value": 5
      }
     },
     "5cf6b17107ee4931830b0b8486b26b8a": {
      "model_module": "@jupyter-widgets/controls",
      "model_module_version": "1.5.0",
      "model_name": "IntSliderModel",
      "state": {
       "continuous_update": false,
       "description": "m",
       "layout": "IPY_MODEL_b954e2911c5149c29967261eeaa73a9c",
       "max": 1000,
       "min": 10,
       "step": 10,
       "style": "IPY_MODEL_7560f4221e0144e9aa0f17cf5bce1656",
       "value": 100
      }
     },
     "5d15d482e9684dcfa0b50e528bb4c943": {
      "model_module": "@jupyter-widgets/controls",
      "model_module_version": "1.5.0",
      "model_name": "FloatSliderModel",
      "state": {
       "description": "r2",
       "layout": "IPY_MODEL_a4662454902947099982b98608a5a0ee",
       "max": 5,
       "step": 0.5,
       "style": "IPY_MODEL_70c1a5e7a6314df5b6bdd2d33ba457f2",
       "value": 1
      }
     },
     "5d81ce17bd344f70864e6ca1d7cb6c09": {
      "model_module": "@jupyter-widgets/controls",
      "model_module_version": "1.5.0",
      "model_name": "IntSliderModel",
      "state": {
       "continuous_update": false,
       "description": "alpha",
       "layout": "IPY_MODEL_a360f53e94214f52a3e4ab0d12a447ae",
       "min": 1,
       "style": "IPY_MODEL_d54a0024147e466d85df16a8c7ee834f",
       "value": 5
      }
     },
     "5d9089ed5382448b95053d3eb3af8142": {
      "model_module": "@jupyter-widgets/controls",
      "model_module_version": "1.5.0",
      "model_name": "FloatSliderModel",
      "state": {
       "description": "sigma2",
       "layout": "IPY_MODEL_42ed25b70a9549a8a29ae93cebcfa8a8",
       "max": 0.05,
       "min": 0.01,
       "step": 0.001,
       "style": "IPY_MODEL_2bc7146fa9c445b79af901a39d2a97cc",
       "value": 0.01
      }
     },
     "5dc9106119784f91a83cc21254646bdf": {
      "model_module": "@jupyter-widgets/base",
      "model_module_version": "1.2.0",
      "model_name": "LayoutModel",
      "state": {}
     },
     "5e75c26359bf46f1bf24aea7781b70fb": {
      "model_module": "@jupyter-widgets/controls",
      "model_module_version": "1.5.0",
      "model_name": "SliderStyleModel",
      "state": {
       "description_width": ""
      }
     },
     "5f365581ef6a4763a5d500553dc882d7": {
      "model_module": "@jupyter-widgets/base",
      "model_module_version": "1.2.0",
      "model_name": "LayoutModel",
      "state": {}
     },
     "615097b3b7124a66933a445b8f2259c6": {
      "model_module": "@jupyter-widgets/controls",
      "model_module_version": "1.5.0",
      "model_name": "FloatSliderModel",
      "state": {
       "continuous_update": false,
       "description": "sigma2",
       "layout": "IPY_MODEL_4eae16a102a140548a9dbeb1d205fc31",
       "max": 1200,
       "min": 700,
       "step": 50,
       "style": "IPY_MODEL_1660119f55634bb7b6a70d587a4de7af",
       "value": 900
      }
     },
     "61b6d09e0e3447e596b892a24b376b9b": {
      "model_module": "@jupyter-widgets/base",
      "model_module_version": "1.2.0",
      "model_name": "LayoutModel",
      "state": {}
     },
     "620b712e7823485e91aa14cac2e3cbd3": {
      "model_module": "@jupyter-widgets/controls",
      "model_module_version": "1.5.0",
      "model_name": "SliderStyleModel",
      "state": {
       "description_width": ""
      }
     },
     "620d34b5dabd44c0be7540846e85fd3b": {
      "model_module": "@jupyter-widgets/controls",
      "model_module_version": "1.5.0",
      "model_name": "FloatSliderModel",
      "state": {
       "continuous_update": false,
       "description": "r3",
       "layout": "IPY_MODEL_d690ac8a03fd40fb8cdffb5f94190108",
       "max": 5,
       "step": 0.5,
       "style": "IPY_MODEL_aa306c1dc801432ba4efa9e406abf98e",
       "value": 1.5
      }
     },
     "622f9c505b164bc1bb49f7f96418ef1c": {
      "model_module": "@jupyter-widgets/base",
      "model_module_version": "1.2.0",
      "model_name": "LayoutModel",
      "state": {}
     },
     "6387446d87ba4dfdb14f2b8535668de5": {
      "model_module": "@jupyter-widgets/base",
      "model_module_version": "1.2.0",
      "model_name": "LayoutModel",
      "state": {}
     },
     "65985f76655d47228c1663ea6a2b8f2b": {
      "model_module": "@jupyter-widgets/controls",
      "model_module_version": "1.5.0",
      "model_name": "FloatSliderModel",
      "state": {
       "continuous_update": false,
       "description": "r2",
       "layout": "IPY_MODEL_8683fabcd9484ee5a6cf9bff76105b7f",
       "max": 5,
       "step": 0.5,
       "style": "IPY_MODEL_b9dbfa6068f44a3485831c1e2df81c71",
       "value": 3
      }
     },
     "65d3eeff7165462bace898380a5d5781": {
      "model_module": "@jupyter-widgets/controls",
      "model_module_version": "1.5.0",
      "model_name": "FloatSliderModel",
      "state": {
       "continuous_update": false,
       "description": "r1",
       "layout": "IPY_MODEL_9d220d789dd648d795ba98e1a9e938df",
       "max": 5,
       "step": 0.5,
       "style": "IPY_MODEL_0c50420ecbde49acb8470c7adb6a5cee",
       "value": 5
      }
     },
     "662156b98217470493936e78e7bc749c": {
      "model_module": "@jupyter-widgets/base",
      "model_module_version": "1.2.0",
      "model_name": "LayoutModel",
      "state": {}
     },
     "6714e02ff52249b59429ac1d65b0826e": {
      "model_module": "@jupyter-widgets/controls",
      "model_module_version": "1.5.0",
      "model_name": "SliderStyleModel",
      "state": {
       "description_width": ""
      }
     },
     "67986c25881e493896ee12d2bd6e6212": {
      "model_module": "@jupyter-widgets/controls",
      "model_module_version": "1.5.0",
      "model_name": "IntSliderModel",
      "state": {
       "description": "alpha",
       "layout": "IPY_MODEL_a8a3a20827fe46178fc5e1d4517cba97",
       "min": 1,
       "style": "IPY_MODEL_2e79ecff5fd34182adad6fb51f51b5fe",
       "value": 5
      }
     },
     "684f07780f3845ddaf5a862c9490b04b": {
      "model_module": "@jupyter-widgets/base",
      "model_module_version": "1.2.0",
      "model_name": "LayoutModel",
      "state": {}
     },
     "69085b09c3334ba28be53e134f2e7015": {
      "model_module": "@jupyter-widgets/controls",
      "model_module_version": "1.5.0",
      "model_name": "SliderStyleModel",
      "state": {
       "description_width": ""
      }
     },
     "691cc99ad7b849e9b317d93615644fe9": {
      "model_module": "@jupyter-widgets/base",
      "model_module_version": "1.2.0",
      "model_name": "LayoutModel",
      "state": {}
     },
     "6ab0f94d2aba4bf1aea15a4b6b3c78ad": {
      "model_module": "@jupyter-widgets/controls",
      "model_module_version": "1.5.0",
      "model_name": "VBoxModel",
      "state": {
       "_dom_classes": [
        "widget-interact"
       ],
       "children": [
        "IPY_MODEL_f93be1e3e9444a7ca9643873abf577ec",
        "IPY_MODEL_0d827e74e5d34acf820f37eb83594b5f",
        "IPY_MODEL_2d3740eb2b434d4b9c990e5f1758a41a",
        "IPY_MODEL_282ef2700c72425fb90f4ce60c895a5d",
        "IPY_MODEL_a32431dc63564ffe953706b66b2d25f3",
        "IPY_MODEL_b80c891fd4a44e0a9cbabaf61966a2dc",
        "IPY_MODEL_c4ae670a6f14422ea481f20a98631f9b",
        "IPY_MODEL_67986c25881e493896ee12d2bd6e6212",
        "IPY_MODEL_88077a14a7264a66bf6f2d01ca066ffb",
        "IPY_MODEL_125dd587d21d4946a6cb4a2f9794d558"
       ],
       "layout": "IPY_MODEL_30534b2ebebb4425bc5a29fecd2fc287"
      }
     },
     "6b517fb970c34bb2bd545c13b5e52e49": {
      "model_module": "@jupyter-widgets/controls",
      "model_module_version": "1.5.0",
      "model_name": "SliderStyleModel",
      "state": {
       "description_width": ""
      }
     },
     "6b5e50b77cca4977919ec28a7ddf4c10": {
      "model_module": "@jupyter-widgets/controls",
      "model_module_version": "1.5.0",
      "model_name": "SliderStyleModel",
      "state": {
       "description_width": ""
      }
     },
     "6bf639a28f5143b5aeb6251da2afb08d": {
      "model_module": "@jupyter-widgets/base",
      "model_module_version": "1.2.0",
      "model_name": "LayoutModel",
      "state": {}
     },
     "6c17a640af6c4450a67696b666272998": {
      "model_module": "@jupyter-widgets/base",
      "model_module_version": "1.2.0",
      "model_name": "LayoutModel",
      "state": {}
     },
     "6c1f78b08a7b494394c50610e5f33a85": {
      "model_module": "@jupyter-widgets/controls",
      "model_module_version": "1.5.0",
      "model_name": "SliderStyleModel",
      "state": {
       "description_width": ""
      }
     },
     "6c8870ea8821499ca02979b68df3f6af": {
      "model_module": "@jupyter-widgets/controls",
      "model_module_version": "1.5.0",
      "model_name": "IntSliderModel",
      "state": {
       "continuous_update": false,
       "description": "beta",
       "layout": "IPY_MODEL_bbcbd9e370d3482599151b1258794977",
       "min": 1,
       "style": "IPY_MODEL_38fb719a437e4eecb06345731fa9eebe",
       "value": 5
      }
     },
     "6ce884e5146e4ffd8080ac7a430a2393": {
      "model_module": "@jupyter-widgets/controls",
      "model_module_version": "1.5.0",
      "model_name": "FloatSliderModel",
      "state": {
       "continuous_update": false,
       "description": "r3",
       "layout": "IPY_MODEL_29dcadff4a1849beb6661ef313a854bb",
       "max": 5,
       "step": 0.5,
       "style": "IPY_MODEL_6714e02ff52249b59429ac1d65b0826e",
       "value": 1.5
      }
     },
     "6d931d2ba2f94b8aa218e3a5bc3c27bb": {
      "model_module": "@jupyter-widgets/base",
      "model_module_version": "1.2.0",
      "model_name": "LayoutModel",
      "state": {}
     },
     "6eca7e8d555a41f89ad58ade99940571": {
      "model_module": "@jupyter-widgets/controls",
      "model_module_version": "1.5.0",
      "model_name": "IntSliderModel",
      "state": {
       "continuous_update": false,
       "description": "beta",
       "layout": "IPY_MODEL_589d68a0da284d20a6d0f7a80dacba73",
       "min": 1,
       "style": "IPY_MODEL_69085b09c3334ba28be53e134f2e7015",
       "value": 5
      }
     },
     "6f9b46b8a0e14fe9bfd4b86c5aa24560": {
      "model_module": "@jupyter-widgets/controls",
      "model_module_version": "1.5.0",
      "model_name": "SliderStyleModel",
      "state": {
       "description_width": ""
      }
     },
     "7052119cfaf2474498ee2ad5a2a3fd74": {
      "model_module": "@jupyter-widgets/controls",
      "model_module_version": "1.5.0",
      "model_name": "IntSliderModel",
      "state": {
       "description": "lam",
       "layout": "IPY_MODEL_eba2f4fc94f24415b411f04b936d6e9f",
       "max": 400,
       "min": 50,
       "step": 10,
       "style": "IPY_MODEL_a775ebaaa3d749f5974d72b71139f950",
       "value": 50
      }
     },
     "70c1a5e7a6314df5b6bdd2d33ba457f2": {
      "model_module": "@jupyter-widgets/controls",
      "model_module_version": "1.5.0",
      "model_name": "SliderStyleModel",
      "state": {
       "description_width": ""
      }
     },
     "71469d8d24044c5ea74342d62a1eedfd": {
      "model_module": "@jupyter-widgets/controls",
      "model_module_version": "1.5.0",
      "model_name": "VBoxModel",
      "state": {
       "_dom_classes": [
        "widget-interact"
       ],
       "children": [
        "IPY_MODEL_25a5caac07fb40058470fbd68ccf381f",
        "IPY_MODEL_cd18120d288c4571be3738fb005b7502",
        "IPY_MODEL_f8fc8d027bbd43aaa9c4d620251a132d",
        "IPY_MODEL_5d15d482e9684dcfa0b50e528bb4c943",
        "IPY_MODEL_cc350ea51cd648ec8f2b38806372cb37",
        "IPY_MODEL_c9042652e2f141c885763fb32a63ecc5",
        "IPY_MODEL_f3bb35be7c654a62ad046cdb2f064d84",
        "IPY_MODEL_2ab49306e0da470282deca5ec705a388",
        "IPY_MODEL_bfe983eebd37495992734e0a48d4353f",
        "IPY_MODEL_173fc2a72fcb45e7be39b1c2c5c4b9c3"
       ],
       "layout": "IPY_MODEL_37a954af56dd45dbabf70955879a67b4"
      }
     },
     "718095eae45844c095859791c9f1b8d5": {
      "model_module": "@jupyter-widgets/controls",
      "model_module_version": "1.5.0",
      "model_name": "SliderStyleModel",
      "state": {
       "description_width": ""
      }
     },
     "72f2102b95c847c88d0ca60a53dcbe23": {
      "model_module": "@jupyter-widgets/controls",
      "model_module_version": "1.5.0",
      "model_name": "SliderStyleModel",
      "state": {
       "description_width": ""
      }
     },
     "737f840d5c1e4f928538114b42a0569c": {
      "model_module": "@jupyter-widgets/controls",
      "model_module_version": "1.5.0",
      "model_name": "IntSliderModel",
      "state": {
       "continuous_update": false,
       "description": "m",
       "layout": "IPY_MODEL_983ad1c91cd64642aeec6e8eb18e8b9f",
       "max": 1000,
       "min": 10,
       "step": 10,
       "style": "IPY_MODEL_ef61b17d5f10493daeff1fdf9be71c2d",
       "value": 100
      }
     },
     "739970c0e390497e93b78bc83565c2c8": {
      "model_module": "@jupyter-widgets/base",
      "model_module_version": "1.2.0",
      "model_name": "LayoutModel",
      "state": {}
     },
     "73f098aa00d74b8c915ceeed66076754": {
      "model_module": "@jupyter-widgets/controls",
      "model_module_version": "1.5.0",
      "model_name": "SliderStyleModel",
      "state": {
       "description_width": ""
      }
     },
     "743a9db3c47b49c08ff93127935b2e8e": {
      "model_module": "@jupyter-widgets/base",
      "model_module_version": "1.2.0",
      "model_name": "LayoutModel",
      "state": {}
     },
     "74410a391f224006b75cd47f6b851fbc": {
      "model_module": "@jupyter-widgets/controls",
      "model_module_version": "1.5.0",
      "model_name": "SliderStyleModel",
      "state": {
       "description_width": ""
      }
     },
     "7491b38791a24de38487d83f33363d5c": {
      "model_module": "@jupyter-widgets/controls",
      "model_module_version": "1.5.0",
      "model_name": "SliderStyleModel",
      "state": {
       "description_width": ""
      }
     },
     "754b7ed7e0754cab99c4b478dc97047d": {
      "model_module": "@jupyter-widgets/controls",
      "model_module_version": "1.5.0",
      "model_name": "SliderStyleModel",
      "state": {
       "description_width": ""
      }
     },
     "7560f4221e0144e9aa0f17cf5bce1656": {
      "model_module": "@jupyter-widgets/controls",
      "model_module_version": "1.5.0",
      "model_name": "SliderStyleModel",
      "state": {
       "description_width": ""
      }
     },
     "75ec45aee1204b1a95c5dd82d0bc942e": {
      "model_module": "@jupyter-widgets/output",
      "model_module_version": "1.0.0",
      "model_name": "OutputModel",
      "state": {
       "layout": "IPY_MODEL_850988a0991c42a8a259157790e5bc9d",
       "outputs": [
        {
         "name": "stdout",
         "output_type": "stream",
         "text": "\n\n\tExpected Revenue: $0.37\n"
        }
       ]
      }
     },
     "772cca8e8e0a41a58138de5be622a914": {
      "model_module": "@jupyter-widgets/base",
      "model_module_version": "1.2.0",
      "model_name": "LayoutModel",
      "state": {}
     },
     "772e8ff60fbe47edbb341aaa9dd639f7": {
      "model_module": "@jupyter-widgets/controls",
      "model_module_version": "1.5.0",
      "model_name": "IntSliderModel",
      "state": {
       "description": "alpha",
       "layout": "IPY_MODEL_9f027f23ed9b43f3aa5b9a3c9eabd28b",
       "min": 1,
       "style": "IPY_MODEL_78160a4896a946f5b9640b408173a5d6",
       "value": 5
      }
     },
     "78160a4896a946f5b9640b408173a5d6": {
      "model_module": "@jupyter-widgets/controls",
      "model_module_version": "1.5.0",
      "model_name": "SliderStyleModel",
      "state": {
       "description_width": ""
      }
     },
     "7897e0b0ca81493baecda804f6de2274": {
      "model_module": "@jupyter-widgets/base",
      "model_module_version": "1.2.0",
      "model_name": "LayoutModel",
      "state": {}
     },
     "78a388131c944929a678af302ebab7dd": {
      "model_module": "@jupyter-widgets/base",
      "model_module_version": "1.2.0",
      "model_name": "LayoutModel",
      "state": {}
     },
     "7a22cce09bea41d896ae2560e591015f": {
      "model_module": "@jupyter-widgets/base",
      "model_module_version": "1.2.0",
      "model_name": "LayoutModel",
      "state": {}
     },
     "7b8cc19c328e4cc083bf0dc4f11b467a": {
      "model_module": "@jupyter-widgets/base",
      "model_module_version": "1.2.0",
      "model_name": "LayoutModel",
      "state": {}
     },
     "7e47df12052048fabc1da1f24f62451d": {
      "model_module": "@jupyter-widgets/controls",
      "model_module_version": "1.5.0",
      "model_name": "FloatSliderModel",
      "state": {
       "description": "mu",
       "layout": "IPY_MODEL_b1016fdbc9834a2db2f329bbff4bb96b",
       "max": 7,
       "min": 2,
       "step": 0.5,
       "style": "IPY_MODEL_8cda309696d349cda6838ad9636daaaa",
       "value": 2
      }
     },
     "7ebac76faef64ed092a1444f9bd86d84": {
      "model_module": "@jupyter-widgets/base",
      "model_module_version": "1.2.0",
      "model_name": "LayoutModel",
      "state": {}
     },
     "7ef611dc20a14b0d8e0697603a73ecfd": {
      "model_module": "@jupyter-widgets/controls",
      "model_module_version": "1.5.0",
      "model_name": "IntSliderModel",
      "state": {
       "continuous_update": false,
       "description": "m",
       "layout": "IPY_MODEL_3fcdee124af74d4290ff64fb322825cd",
       "max": 1000,
       "min": 10,
       "step": 10,
       "style": "IPY_MODEL_c2ea70753ea84c228e5fffc6bca1e540",
       "value": 100
      }
     },
     "80379779212c43b8948bd9595f046652": {
      "model_module": "@jupyter-widgets/controls",
      "model_module_version": "1.5.0",
      "model_name": "IntSliderModel",
      "state": {
       "description": "beta",
       "layout": "IPY_MODEL_7b8cc19c328e4cc083bf0dc4f11b467a",
       "min": 1,
       "style": "IPY_MODEL_d325a4bb5b90411fbe84d34d7b347ee6",
       "value": 5
      }
     },
     "8062be2e649c44d399186c5bd34bd6cf": {
      "model_module": "@jupyter-widgets/base",
      "model_module_version": "1.2.0",
      "model_name": "LayoutModel",
      "state": {}
     },
     "80c75b47531543168598480950945b7b": {
      "model_module": "@jupyter-widgets/controls",
      "model_module_version": "1.5.0",
      "model_name": "FloatSliderModel",
      "state": {
       "continuous_update": false,
       "description": "r3",
       "layout": "IPY_MODEL_6387446d87ba4dfdb14f2b8535668de5",
       "max": 5,
       "step": 0.5,
       "style": "IPY_MODEL_de736dcf0973463daeb6a9c3e9989f17",
       "value": 1.5
      }
     },
     "80cd6f1537754cc292605656e2b5ffe5": {
      "model_module": "@jupyter-widgets/controls",
      "model_module_version": "1.5.0",
      "model_name": "FloatSliderModel",
      "state": {
       "continuous_update": false,
       "description": "r2",
       "layout": "IPY_MODEL_bee7303ef2f7470aba50d14aca909b23",
       "max": 5,
       "step": 0.5,
       "style": "IPY_MODEL_fe7f1e7923094fc8b30fadace2e04905",
       "value": 3
      }
     },
     "81b0adb653fc443f8989ae0ee41107ac": {
      "model_module": "@jupyter-widgets/base",
      "model_module_version": "1.2.0",
      "model_name": "LayoutModel",
      "state": {}
     },
     "8442b72b38634222abf6da9e5c2d8299": {
      "model_module": "@jupyter-widgets/controls",
      "model_module_version": "1.5.0",
      "model_name": "FloatSliderModel",
      "state": {
       "continuous_update": false,
       "description": "sigma2",
       "layout": "IPY_MODEL_1bc6a98c75c44def9912ff252f9a9ecf",
       "max": 1200,
       "min": 700,
       "step": 50,
       "style": "IPY_MODEL_0cd235ed888e44568f117ef21324220b",
       "value": 900
      }
     },
     "84dc02a516814954a811cd28b4b3e0d8": {
      "model_module": "@jupyter-widgets/controls",
      "model_module_version": "1.5.0",
      "model_name": "IntSliderModel",
      "state": {
       "description": "m",
       "layout": "IPY_MODEL_684f07780f3845ddaf5a862c9490b04b",
       "min": 1,
       "style": "IPY_MODEL_ea0e5ab251d9419baf3244d72f1517c2",
       "value": 1
      }
     },
     "850988a0991c42a8a259157790e5bc9d": {
      "model_module": "@jupyter-widgets/base",
      "model_module_version": "1.2.0",
      "model_name": "LayoutModel",
      "state": {}
     },
     "851a5ad8ffa0482ab0a2792cb815287f": {
      "model_module": "@jupyter-widgets/base",
      "model_module_version": "1.2.0",
      "model_name": "LayoutModel",
      "state": {}
     },
     "855083918ac24f09a645d284efcc0430": {
      "model_module": "@jupyter-widgets/controls",
      "model_module_version": "1.5.0",
      "model_name": "IntSliderModel",
      "state": {
       "continuous_update": false,
       "description": "alpha",
       "layout": "IPY_MODEL_5f365581ef6a4763a5d500553dc882d7",
       "min": 1,
       "style": "IPY_MODEL_72f2102b95c847c88d0ca60a53dcbe23",
       "value": 5
      }
     },
     "86763a4187da4c42a0b6344408f64fe1": {
      "model_module": "@jupyter-widgets/base",
      "model_module_version": "1.2.0",
      "model_name": "LayoutModel",
      "state": {}
     },
     "867ac3fcef2d42a29c6e93d4b468468a": {
      "model_module": "@jupyter-widgets/base",
      "model_module_version": "1.2.0",
      "model_name": "LayoutModel",
      "state": {}
     },
     "8683fabcd9484ee5a6cf9bff76105b7f": {
      "model_module": "@jupyter-widgets/base",
      "model_module_version": "1.2.0",
      "model_name": "LayoutModel",
      "state": {}
     },
     "8740223c38cf417ea2cc57884f03ff4d": {
      "model_module": "@jupyter-widgets/base",
      "model_module_version": "1.2.0",
      "model_name": "LayoutModel",
      "state": {}
     },
     "875fcdb7ae85476190196ae9886f0476": {
      "model_module": "@jupyter-widgets/controls",
      "model_module_version": "1.5.0",
      "model_name": "SliderStyleModel",
      "state": {
       "description_width": ""
      }
     },
     "87f4264ea39e468f92c2f51cca6da177": {
      "model_module": "@jupyter-widgets/controls",
      "model_module_version": "1.5.0",
      "model_name": "SliderStyleModel",
      "state": {
       "description_width": ""
      }
     },
     "88077a14a7264a66bf6f2d01ca066ffb": {
      "model_module": "@jupyter-widgets/controls",
      "model_module_version": "1.5.0",
      "model_name": "IntSliderModel",
      "state": {
       "description": "beta",
       "layout": "IPY_MODEL_ad1f370a074641328b57654d80183a83",
       "min": 1,
       "style": "IPY_MODEL_a426ba7d84ee450f8402c98a0b193acc",
       "value": 5
      }
     },
     "8832461317634c1d981d98df05ad72c0": {
      "model_module": "@jupyter-widgets/controls",
      "model_module_version": "1.5.0",
      "model_name": "IntSliderModel",
      "state": {
       "description": "m",
       "layout": "IPY_MODEL_37ee46455f694bb29bf227fc9f637db4",
       "min": 1,
       "style": "IPY_MODEL_42ff62c435a848c0ba9ee47c46151478",
       "value": 50
      }
     },
     "896f70de94b84026ab1204041d517eec": {
      "model_module": "@jupyter-widgets/controls",
      "model_module_version": "1.5.0",
      "model_name": "FloatSliderModel",
      "state": {
       "continuous_update": false,
       "description": "r2",
       "layout": "IPY_MODEL_aac07521a1234b849564da230b07545f",
       "max": 5,
       "step": 0.5,
       "style": "IPY_MODEL_c6737a8679064a89a77c015a213b5dd7",
       "value": 3
      }
     },
     "8970bd39c47b4caba4182b172946aa18": {
      "model_module": "@jupyter-widgets/base",
      "model_module_version": "1.2.0",
      "model_name": "LayoutModel",
      "state": {}
     },
     "8a92cf928e5f41a2b4c87dd8d55dcfda": {
      "model_module": "@jupyter-widgets/controls",
      "model_module_version": "1.5.0",
      "model_name": "SliderStyleModel",
      "state": {
       "description_width": ""
      }
     },
     "8afed1f5ce0a456499924f8b2699e91d": {
      "model_module": "@jupyter-widgets/controls",
      "model_module_version": "1.5.0",
      "model_name": "SliderStyleModel",
      "state": {
       "description_width": ""
      }
     },
     "8b87dcd86516476cb4723fdefcaa7a14": {
      "model_module": "@jupyter-widgets/base",
      "model_module_version": "1.2.0",
      "model_name": "LayoutModel",
      "state": {}
     },
     "8c5de26cd3ce4dc580021202092290fe": {
      "model_module": "@jupyter-widgets/controls",
      "model_module_version": "1.5.0",
      "model_name": "VBoxModel",
      "state": {
       "_dom_classes": [
        "widget-interact"
       ],
       "children": [
        "IPY_MODEL_20859d73339e468ca266c111eb1e6a11",
        "IPY_MODEL_e36a46f3bce44b148ab82bc7d0ef8c7c",
        "IPY_MODEL_a2b464a8504b45f0aeba4f2df65df903",
        "IPY_MODEL_90c3f36eca7148508ad26d6683323d34",
        "IPY_MODEL_8efc453959584b2cb9c4f9929ee0a780",
        "IPY_MODEL_a670183536724c20877bc4b7105a6653",
        "IPY_MODEL_d01fcf99fd06495fb2c16582a48397ba",
        "IPY_MODEL_772e8ff60fbe47edbb341aaa9dd639f7",
        "IPY_MODEL_94e2ddd10c2c40709a18be446476b87f",
        "IPY_MODEL_a34ab1a7b549466da6edd6d3608b4b4f"
       ],
       "layout": "IPY_MODEL_dda83dc33c35448aa3b4958b381cb7ab"
      }
     },
     "8cda309696d349cda6838ad9636daaaa": {
      "model_module": "@jupyter-widgets/controls",
      "model_module_version": "1.5.0",
      "model_name": "SliderStyleModel",
      "state": {
       "description_width": ""
      }
     },
     "8dd4f7f18ed24307892a2ffc703f3092": {
      "model_module": "@jupyter-widgets/base",
      "model_module_version": "1.2.0",
      "model_name": "LayoutModel",
      "state": {}
     },
     "8e5fe32c15194954bf7f576642f7d8bc": {
      "model_module": "@jupyter-widgets/controls",
      "model_module_version": "1.5.0",
      "model_name": "SliderStyleModel",
      "state": {
       "description_width": ""
      }
     },
     "8efc453959584b2cb9c4f9929ee0a780": {
      "model_module": "@jupyter-widgets/controls",
      "model_module_version": "1.5.0",
      "model_name": "FloatSliderModel",
      "state": {
       "description": "r3",
       "layout": "IPY_MODEL_96e7bae3535745698ed2a1c128858bc8",
       "max": 5,
       "step": 0.5,
       "style": "IPY_MODEL_d43d58fccdd84af2ab8c965dad917e3e",
       "value": 1
      }
     },
     "8f73b06bf8d2449f9f3bd5e16fe78841": {
      "model_module": "@jupyter-widgets/controls",
      "model_module_version": "1.5.0",
      "model_name": "VBoxModel",
      "state": {
       "_dom_classes": [
        "widget-interact"
       ],
       "children": [
        "IPY_MODEL_737f840d5c1e4f928538114b42a0569c",
        "IPY_MODEL_9e2946bd43ee40aebd33a41b47b0e0c5",
        "IPY_MODEL_f2115d382b6e4f468eac65f7a18e818a",
        "IPY_MODEL_032ee37cd75f4383a68a065104cbac09",
        "IPY_MODEL_1cc81d9f9125470da20e95cb1d82e42d",
        "IPY_MODEL_e3985e24820044e2a1fbe6da44534445",
        "IPY_MODEL_5539e331480c45739e933deaf2e5367e",
        "IPY_MODEL_3fa11e23b65c435280497f0db9719530",
        "IPY_MODEL_98a035ce5a2a4b49a9f389f1447758a2",
        "IPY_MODEL_15e64efc5cbe4404a6c361dbfde532bb"
       ],
       "layout": "IPY_MODEL_9292894548344b3e8d75c13d0d0dd29d"
      }
     },
     "8fa9ea83f42a40a5bd04b5b7542145df": {
      "model_module": "@jupyter-widgets/base",
      "model_module_version": "1.2.0",
      "model_name": "LayoutModel",
      "state": {}
     },
     "90a928e11ec54a31810ff2ef7e868c11": {
      "model_module": "@jupyter-widgets/base",
      "model_module_version": "1.2.0",
      "model_name": "LayoutModel",
      "state": {}
     },
     "90c3f36eca7148508ad26d6683323d34": {
      "model_module": "@jupyter-widgets/controls",
      "model_module_version": "1.5.0",
      "model_name": "FloatSliderModel",
      "state": {
       "description": "r2",
       "layout": "IPY_MODEL_9cf3efb101e04bf89a9f9e82ccac3f1c",
       "max": 5,
       "step": 0.5,
       "style": "IPY_MODEL_3429b14fc17d4372abc07b281e1b61a5",
       "value": 1
      }
     },
     "9292894548344b3e8d75c13d0d0dd29d": {
      "model_module": "@jupyter-widgets/base",
      "model_module_version": "1.2.0",
      "model_name": "LayoutModel",
      "state": {}
     },
     "93fbfe8f6c2d4c36847b1b366419005d": {
      "model_module": "@jupyter-widgets/controls",
      "model_module_version": "1.5.0",
      "model_name": "FloatSliderModel",
      "state": {
       "continuous_update": false,
       "description": "r1",
       "layout": "IPY_MODEL_7a22cce09bea41d896ae2560e591015f",
       "max": 5,
       "step": 0.5,
       "style": "IPY_MODEL_a7885371e578490a93e762d7344349a6",
       "value": 5
      }
     },
     "9456a287d9b149588ef015a49c6a5fc1": {
      "model_module": "@jupyter-widgets/controls",
      "model_module_version": "1.5.0",
      "model_name": "FloatSliderModel",
      "state": {
       "description": "r3",
       "layout": "IPY_MODEL_570ac61926c64cac80ed2511d35efdca",
       "max": 5,
       "step": 0.5,
       "style": "IPY_MODEL_5a6bd79f99e349cb843044a5d7f2dc00",
       "value": 1
      }
     },
     "94e2ddd10c2c40709a18be446476b87f": {
      "model_module": "@jupyter-widgets/controls",
      "model_module_version": "1.5.0",
      "model_name": "IntSliderModel",
      "state": {
       "description": "beta",
       "layout": "IPY_MODEL_4351c36de06b41889d5eec9b66eaa3b7",
       "min": 1,
       "style": "IPY_MODEL_2528549b831042c0b2cf70b21d5cd804",
       "value": 5
      }
     },
     "9540bb3fd32d4fd8ad45d286bd450d83": {
      "model_module": "@jupyter-widgets/base",
      "model_module_version": "1.2.0",
      "model_name": "LayoutModel",
      "state": {}
     },
     "9606f2bcdb0f455f82d469918df6e316": {
      "model_module": "@jupyter-widgets/controls",
      "model_module_version": "1.5.0",
      "model_name": "IntSliderModel",
      "state": {
       "description": "beta",
       "layout": "IPY_MODEL_d1ff37f157a540b08299d89975aa32b8",
       "min": 1,
       "style": "IPY_MODEL_de312f1125aa4a5b9b91c3d8179600ba",
       "value": 5
      }
     },
     "96e7bae3535745698ed2a1c128858bc8": {
      "model_module": "@jupyter-widgets/base",
      "model_module_version": "1.2.0",
      "model_name": "LayoutModel",
      "state": {}
     },
     "96f3a06940ef402a9ad0d9a5aa35ba19": {
      "model_module": "@jupyter-widgets/controls",
      "model_module_version": "1.5.0",
      "model_name": "SliderStyleModel",
      "state": {
       "description_width": ""
      }
     },
     "9756e2c3bc9a44dd9874d42abc71e8ce": {
      "model_module": "@jupyter-widgets/controls",
      "model_module_version": "1.5.0",
      "model_name": "SliderStyleModel",
      "state": {
       "description_width": ""
      }
     },
     "9808791348404e64beb7d17bde7c0157": {
      "model_module": "@jupyter-widgets/base",
      "model_module_version": "1.2.0",
      "model_name": "LayoutModel",
      "state": {}
     },
     "9818a8ac41e24d71ba7cfb8d249c6451": {
      "model_module": "@jupyter-widgets/controls",
      "model_module_version": "1.5.0",
      "model_name": "SliderStyleModel",
      "state": {
       "description_width": ""
      }
     },
     "983ad1c91cd64642aeec6e8eb18e8b9f": {
      "model_module": "@jupyter-widgets/base",
      "model_module_version": "1.2.0",
      "model_name": "LayoutModel",
      "state": {}
     },
     "986ac9ea4c4d4469a104a2f3d0d2c783": {
      "model_module": "@jupyter-widgets/controls",
      "model_module_version": "1.5.0",
      "model_name": "SliderStyleModel",
      "state": {
       "description_width": ""
      }
     },
     "98a035ce5a2a4b49a9f389f1447758a2": {
      "model_module": "@jupyter-widgets/controls",
      "model_module_version": "1.5.0",
      "model_name": "IntSliderModel",
      "state": {
       "continuous_update": false,
       "description": "beta",
       "layout": "IPY_MODEL_851a5ad8ffa0482ab0a2792cb815287f",
       "min": 1,
       "style": "IPY_MODEL_3e9c3b3b9cc847e3b511d86b69ab406c",
       "value": 5
      }
     },
     "98f0c0b170404fdf81e2acb8a5d7380f": {
      "model_module": "@jupyter-widgets/controls",
      "model_module_version": "1.5.0",
      "model_name": "SliderStyleModel",
      "state": {
       "description_width": ""
      }
     },
     "991223d87a9e44eb989b69d42ea99105": {
      "model_module": "@jupyter-widgets/base",
      "model_module_version": "1.2.0",
      "model_name": "LayoutModel",
      "state": {}
     },
     "9bd10458e4584bd4bde9c6db7ff0f2ef": {
      "model_module": "@jupyter-widgets/controls",
      "model_module_version": "1.5.0",
      "model_name": "IntSliderModel",
      "state": {
       "continuous_update": false,
       "description": "beta",
       "layout": "IPY_MODEL_5442979e782747a88034325ab064536a",
       "min": 1,
       "style": "IPY_MODEL_e0855ed449c940789e6df26793cf21cb",
       "value": 5
      }
     },
     "9c97d83e108047d5959db5f15a4022a5": {
      "model_module": "@jupyter-widgets/controls",
      "model_module_version": "1.5.0",
      "model_name": "IntSliderModel",
      "state": {
       "description": "alpha",
       "layout": "IPY_MODEL_ac3a3cdaa23f4586a5083070cd84a77b",
       "min": 1,
       "style": "IPY_MODEL_2deeb4f4506549758ab5dddcbbd8a1da",
       "value": 5
      }
     },
     "9cf0697da7654096a5eaee831d10d3aa": {
      "model_module": "@jupyter-widgets/controls",
      "model_module_version": "1.5.0",
      "model_name": "SliderStyleModel",
      "state": {
       "description_width": ""
      }
     },
     "9cf3efb101e04bf89a9f9e82ccac3f1c": {
      "model_module": "@jupyter-widgets/base",
      "model_module_version": "1.2.0",
      "model_name": "LayoutModel",
      "state": {}
     },
     "9d220d789dd648d795ba98e1a9e938df": {
      "model_module": "@jupyter-widgets/base",
      "model_module_version": "1.2.0",
      "model_name": "LayoutModel",
      "state": {}
     },
     "9d881dcb8f784abc919d00ea010d59eb": {
      "model_module": "@jupyter-widgets/base",
      "model_module_version": "1.2.0",
      "model_name": "LayoutModel",
      "state": {}
     },
     "9e2946bd43ee40aebd33a41b47b0e0c5": {
      "model_module": "@jupyter-widgets/controls",
      "model_module_version": "1.5.0",
      "model_name": "IntSliderModel",
      "state": {
       "continuous_update": false,
       "description": "lam",
       "layout": "IPY_MODEL_bb1d64bc98ee4888b1b22365031b1f44",
       "max": 400,
       "min": 50,
       "step": 10,
       "style": "IPY_MODEL_b663efecdfe04a63b6a7a9b79f0c8f76",
       "value": 211
      }
     },
     "9ef00e2fdc624c90a28b831745154945": {
      "model_module": "@jupyter-widgets/base",
      "model_module_version": "1.2.0",
      "model_name": "LayoutModel",
      "state": {}
     },
     "9f027f23ed9b43f3aa5b9a3c9eabd28b": {
      "model_module": "@jupyter-widgets/base",
      "model_module_version": "1.2.0",
      "model_name": "LayoutModel",
      "state": {}
     },
     "9f041b06c5e7488193e899d5a7e024a4": {
      "model_module": "@jupyter-widgets/base",
      "model_module_version": "1.2.0",
      "model_name": "LayoutModel",
      "state": {}
     },
     "9f6c0900e9c1430e992de9421a01f79e": {
      "model_module": "@jupyter-widgets/controls",
      "model_module_version": "1.5.0",
      "model_name": "SliderStyleModel",
      "state": {
       "description_width": ""
      }
     },
     "a005a003db5e4d68a415da4222f345e0": {
      "model_module": "@jupyter-widgets/controls",
      "model_module_version": "1.5.0",
      "model_name": "SliderStyleModel",
      "state": {
       "description_width": ""
      }
     },
     "a01904d3a4ad443b9b5b2a3c40f08aae": {
      "model_module": "@jupyter-widgets/base",
      "model_module_version": "1.2.0",
      "model_name": "LayoutModel",
      "state": {}
     },
     "a1faad24610e473fa616421a8e30e74f": {
      "model_module": "@jupyter-widgets/output",
      "model_module_version": "1.0.0",
      "model_name": "OutputModel",
      "state": {
       "layout": "IPY_MODEL_1e64049e1c1e49649bbae3ec69c5513e",
       "outputs": [
        {
         "data": {
          "image/png": "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\n",
          "text/plain": "<Figure size 1440x1280 with 5 Axes>"
         },
         "metadata": {},
         "output_type": "display_data"
        }
       ]
      }
     },
     "a2b464a8504b45f0aeba4f2df65df903": {
      "model_module": "@jupyter-widgets/controls",
      "model_module_version": "1.5.0",
      "model_name": "FloatSliderModel",
      "state": {
       "description": "r1",
       "layout": "IPY_MODEL_3f9fa878666f463781ef0cfddf4e64dd",
       "max": 5,
       "step": 0.5,
       "style": "IPY_MODEL_87f4264ea39e468f92c2f51cca6da177",
       "value": 1
      }
     },
     "a32431dc63564ffe953706b66b2d25f3": {
      "model_module": "@jupyter-widgets/controls",
      "model_module_version": "1.5.0",
      "model_name": "FloatSliderModel",
      "state": {
       "description": "r3",
       "layout": "IPY_MODEL_991223d87a9e44eb989b69d42ea99105",
       "max": 5,
       "step": 0.5,
       "style": "IPY_MODEL_718095eae45844c095859791c9f1b8d5",
       "value": 1
      }
     },
     "a34ab1a7b549466da6edd6d3608b4b4f": {
      "model_module": "@jupyter-widgets/output",
      "model_module_version": "1.0.0",
      "model_name": "OutputModel",
      "state": {
       "layout": "IPY_MODEL_06fb1d003e7e40bfae6b400e1eae4f35",
       "outputs": [
        {
         "name": "stdout",
         "output_type": "stream",
         "text": "\n\n\tExpected Revenue: $42.77\n"
        }
       ]
      }
     },
     "a360f53e94214f52a3e4ab0d12a447ae": {
      "model_module": "@jupyter-widgets/base",
      "model_module_version": "1.2.0",
      "model_name": "LayoutModel",
      "state": {}
     },
     "a3e5ddf259b5421fac9abe774f4beaba": {
      "model_module": "@jupyter-widgets/controls",
      "model_module_version": "1.5.0",
      "model_name": "SliderStyleModel",
      "state": {
       "description_width": ""
      }
     },
     "a426ba7d84ee450f8402c98a0b193acc": {
      "model_module": "@jupyter-widgets/controls",
      "model_module_version": "1.5.0",
      "model_name": "SliderStyleModel",
      "state": {
       "description_width": ""
      }
     },
     "a42e8ff4bdff4a60804da92daef320e8": {
      "model_module": "@jupyter-widgets/base",
      "model_module_version": "1.2.0",
      "model_name": "LayoutModel",
      "state": {}
     },
     "a4662454902947099982b98608a5a0ee": {
      "model_module": "@jupyter-widgets/base",
      "model_module_version": "1.2.0",
      "model_name": "LayoutModel",
      "state": {}
     },
     "a484775659b84498a755d9a4c399d580": {
      "model_module": "@jupyter-widgets/controls",
      "model_module_version": "1.5.0",
      "model_name": "SliderStyleModel",
      "state": {
       "description_width": ""
      }
     },
     "a568e487fb6149f3aa3a53e1df9bf642": {
      "model_module": "@jupyter-widgets/controls",
      "model_module_version": "1.5.0",
      "model_name": "SliderStyleModel",
      "state": {
       "description_width": ""
      }
     },
     "a62ceed0605946349c9a5284aa9d8d92": {
      "model_module": "@jupyter-widgets/base",
      "model_module_version": "1.2.0",
      "model_name": "LayoutModel",
      "state": {}
     },
     "a6374ff6546340778082d21f47a30d83": {
      "model_module": "@jupyter-widgets/controls",
      "model_module_version": "1.5.0",
      "model_name": "FloatSliderModel",
      "state": {
       "description": "mu",
       "layout": "IPY_MODEL_31772f266569479bb1e46f05e3c5f5be",
       "max": 7,
       "min": 2,
       "step": 0.5,
       "style": "IPY_MODEL_314b30bde3eb47a9b7768de58cd65a84",
       "value": 2
      }
     },
     "a670183536724c20877bc4b7105a6653": {
      "model_module": "@jupyter-widgets/controls",
      "model_module_version": "1.5.0",
      "model_name": "FloatSliderModel",
      "state": {
       "description": "mu",
       "layout": "IPY_MODEL_691cc99ad7b849e9b317d93615644fe9",
       "max": 7,
       "min": 2,
       "step": 0.5,
       "style": "IPY_MODEL_8a92cf928e5f41a2b4c87dd8d55dcfda",
       "value": 2
      }
     },
     "a775ebaaa3d749f5974d72b71139f950": {
      "model_module": "@jupyter-widgets/controls",
      "model_module_version": "1.5.0",
      "model_name": "SliderStyleModel",
      "state": {
       "description_width": ""
      }
     },
     "a7885371e578490a93e762d7344349a6": {
      "model_module": "@jupyter-widgets/controls",
      "model_module_version": "1.5.0",
      "model_name": "SliderStyleModel",
      "state": {
       "description_width": ""
      }
     },
     "a85c305a880a455d92f7c2be37fb1a7a": {
      "model_module": "@jupyter-widgets/controls",
      "model_module_version": "1.5.0",
      "model_name": "FloatSliderModel",
      "state": {
       "continuous_update": false,
       "description": "mu",
       "layout": "IPY_MODEL_d45bf7f6aa1d4824bcf05b624991cd4b",
       "max": 180,
       "min": 130,
       "step": 10,
       "style": "IPY_MODEL_4e3d6c59b36344fa94913828106106b1",
       "value": 150
      }
     },
     "a8a3a20827fe46178fc5e1d4517cba97": {
      "model_module": "@jupyter-widgets/base",
      "model_module_version": "1.2.0",
      "model_name": "LayoutModel",
      "state": {}
     },
     "aa2c947875b243d6aa0a1520515f4885": {
      "model_module": "@jupyter-widgets/controls",
      "model_module_version": "1.5.0",
      "model_name": "VBoxModel",
      "state": {
       "_dom_classes": [
        "widget-interact"
       ],
       "children": [
        "IPY_MODEL_55a138736e3a4e4987b24e710ec6889e",
        "IPY_MODEL_0a812255615843f2ba3228d02a125564",
        "IPY_MODEL_f09954f52ee5426a9609f63e9a6577c5",
        "IPY_MODEL_bd61a04a20094547842864585f1da4cd",
        "IPY_MODEL_31fc3094a15846858e9a25845176e234",
        "IPY_MODEL_a85c305a880a455d92f7c2be37fb1a7a",
        "IPY_MODEL_5963f88922cb471786339008c4938caf",
        "IPY_MODEL_855083918ac24f09a645d284efcc0430",
        "IPY_MODEL_12340291cd1f48c894dafced27e5e839",
        "IPY_MODEL_a1faad24610e473fa616421a8e30e74f"
       ],
       "layout": "IPY_MODEL_ff4059da5225426caa7cf6cb77b3073c"
      }
     },
     "aa306c1dc801432ba4efa9e406abf98e": {
      "model_module": "@jupyter-widgets/controls",
      "model_module_version": "1.5.0",
      "model_name": "SliderStyleModel",
      "state": {
       "description_width": ""
      }
     },
     "aac07521a1234b849564da230b07545f": {
      "model_module": "@jupyter-widgets/base",
      "model_module_version": "1.2.0",
      "model_name": "LayoutModel",
      "state": {}
     },
     "aaddf447db9249ba8430f698593ab893": {
      "model_module": "@jupyter-widgets/base",
      "model_module_version": "1.2.0",
      "model_name": "LayoutModel",
      "state": {}
     },
     "ab73da972b6a400c9d8138d6cf338988": {
      "model_module": "@jupyter-widgets/output",
      "model_module_version": "1.0.0",
      "model_name": "OutputModel",
      "state": {
       "layout": "IPY_MODEL_d34806a3dccd4cc2b23ef350fa0973cc",
       "outputs": [
        {
         "data": {
          "image/png": "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\n",
          "text/plain": "<Figure size 1440x1280 with 5 Axes>"
         },
         "metadata": {},
         "output_type": "display_data"
        }
       ]
      }
     },
     "ac20293f0e0545578bd37bf93268c339": {
      "model_module": "@jupyter-widgets/controls",
      "model_module_version": "1.5.0",
      "model_name": "IntSliderModel",
      "state": {
       "description": "m",
       "layout": "IPY_MODEL_81b0adb653fc443f8989ae0ee41107ac",
       "min": 1,
       "style": "IPY_MODEL_875fcdb7ae85476190196ae9886f0476",
       "value": 1
      }
     },
     "ac3a3cdaa23f4586a5083070cd84a77b": {
      "model_module": "@jupyter-widgets/base",
      "model_module_version": "1.2.0",
      "model_name": "LayoutModel",
      "state": {}
     },
     "acf2642aac2a4f5c950d2279e3965448": {
      "model_module": "@jupyter-widgets/controls",
      "model_module_version": "1.5.0",
      "model_name": "IntSliderModel",
      "state": {
       "description": "beta",
       "layout": "IPY_MODEL_86763a4187da4c42a0b6344408f64fe1",
       "min": 1,
       "style": "IPY_MODEL_473526ddfe7d47f5ba27f882b6788738",
       "value": 5
      }
     },
     "ad0917d98e364aebafae142c98f0b37a": {
      "model_module": "@jupyter-widgets/base",
      "model_module_version": "1.2.0",
      "model_name": "LayoutModel",
      "state": {}
     },
     "ad1f370a074641328b57654d80183a83": {
      "model_module": "@jupyter-widgets/base",
      "model_module_version": "1.2.0",
      "model_name": "LayoutModel",
      "state": {}
     },
     "ae00d367d9f54eeb87388445e289ff18": {
      "model_module": "@jupyter-widgets/base",
      "model_module_version": "1.2.0",
      "model_name": "LayoutModel",
      "state": {}
     },
     "afaf7b5480344b4ab22a7948dd227ab2": {
      "model_module": "@jupyter-widgets/controls",
      "model_module_version": "1.5.0",
      "model_name": "SliderStyleModel",
      "state": {
       "description_width": ""
      }
     },
     "afb026b877c049a981e402d29bf30e6f": {
      "model_module": "@jupyter-widgets/output",
      "model_module_version": "1.0.0",
      "model_name": "OutputModel",
      "state": {
       "layout": "IPY_MODEL_2450d1e2de1d40049e15f360740041f7",
       "outputs": [
        {
         "data": {
          "image/png": "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\n",
          "text/plain": "<Figure size 1440x1280 with 5 Axes>"
         },
         "metadata": {},
         "output_type": "display_data"
        }
       ]
      }
     },
     "b02d4db7cbaf431486452ca03eea5902": {
      "model_module": "@jupyter-widgets/controls",
      "model_module_version": "1.5.0",
      "model_name": "SliderStyleModel",
      "state": {
       "description_width": ""
      }
     },
     "b06a670158b044459a8005f843225261": {
      "model_module": "@jupyter-widgets/base",
      "model_module_version": "1.2.0",
      "model_name": "LayoutModel",
      "state": {}
     },
     "b1016fdbc9834a2db2f329bbff4bb96b": {
      "model_module": "@jupyter-widgets/base",
      "model_module_version": "1.2.0",
      "model_name": "LayoutModel",
      "state": {}
     },
     "b11e96fa144c4a798354acb5ee798c2b": {
      "model_module": "@jupyter-widgets/base",
      "model_module_version": "1.2.0",
      "model_name": "LayoutModel",
      "state": {}
     },
     "b331dd6176ac4dce8141955348d9103d": {
      "model_module": "@jupyter-widgets/base",
      "model_module_version": "1.2.0",
      "model_name": "LayoutModel",
      "state": {}
     },
     "b336e0db63df459695d75c152fc661f9": {
      "model_module": "@jupyter-widgets/base",
      "model_module_version": "1.2.0",
      "model_name": "LayoutModel",
      "state": {}
     },
     "b37775efeaca43e0b4aaa3b3fbef8a55": {
      "model_module": "@jupyter-widgets/controls",
      "model_module_version": "1.5.0",
      "model_name": "SliderStyleModel",
      "state": {
       "description_width": ""
      }
     },
     "b39e4baebd804f5596bf17b79d84f5c2": {
      "model_module": "@jupyter-widgets/controls",
      "model_module_version": "1.5.0",
      "model_name": "IntSliderModel",
      "state": {
       "description": "lam",
       "layout": "IPY_MODEL_7897e0b0ca81493baecda804f6de2274",
       "max": 400,
       "min": 50,
       "step": 10,
       "style": "IPY_MODEL_be5b98a8afad4ccabb294b2ba224ec4d",
       "value": 50
      }
     },
     "b4ccfb88d8264746834f546d165065b9": {
      "model_module": "@jupyter-widgets/base",
      "model_module_version": "1.2.0",
      "model_name": "LayoutModel",
      "state": {}
     },
     "b62ca9ed2ca4437a91bb38d80a9ecaac": {
      "model_module": "@jupyter-widgets/controls",
      "model_module_version": "1.5.0",
      "model_name": "SliderStyleModel",
      "state": {
       "description_width": ""
      }
     },
     "b63a8305afff4747bcb8a26ca904e52e": {
      "model_module": "@jupyter-widgets/controls",
      "model_module_version": "1.5.0",
      "model_name": "VBoxModel",
      "state": {
       "_dom_classes": [
        "widget-interact"
       ],
       "children": [
        "IPY_MODEL_ac20293f0e0545578bd37bf93268c339",
        "IPY_MODEL_4efcb2c1695740ba8838a5d7ffe21111",
        "IPY_MODEL_c56b175cec9c4340991ddd8ca628a120",
        "IPY_MODEL_c31d7ad27b924089b44483bd14ebb5c3",
        "IPY_MODEL_40193593cb1c4a1b8fd28c8fe61f4f11",
        "IPY_MODEL_f12a143b6654494ca05a218d81ab73e5",
        "IPY_MODEL_fa894e72860849e79a6da0de436056d5",
        "IPY_MODEL_5b91a4dca7484a6597bce708e7178d7d",
        "IPY_MODEL_acf2642aac2a4f5c950d2279e3965448",
        "IPY_MODEL_b6ea67bacaa14566b3ef40765f6191dc"
       ],
       "layout": "IPY_MODEL_141b2ecc614e4cfd9a7a5ee1bd516100"
      }
     },
     "b663efecdfe04a63b6a7a9b79f0c8f76": {
      "model_module": "@jupyter-widgets/controls",
      "model_module_version": "1.5.0",
      "model_name": "SliderStyleModel",
      "state": {
       "description_width": ""
      }
     },
     "b6c88b6f7cb94f82af65e4390586cb9f": {
      "model_module": "@jupyter-widgets/controls",
      "model_module_version": "1.5.0",
      "model_name": "FloatSliderModel",
      "state": {
       "continuous_update": false,
       "description": "mu",
       "layout": "IPY_MODEL_22e5e22639454932af4da72d14dd3eee",
       "max": 180,
       "min": 130,
       "step": 10,
       "style": "IPY_MODEL_74410a391f224006b75cd47f6b851fbc",
       "value": 150
      }
     },
     "b6e5f85b80be47ee8df93c5fbd1530a1": {
      "model_module": "@jupyter-widgets/controls",
      "model_module_version": "1.5.0",
      "model_name": "SliderStyleModel",
      "state": {
       "description_width": ""
      }
     },
     "b6ea67bacaa14566b3ef40765f6191dc": {
      "model_module": "@jupyter-widgets/output",
      "model_module_version": "1.0.0",
      "model_name": "OutputModel",
      "state": {
       "layout": "IPY_MODEL_dc83a95b952e46279a6ff77bba37bf74",
       "outputs": [
        {
         "name": "stdout",
         "output_type": "stream",
         "text": "\n\n\tExpected Revenue: $0.37\n"
        }
       ]
      }
     },
     "b77f14f0a320446e892583e69f9d65c5": {
      "model_module": "@jupyter-widgets/controls",
      "model_module_version": "1.5.0",
      "model_name": "VBoxModel",
      "state": {
       "_dom_classes": [
        "widget-interact"
       ],
       "children": [
        "IPY_MODEL_5cf6b17107ee4931830b0b8486b26b8a",
        "IPY_MODEL_206ff1d76987492d8b3a0db9cf27ec5e",
        "IPY_MODEL_65d3eeff7165462bace898380a5d5781",
        "IPY_MODEL_896f70de94b84026ab1204041d517eec",
        "IPY_MODEL_6ce884e5146e4ffd8080ac7a430a2393",
        "IPY_MODEL_5573b5b6924e40cda4f499f57692d3c3",
        "IPY_MODEL_cd7dbe64662345b9801bd0cbf737a050",
        "IPY_MODEL_3d8b8f74d29b45d797117270e9c3938c",
        "IPY_MODEL_6c8870ea8821499ca02979b68df3f6af",
        "IPY_MODEL_afb026b877c049a981e402d29bf30e6f"
       ],
       "layout": "IPY_MODEL_5819679af81d4c47a7bab080d5ba9ae5"
      }
     },
     "b80c891fd4a44e0a9cbabaf61966a2dc": {
      "model_module": "@jupyter-widgets/controls",
      "model_module_version": "1.5.0",
      "model_name": "FloatSliderModel",
      "state": {
       "description": "mu",
       "layout": "IPY_MODEL_739970c0e390497e93b78bc83565c2c8",
       "max": 7,
       "min": 2,
       "step": 0.5,
       "style": "IPY_MODEL_f88fb49d5bd34e8a86e148bf734525da",
       "value": 2
      }
     },
     "b86b1e08732347b090c4fd7788868a37": {
      "model_module": "@jupyter-widgets/controls",
      "model_module_version": "1.5.0",
      "model_name": "SliderStyleModel",
      "state": {
       "description_width": ""
      }
     },
     "b90ac2018a264ef19301de6d2504951e": {
      "model_module": "@jupyter-widgets/controls",
      "model_module_version": "1.5.0",
      "model_name": "SliderStyleModel",
      "state": {
       "description_width": ""
      }
     },
     "b954e2911c5149c29967261eeaa73a9c": {
      "model_module": "@jupyter-widgets/base",
      "model_module_version": "1.2.0",
      "model_name": "LayoutModel",
      "state": {}
     },
     "b95fdde15caa45eeb0ecc02419f73648": {
      "model_module": "@jupyter-widgets/controls",
      "model_module_version": "1.5.0",
      "model_name": "SliderStyleModel",
      "state": {
       "description_width": ""
      }
     },
     "b9dbfa6068f44a3485831c1e2df81c71": {
      "model_module": "@jupyter-widgets/controls",
      "model_module_version": "1.5.0",
      "model_name": "SliderStyleModel",
      "state": {
       "description_width": ""
      }
     },
     "b9eedc555390476f8930b63907535782": {
      "model_module": "@jupyter-widgets/base",
      "model_module_version": "1.2.0",
      "model_name": "LayoutModel",
      "state": {}
     },
     "baa3d49fe44c4881a6e9f91855963079": {
      "model_module": "@jupyter-widgets/controls",
      "model_module_version": "1.5.0",
      "model_name": "IntSliderModel",
      "state": {
       "description": "beta",
       "layout": "IPY_MODEL_61b6d09e0e3447e596b892a24b376b9b",
       "min": 1,
       "style": "IPY_MODEL_fe12df968aa94be49786a919a6671221",
       "value": 5
      }
     },
     "bb1d64bc98ee4888b1b22365031b1f44": {
      "model_module": "@jupyter-widgets/base",
      "model_module_version": "1.2.0",
      "model_name": "LayoutModel",
      "state": {}
     },
     "bb87da94ff4d4843aaa137aa551ab02a": {
      "model_module": "@jupyter-widgets/controls",
      "model_module_version": "1.5.0",
      "model_name": "SliderStyleModel",
      "state": {
       "description_width": ""
      }
     },
     "bbcbd9e370d3482599151b1258794977": {
      "model_module": "@jupyter-widgets/base",
      "model_module_version": "1.2.0",
      "model_name": "LayoutModel",
      "state": {}
     },
     "bc339312bdd64762b26057b114fd981c": {
      "model_module": "@jupyter-widgets/controls",
      "model_module_version": "1.5.0",
      "model_name": "FloatSliderModel",
      "state": {
       "continuous_update": false,
       "description": "r1",
       "layout": "IPY_MODEL_43d69f98b8704af88d55458e858dade2",
       "max": 5,
       "step": 0.5,
       "style": "IPY_MODEL_21eec57519324d6b86e98ba01e270008",
       "value": 5
      }
     },
     "bc591c61ccc141e2aa746d96570109e3": {
      "model_module": "@jupyter-widgets/output",
      "model_module_version": "1.0.0",
      "model_name": "OutputModel",
      "state": {
       "layout": "IPY_MODEL_dff6c82d6bd54ebea7425ec3646eb546",
       "outputs": [
        {
         "name": "stdout",
         "output_type": "stream",
         "text": "\n\n\tExpected Revenue: $0.37\n"
        }
       ]
      }
     },
     "bcaed8be39404f2fa08950c810c0bd79": {
      "model_module": "@jupyter-widgets/base",
      "model_module_version": "1.2.0",
      "model_name": "LayoutModel",
      "state": {}
     },
     "bd1572d163484356a16cb70deacde5d1": {
      "model_module": "@jupyter-widgets/controls",
      "model_module_version": "1.5.0",
      "model_name": "SliderStyleModel",
      "state": {
       "description_width": ""
      }
     },
     "bd61a04a20094547842864585f1da4cd": {
      "model_module": "@jupyter-widgets/controls",
      "model_module_version": "1.5.0",
      "model_name": "FloatSliderModel",
      "state": {
       "continuous_update": false,
       "description": "r2",
       "layout": "IPY_MODEL_29ab8556f5ea4da9b264e7cf3e0a932b",
       "max": 5,
       "step": 0.5,
       "style": "IPY_MODEL_be113cdad8764ecd8dc35c679f4999ae",
       "value": 3
      }
     },
     "bd6ac8775d8c4640b97615fa6fc13704": {
      "model_module": "@jupyter-widgets/controls",
      "model_module_version": "1.5.0",
      "model_name": "SliderStyleModel",
      "state": {
       "description_width": ""
      }
     },
     "bdff662208974d01a4593baef06256bd": {
      "model_module": "@jupyter-widgets/controls",
      "model_module_version": "1.5.0",
      "model_name": "SliderStyleModel",
      "state": {
       "description_width": ""
      }
     },
     "be113cdad8764ecd8dc35c679f4999ae": {
      "model_module": "@jupyter-widgets/controls",
      "model_module_version": "1.5.0",
      "model_name": "SliderStyleModel",
      "state": {
       "description_width": ""
      }
     },
     "be5b98a8afad4ccabb294b2ba224ec4d": {
      "model_module": "@jupyter-widgets/controls",
      "model_module_version": "1.5.0",
      "model_name": "SliderStyleModel",
      "state": {
       "description_width": ""
      }
     },
     "bee7303ef2f7470aba50d14aca909b23": {
      "model_module": "@jupyter-widgets/base",
      "model_module_version": "1.2.0",
      "model_name": "LayoutModel",
      "state": {}
     },
     "bfe983eebd37495992734e0a48d4353f": {
      "model_module": "@jupyter-widgets/controls",
      "model_module_version": "1.5.0",
      "model_name": "IntSliderModel",
      "state": {
       "description": "beta",
       "layout": "IPY_MODEL_5484a46a89ad42edbcb2b108b3a2c8d2",
       "min": 1,
       "style": "IPY_MODEL_2e16985b65ce45a7a494654f1f7a71a7",
       "value": 5
      }
     },
     "c0e0d7b787b14a949f27e8a915393d14": {
      "model_module": "@jupyter-widgets/base",
      "model_module_version": "1.2.0",
      "model_name": "LayoutModel",
      "state": {}
     },
     "c1e2c5936c564defb282422dd0c41908": {
      "model_module": "@jupyter-widgets/controls",
      "model_module_version": "1.5.0",
      "model_name": "IntSliderModel",
      "state": {
       "continuous_update": false,
       "description": "lam",
       "layout": "IPY_MODEL_041b2e02798545e4b7328fda9b1ca902",
       "max": 400,
       "min": 50,
       "step": 10,
       "style": "IPY_MODEL_e3203ee2576a42408d7f57052db6fe0e",
       "value": 211
      }
     },
     "c2ea70753ea84c228e5fffc6bca1e540": {
      "model_module": "@jupyter-widgets/controls",
      "model_module_version": "1.5.0",
      "model_name": "SliderStyleModel",
      "state": {
       "description_width": ""
      }
     },
     "c31d7ad27b924089b44483bd14ebb5c3": {
      "model_module": "@jupyter-widgets/controls",
      "model_module_version": "1.5.0",
      "model_name": "FloatSliderModel",
      "state": {
       "description": "r2",
       "layout": "IPY_MODEL_bcaed8be39404f2fa08950c810c0bd79",
       "max": 5,
       "step": 0.5,
       "style": "IPY_MODEL_dbc55fd940eb4c4680b17e46026da9b1",
       "value": 1
      }
     },
     "c3b9127bf99b40db8168563e7c64db90": {
      "model_module": "@jupyter-widgets/controls",
      "model_module_version": "1.5.0",
      "model_name": "SliderStyleModel",
      "state": {
       "description_width": ""
      }
     },
     "c4ae670a6f14422ea481f20a98631f9b": {
      "model_module": "@jupyter-widgets/controls",
      "model_module_version": "1.5.0",
      "model_name": "FloatSliderModel",
      "state": {
       "description": "sigma2",
       "layout": "IPY_MODEL_9f041b06c5e7488193e899d5a7e024a4",
       "max": 0.05,
       "min": 0.01,
       "step": 0.001,
       "style": "IPY_MODEL_7491b38791a24de38487d83f33363d5c",
       "value": 0.01
      }
     },
     "c56b175cec9c4340991ddd8ca628a120": {
      "model_module": "@jupyter-widgets/controls",
      "model_module_version": "1.5.0",
      "model_name": "FloatSliderModel",
      "state": {
       "description": "r1",
       "layout": "IPY_MODEL_9d881dcb8f784abc919d00ea010d59eb",
       "max": 5,
       "step": 0.5,
       "style": "IPY_MODEL_547609eab76842ae8f51e82535cb429e",
       "value": 1
      }
     },
     "c6737a8679064a89a77c015a213b5dd7": {
      "model_module": "@jupyter-widgets/controls",
      "model_module_version": "1.5.0",
      "model_name": "SliderStyleModel",
      "state": {
       "description_width": ""
      }
     },
     "c690886e95f041a2a48bc93ed7382ad2": {
      "model_module": "@jupyter-widgets/controls",
      "model_module_version": "1.5.0",
      "model_name": "SliderStyleModel",
      "state": {
       "description_width": ""
      }
     },
     "c80aa6ef0ac64299bfcddf15cc643cbc": {
      "model_module": "@jupyter-widgets/controls",
      "model_module_version": "1.5.0",
      "model_name": "IntSliderModel",
      "state": {
       "continuous_update": false,
       "description": "alpha",
       "layout": "IPY_MODEL_cea096f27aad4f748fefc973c936d974",
       "min": 1,
       "style": "IPY_MODEL_98f0c0b170404fdf81e2acb8a5d7380f",
       "value": 5
      }
     },
     "c9042652e2f141c885763fb32a63ecc5": {
      "model_module": "@jupyter-widgets/controls",
      "model_module_version": "1.5.0",
      "model_name": "FloatSliderModel",
      "state": {
       "description": "mu",
       "layout": "IPY_MODEL_cc20668cb14e4ccf97963dd25a403f4f",
       "max": 7,
       "min": 2,
       "step": 0.5,
       "style": "IPY_MODEL_5e75c26359bf46f1bf24aea7781b70fb",
       "value": 2
      }
     },
     "c9e07abea94e45379c137d1bed68d7b8": {
      "model_module": "@jupyter-widgets/controls",
      "model_module_version": "1.5.0",
      "model_name": "SliderStyleModel",
      "state": {
       "description_width": ""
      }
     },
     "ca8baec1a25942aeabc26e36e212b927": {
      "model_module": "@jupyter-widgets/controls",
      "model_module_version": "1.5.0",
      "model_name": "SliderStyleModel",
      "state": {
       "description_width": ""
      }
     },
     "cae3b7ee69914f82a96badc5e855aadb": {
      "model_module": "@jupyter-widgets/output",
      "model_module_version": "1.0.0",
      "model_name": "OutputModel",
      "state": {
       "layout": "IPY_MODEL_e74d83c8b2954a95913f827b34a5937f",
       "outputs": [
        {
         "data": {
          "image/png": "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\n",
          "text/plain": "<Figure size 1440x1280 with 5 Axes>"
         },
         "metadata": {},
         "output_type": "display_data"
        }
       ]
      }
     },
     "cb780454adee4e5f93a6f1f0c885fc36": {
      "model_module": "@jupyter-widgets/controls",
      "model_module_version": "1.5.0",
      "model_name": "FloatSliderModel",
      "state": {
       "continuous_update": false,
       "description": "r1",
       "layout": "IPY_MODEL_ae00d367d9f54eeb87388445e289ff18",
       "max": 5,
       "step": 0.5,
       "style": "IPY_MODEL_96f3a06940ef402a9ad0d9a5aa35ba19",
       "value": 5
      }
     },
     "cbd06a1416614e3798bc2a3586d2009c": {
      "model_module": "@jupyter-widgets/controls",
      "model_module_version": "1.5.0",
      "model_name": "FloatSliderModel",
      "state": {
       "description": "sigma2",
       "layout": "IPY_MODEL_ee5ebb1a9b8b499da9fc8f6fbeeff6ac",
       "max": 0.05,
       "min": 0.01,
       "step": 0.001,
       "style": "IPY_MODEL_4ecdff1c0b324e5b89d1048cf3f05b06",
       "value": 0.01
      }
     },
     "cbe39e77c74c4a02abf0afe78c9ab46f": {
      "model_module": "@jupyter-widgets/controls",
      "model_module_version": "1.5.0",
      "model_name": "SliderStyleModel",
      "state": {
       "description_width": ""
      }
     },
     "cc20668cb14e4ccf97963dd25a403f4f": {
      "model_module": "@jupyter-widgets/base",
      "model_module_version": "1.2.0",
      "model_name": "LayoutModel",
      "state": {}
     },
     "cc350ea51cd648ec8f2b38806372cb37": {
      "model_module": "@jupyter-widgets/controls",
      "model_module_version": "1.5.0",
      "model_name": "FloatSliderModel",
      "state": {
       "description": "r3",
       "layout": "IPY_MODEL_da87ce48c5384474b7c2d98c3c45372f",
       "max": 5,
       "step": 0.5,
       "style": "IPY_MODEL_6b517fb970c34bb2bd545c13b5e52e49",
       "value": 1
      }
     },
     "cd18120d288c4571be3738fb005b7502": {
      "model_module": "@jupyter-widgets/controls",
      "model_module_version": "1.5.0",
      "model_name": "IntSliderModel",
      "state": {
       "description": "lam",
       "layout": "IPY_MODEL_3c95208ee6554f48877c02faf6a74932",
       "max": 400,
       "min": 50,
       "step": 10,
       "style": "IPY_MODEL_4be9cc256f874d40b01de85b6cd5774f",
       "value": 50
      }
     },
     "cd1f17d2bfb74b638fd1fef21d92aa14": {
      "model_module": "@jupyter-widgets/controls",
      "model_module_version": "1.5.0",
      "model_name": "VBoxModel",
      "state": {
       "_dom_classes": [
        "widget-interact"
       ],
       "children": [
        "IPY_MODEL_84dc02a516814954a811cd28b4b3e0d8",
        "IPY_MODEL_7052119cfaf2474498ee2ad5a2a3fd74",
        "IPY_MODEL_e58a9113c8ba4e55ae726f5301d85d41",
        "IPY_MODEL_e92ee1f4a6194c35a59b2e9df7e97c99",
        "IPY_MODEL_9456a287d9b149588ef015a49c6a5fc1",
        "IPY_MODEL_2806bab89b1249beb7c63311b9d73587",
        "IPY_MODEL_2ce2e07e7e4f48e98958fb8f96920fca",
        "IPY_MODEL_ce8bd406e1e44cdab77e53d32d4f7c3b",
        "IPY_MODEL_baa3d49fe44c4881a6e9f91855963079",
        "IPY_MODEL_75ec45aee1204b1a95c5dd82d0bc942e"
       ],
       "layout": "IPY_MODEL_525c681c5ecf415395511ef99e2ac4e0"
      }
     },
     "cd7dbe64662345b9801bd0cbf737a050": {
      "model_module": "@jupyter-widgets/controls",
      "model_module_version": "1.5.0",
      "model_name": "FloatSliderModel",
      "state": {
       "continuous_update": false,
       "description": "sigma2",
       "layout": "IPY_MODEL_f07854c609604340b504d1f599039fd5",
       "max": 1200,
       "min": 700,
       "step": 50,
       "style": "IPY_MODEL_f0e5bbe0d1f14121a09ba07d77fd337c",
       "value": 900
      }
     },
     "ce8bd406e1e44cdab77e53d32d4f7c3b": {
      "model_module": "@jupyter-widgets/controls",
      "model_module_version": "1.5.0",
      "model_name": "IntSliderModel",
      "state": {
       "description": "alpha",
       "layout": "IPY_MODEL_554735b0aebc4be492f3de841f59ba84",
       "min": 1,
       "style": "IPY_MODEL_40994045a4184690a335c4e2a10bc09c",
       "value": 5
      }
     },
     "cea096f27aad4f748fefc973c936d974": {
      "model_module": "@jupyter-widgets/base",
      "model_module_version": "1.2.0",
      "model_name": "LayoutModel",
      "state": {}
     },
     "cfc63a2456f14668991bbec0dcee9ae6": {
      "model_module": "@jupyter-widgets/controls",
      "model_module_version": "1.5.0",
      "model_name": "FloatSliderModel",
      "state": {
       "continuous_update": false,
       "description": "sigma2",
       "layout": "IPY_MODEL_ad0917d98e364aebafae142c98f0b37a",
       "max": 1200,
       "min": 700,
       "step": 50,
       "style": "IPY_MODEL_6b5e50b77cca4977919ec28a7ddf4c10",
       "value": 900
      }
     },
     "d01fcf99fd06495fb2c16582a48397ba": {
      "model_module": "@jupyter-widgets/controls",
      "model_module_version": "1.5.0",
      "model_name": "FloatSliderModel",
      "state": {
       "description": "sigma2",
       "layout": "IPY_MODEL_662156b98217470493936e78e7bc749c",
       "max": 0.05,
       "min": 0.01,
       "step": 0.001,
       "style": "IPY_MODEL_ee86d5c158e447f09a5ac415494bf787",
       "value": 0.01
      }
     },
     "d0f2de3120f048b7998decbfad4db976": {
      "model_module": "@jupyter-widgets/controls",
      "model_module_version": "1.5.0",
      "model_name": "FloatSliderModel",
      "state": {
       "description": "r2",
       "layout": "IPY_MODEL_e248e77c7eef47609a2e240545bcf619",
       "max": 5,
       "step": 0.5,
       "style": "IPY_MODEL_0a5a638548cb4b00b2d1337091f37141",
       "value": 1
      }
     },
     "d13421d9f19a49428f685b5536c8c126": {
      "model_module": "@jupyter-widgets/base",
      "model_module_version": "1.2.0",
      "model_name": "LayoutModel",
      "state": {}
     },
     "d1592063b19a47a1844c4725650889b6": {
      "model_module": "@jupyter-widgets/controls",
      "model_module_version": "1.5.0",
      "model_name": "IntSliderModel",
      "state": {
       "continuous_update": false,
       "description": "m",
       "layout": "IPY_MODEL_b9eedc555390476f8930b63907535782",
       "max": 1000,
       "min": 10,
       "step": 10,
       "style": "IPY_MODEL_235861c8c224464ab038859dae6ae514",
       "value": 100
      }
     },
     "d1ff37f157a540b08299d89975aa32b8": {
      "model_module": "@jupyter-widgets/base",
      "model_module_version": "1.2.0",
      "model_name": "LayoutModel",
      "state": {}
     },
     "d23e461fa27349758b584feebf77c06f": {
      "model_module": "@jupyter-widgets/base",
      "model_module_version": "1.2.0",
      "model_name": "LayoutModel",
      "state": {}
     },
     "d287d4a24fd54687bf2ecdc07ed1bbf4": {
      "model_module": "@jupyter-widgets/base",
      "model_module_version": "1.2.0",
      "model_name": "LayoutModel",
      "state": {}
     },
     "d325a4bb5b90411fbe84d34d7b347ee6": {
      "model_module": "@jupyter-widgets/controls",
      "model_module_version": "1.5.0",
      "model_name": "SliderStyleModel",
      "state": {
       "description_width": ""
      }
     },
     "d34806a3dccd4cc2b23ef350fa0973cc": {
      "model_module": "@jupyter-widgets/base",
      "model_module_version": "1.2.0",
      "model_name": "LayoutModel",
      "state": {}
     },
     "d3994a7776334ef89d4e57f7979ff8bb": {
      "model_module": "@jupyter-widgets/controls",
      "model_module_version": "1.5.0",
      "model_name": "SliderStyleModel",
      "state": {
       "description_width": ""
      }
     },
     "d43d58fccdd84af2ab8c965dad917e3e": {
      "model_module": "@jupyter-widgets/controls",
      "model_module_version": "1.5.0",
      "model_name": "SliderStyleModel",
      "state": {
       "description_width": ""
      }
     },
     "d45bf7f6aa1d4824bcf05b624991cd4b": {
      "model_module": "@jupyter-widgets/base",
      "model_module_version": "1.2.0",
      "model_name": "LayoutModel",
      "state": {}
     },
     "d54a0024147e466d85df16a8c7ee834f": {
      "model_module": "@jupyter-widgets/controls",
      "model_module_version": "1.5.0",
      "model_name": "SliderStyleModel",
      "state": {
       "description_width": ""
      }
     },
     "d5f78fb33ba740699e720bd4df042241": {
      "model_module": "@jupyter-widgets/controls",
      "model_module_version": "1.5.0",
      "model_name": "SliderStyleModel",
      "state": {
       "description_width": ""
      }
     },
     "d690ac8a03fd40fb8cdffb5f94190108": {
      "model_module": "@jupyter-widgets/base",
      "model_module_version": "1.2.0",
      "model_name": "LayoutModel",
      "state": {}
     },
     "d754def19a2241b58222eac7eb8e1e79": {
      "model_module": "@jupyter-widgets/controls",
      "model_module_version": "1.5.0",
      "model_name": "SliderStyleModel",
      "state": {
       "description_width": ""
      }
     },
     "d8176398a1f1402198ca37d8a4a5b879": {
      "model_module": "@jupyter-widgets/output",
      "model_module_version": "1.0.0",
      "model_name": "OutputModel",
      "state": {
       "layout": "IPY_MODEL_a01904d3a4ad443b9b5b2a3c40f08aae",
       "outputs": [
        {
         "data": {
          "image/png": "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\n",
          "text/plain": "<Figure size 1440x1280 with 5 Axes>"
         },
         "metadata": {},
         "output_type": "display_data"
        }
       ]
      }
     },
     "d9349f0710d14660b21173999462c3ef": {
      "model_module": "@jupyter-widgets/controls",
      "model_module_version": "1.5.0",
      "model_name": "VBoxModel",
      "state": {
       "_dom_classes": [
        "widget-interact"
       ],
       "children": [
        "IPY_MODEL_1edf4ec87d87456696e0fd561577c240",
        "IPY_MODEL_4a50370126714f0ba6348f39bfb8c484",
        "IPY_MODEL_93fbfe8f6c2d4c36847b1b366419005d",
        "IPY_MODEL_1700588224c74aa4a6ecaf6249d40992",
        "IPY_MODEL_620d34b5dabd44c0be7540846e85fd3b",
        "IPY_MODEL_b6c88b6f7cb94f82af65e4390586cb9f",
        "IPY_MODEL_8442b72b38634222abf6da9e5c2d8299",
        "IPY_MODEL_5d81ce17bd344f70864e6ca1d7cb6c09",
        "IPY_MODEL_9bd10458e4584bd4bde9c6db7ff0f2ef",
        "IPY_MODEL_ab73da972b6a400c9d8138d6cf338988"
       ],
       "layout": "IPY_MODEL_ec22ca1e949b4a149af5ecf95241cc16"
      }
     },
     "d9602b3953fc40f182fb0e23d523ee4b": {
      "model_module": "@jupyter-widgets/base",
      "model_module_version": "1.2.0",
      "model_name": "LayoutModel",
      "state": {}
     },
     "d9de16f9eab24fb3a8b805f4045fb7b6": {
      "model_module": "@jupyter-widgets/controls",
      "model_module_version": "1.5.0",
      "model_name": "FloatSliderModel",
      "state": {
       "continuous_update": false,
       "description": "mu",
       "layout": "IPY_MODEL_2da47717fa82428b9540dc4c7ecd7ef9",
       "max": 180,
       "min": 130,
       "step": 10,
       "style": "IPY_MODEL_51392ba82d12469ebc1898b79a2278e6",
       "value": 150
      }
     },
     "da1248323dee4e04b4e280744e6b2182": {
      "model_module": "@jupyter-widgets/controls",
      "model_module_version": "1.5.0",
      "model_name": "SliderStyleModel",
      "state": {
       "description_width": ""
      }
     },
     "da87ce48c5384474b7c2d98c3c45372f": {
      "model_module": "@jupyter-widgets/base",
      "model_module_version": "1.2.0",
      "model_name": "LayoutModel",
      "state": {}
     },
     "db6e766eeed2435485f97044b4077331": {
      "model_module": "@jupyter-widgets/controls",
      "model_module_version": "1.5.0",
      "model_name": "FloatSliderModel",
      "state": {
       "continuous_update": false,
       "description": "mu",
       "layout": "IPY_MODEL_e5586b3edd0b4b1ebe801e1c6573f402",
       "max": 180,
       "min": 130,
       "step": 10,
       "style": "IPY_MODEL_cbe39e77c74c4a02abf0afe78c9ab46f",
       "value": 150
      }
     },
     "dbc55fd940eb4c4680b17e46026da9b1": {
      "model_module": "@jupyter-widgets/controls",
      "model_module_version": "1.5.0",
      "model_name": "SliderStyleModel",
      "state": {
       "description_width": ""
      }
     },
     "dc83a95b952e46279a6ff77bba37bf74": {
      "model_module": "@jupyter-widgets/base",
      "model_module_version": "1.2.0",
      "model_name": "LayoutModel",
      "state": {}
     },
     "dced7466470e4859aedde6034160e154": {
      "model_module": "@jupyter-widgets/controls",
      "model_module_version": "1.5.0",
      "model_name": "FloatSliderModel",
      "state": {
       "description": "r1",
       "layout": "IPY_MODEL_0c202399b0ac4b76ab4ab59dff9cc69b",
       "max": 5,
       "step": 0.5,
       "style": "IPY_MODEL_bd1572d163484356a16cb70deacde5d1",
       "value": 1.5
      }
     },
     "dd54746f7b1e46569189d809ac33000d": {
      "model_module": "@jupyter-widgets/base",
      "model_module_version": "1.2.0",
      "model_name": "LayoutModel",
      "state": {}
     },
     "dda7c266654f4a148eadf02ed6c3d080": {
      "model_module": "@jupyter-widgets/base",
      "model_module_version": "1.2.0",
      "model_name": "LayoutModel",
      "state": {}
     },
     "dda83dc33c35448aa3b4958b381cb7ab": {
      "model_module": "@jupyter-widgets/base",
      "model_module_version": "1.2.0",
      "model_name": "LayoutModel",
      "state": {}
     },
     "dde8681e8aa34919b85b602136467eea": {
      "model_module": "@jupyter-widgets/controls",
      "model_module_version": "1.5.0",
      "model_name": "FloatSliderModel",
      "state": {
       "continuous_update": false,
       "description": "r1",
       "layout": "IPY_MODEL_f7afadb0b07d48fdb6f20c7d42c72fd3",
       "max": 5,
       "step": 0.5,
       "style": "IPY_MODEL_9756e2c3bc9a44dd9874d42abc71e8ce",
       "value": 5
      }
     },
     "ddef54c811ac4db7a01a64faa4affaab": {
      "model_module": "@jupyter-widgets/base",
      "model_module_version": "1.2.0",
      "model_name": "LayoutModel",
      "state": {}
     },
     "de2923e0167341e4b60e0155498a86c1": {
      "model_module": "@jupyter-widgets/controls",
      "model_module_version": "1.5.0",
      "model_name": "IntSliderModel",
      "state": {
       "continuous_update": false,
       "description": "m",
       "layout": "IPY_MODEL_d13421d9f19a49428f685b5536c8c126",
       "max": 1000,
       "min": 10,
       "step": 10,
       "style": "IPY_MODEL_b37775efeaca43e0b4aaa3b3fbef8a55",
       "value": 100
      }
     },
     "de312f1125aa4a5b9b91c3d8179600ba": {
      "model_module": "@jupyter-widgets/controls",
      "model_module_version": "1.5.0",
      "model_name": "SliderStyleModel",
      "state": {
       "description_width": ""
      }
     },
     "de736dcf0973463daeb6a9c3e9989f17": {
      "model_module": "@jupyter-widgets/controls",
      "model_module_version": "1.5.0",
      "model_name": "SliderStyleModel",
      "state": {
       "description_width": ""
      }
     },
     "deeba004df134cbb80776a9a72291c4b": {
      "model_module": "@jupyter-widgets/controls",
      "model_module_version": "1.5.0",
      "model_name": "FloatSliderModel",
      "state": {
       "description": "r2",
       "layout": "IPY_MODEL_8970bd39c47b4caba4182b172946aa18",
       "max": 5,
       "step": 0.5,
       "style": "IPY_MODEL_542f74b1665a44cfa910913a92cc2966",
       "value": 1
      }
     },
     "dff6c82d6bd54ebea7425ec3646eb546": {
      "model_module": "@jupyter-widgets/base",
      "model_module_version": "1.2.0",
      "model_name": "LayoutModel",
      "state": {}
     },
     "e0855ed449c940789e6df26793cf21cb": {
      "model_module": "@jupyter-widgets/controls",
      "model_module_version": "1.5.0",
      "model_name": "SliderStyleModel",
      "state": {
       "description_width": ""
      }
     },
     "e248e77c7eef47609a2e240545bcf619": {
      "model_module": "@jupyter-widgets/base",
      "model_module_version": "1.2.0",
      "model_name": "LayoutModel",
      "state": {}
     },
     "e31cf1ad6678447a908fe0ed738307b3": {
      "model_module": "@jupyter-widgets/base",
      "model_module_version": "1.2.0",
      "model_name": "LayoutModel",
      "state": {}
     },
     "e3203ee2576a42408d7f57052db6fe0e": {
      "model_module": "@jupyter-widgets/controls",
      "model_module_version": "1.5.0",
      "model_name": "SliderStyleModel",
      "state": {
       "description_width": ""
      }
     },
     "e36a46f3bce44b148ab82bc7d0ef8c7c": {
      "model_module": "@jupyter-widgets/controls",
      "model_module_version": "1.5.0",
      "model_name": "IntSliderModel",
      "state": {
       "description": "lam",
       "layout": "IPY_MODEL_4aceda3ca90e4a698f5b122d84afab72",
       "max": 400,
       "min": 50,
       "step": 10,
       "style": "IPY_MODEL_0e60f42f6343403aa5f490e65c908d93",
       "value": 180
      }
     },
     "e3985e24820044e2a1fbe6da44534445": {
      "model_module": "@jupyter-widgets/controls",
      "model_module_version": "1.5.0",
      "model_name": "FloatSliderModel",
      "state": {
       "continuous_update": false,
       "description": "mu",
       "layout": "IPY_MODEL_743a9db3c47b49c08ff93127935b2e8e",
       "max": 180,
       "min": 130,
       "step": 10,
       "style": "IPY_MODEL_c690886e95f041a2a48bc93ed7382ad2",
       "value": 150
      }
     },
     "e473ec5baf154247b57816b8a8007bff": {
      "model_module": "@jupyter-widgets/controls",
      "model_module_version": "1.5.0",
      "model_name": "SliderStyleModel",
      "state": {
       "description_width": ""
      }
     },
     "e5586b3edd0b4b1ebe801e1c6573f402": {
      "model_module": "@jupyter-widgets/base",
      "model_module_version": "1.2.0",
      "model_name": "LayoutModel",
      "state": {}
     },
     "e572c8788b9646449c2d940195e23163": {
      "model_module": "@jupyter-widgets/base",
      "model_module_version": "1.2.0",
      "model_name": "LayoutModel",
      "state": {}
     },
     "e58a9113c8ba4e55ae726f5301d85d41": {
      "model_module": "@jupyter-widgets/controls",
      "model_module_version": "1.5.0",
      "model_name": "FloatSliderModel",
      "state": {
       "description": "r1",
       "layout": "IPY_MODEL_5670c1f88a7b4d49a66a06b53c285a6f",
       "max": 5,
       "step": 0.5,
       "style": "IPY_MODEL_6c1f78b08a7b494394c50610e5f33a85",
       "value": 1
      }
     },
     "e74d83c8b2954a95913f827b34a5937f": {
      "model_module": "@jupyter-widgets/base",
      "model_module_version": "1.2.0",
      "model_name": "LayoutModel",
      "state": {}
     },
     "e803e934b59f48dabbc8635aa6ccd7c1": {
      "model_module": "@jupyter-widgets/controls",
      "model_module_version": "1.5.0",
      "model_name": "IntSliderModel",
      "state": {
       "continuous_update": false,
       "description": "alpha",
       "layout": "IPY_MODEL_5452f02f1ea34c91afe08bb1870a2a4d",
       "min": 1,
       "style": "IPY_MODEL_4d62d84fef69458696630733f0b8ee4c",
       "value": 5
      }
     },
     "e92ee1f4a6194c35a59b2e9df7e97c99": {
      "model_module": "@jupyter-widgets/controls",
      "model_module_version": "1.5.0",
      "model_name": "FloatSliderModel",
      "state": {
       "description": "r2",
       "layout": "IPY_MODEL_d9602b3953fc40f182fb0e23d523ee4b",
       "max": 5,
       "step": 0.5,
       "style": "IPY_MODEL_6f9b46b8a0e14fe9bfd4b86c5aa24560",
       "value": 1
      }
     },
     "ea0e5ab251d9419baf3244d72f1517c2": {
      "model_module": "@jupyter-widgets/controls",
      "model_module_version": "1.5.0",
      "model_name": "SliderStyleModel",
      "state": {
       "description_width": ""
      }
     },
     "eb1cde7eb01345fcbe33212f17f931e0": {
      "model_module": "@jupyter-widgets/base",
      "model_module_version": "1.2.0",
      "model_name": "LayoutModel",
      "state": {}
     },
     "eba2f4fc94f24415b411f04b936d6e9f": {
      "model_module": "@jupyter-widgets/base",
      "model_module_version": "1.2.0",
      "model_name": "LayoutModel",
      "state": {}
     },
     "ec22ca1e949b4a149af5ecf95241cc16": {
      "model_module": "@jupyter-widgets/base",
      "model_module_version": "1.2.0",
      "model_name": "LayoutModel",
      "state": {}
     },
     "ed5957847efa446b92c872c75cc82e94": {
      "model_module": "@jupyter-widgets/base",
      "model_module_version": "1.2.0",
      "model_name": "LayoutModel",
      "state": {}
     },
     "ee5ebb1a9b8b499da9fc8f6fbeeff6ac": {
      "model_module": "@jupyter-widgets/base",
      "model_module_version": "1.2.0",
      "model_name": "LayoutModel",
      "state": {}
     },
     "ee86d5c158e447f09a5ac415494bf787": {
      "model_module": "@jupyter-widgets/controls",
      "model_module_version": "1.5.0",
      "model_name": "SliderStyleModel",
      "state": {
       "description_width": ""
      }
     },
     "ef61b17d5f10493daeff1fdf9be71c2d": {
      "model_module": "@jupyter-widgets/controls",
      "model_module_version": "1.5.0",
      "model_name": "SliderStyleModel",
      "state": {
       "description_width": ""
      }
     },
     "f07854c609604340b504d1f599039fd5": {
      "model_module": "@jupyter-widgets/base",
      "model_module_version": "1.2.0",
      "model_name": "LayoutModel",
      "state": {}
     },
     "f09954f52ee5426a9609f63e9a6577c5": {
      "model_module": "@jupyter-widgets/controls",
      "model_module_version": "1.5.0",
      "model_name": "FloatSliderModel",
      "state": {
       "continuous_update": false,
       "description": "r1",
       "layout": "IPY_MODEL_78a388131c944929a678af302ebab7dd",
       "max": 5,
       "step": 0.5,
       "style": "IPY_MODEL_fe553050fe4f43bb9ff01c1deff1ec85",
       "value": 5
      }
     },
     "f0d89efb02e94cd8bda77acc1365ab6b": {
      "model_module": "@jupyter-widgets/controls",
      "model_module_version": "1.5.0",
      "model_name": "SliderStyleModel",
      "state": {
       "description_width": ""
      }
     },
     "f0e5bbe0d1f14121a09ba07d77fd337c": {
      "model_module": "@jupyter-widgets/controls",
      "model_module_version": "1.5.0",
      "model_name": "SliderStyleModel",
      "state": {
       "description_width": ""
      }
     },
     "f12a143b6654494ca05a218d81ab73e5": {
      "model_module": "@jupyter-widgets/controls",
      "model_module_version": "1.5.0",
      "model_name": "FloatSliderModel",
      "state": {
       "description": "mu",
       "layout": "IPY_MODEL_772cca8e8e0a41a58138de5be622a914",
       "max": 7,
       "min": 2,
       "step": 0.5,
       "style": "IPY_MODEL_06a0a42e138f4dd696d7a1b06e961646",
       "value": 2
      }
     },
     "f20a3e1ac8a144cb91791cb4235619bc": {
      "model_module": "@jupyter-widgets/base",
      "model_module_version": "1.2.0",
      "model_name": "LayoutModel",
      "state": {}
     },
     "f2115d382b6e4f468eac65f7a18e818a": {
      "model_module": "@jupyter-widgets/controls",
      "model_module_version": "1.5.0",
      "model_name": "FloatSliderModel",
      "state": {
       "continuous_update": false,
       "description": "r1",
       "layout": "IPY_MODEL_dd54746f7b1e46569189d809ac33000d",
       "max": 5,
       "step": 0.5,
       "style": "IPY_MODEL_d3994a7776334ef89d4e57f7979ff8bb",
       "value": 5
      }
     },
     "f2d7aafe5a4b4e2182eefc78e17020d5": {
      "model_module": "@jupyter-widgets/base",
      "model_module_version": "1.2.0",
      "model_name": "LayoutModel",
      "state": {}
     },
     "f3b58429ce424835990f41661b000735": {
      "model_module": "@jupyter-widgets/controls",
      "model_module_version": "1.5.0",
      "model_name": "FloatSliderModel",
      "state": {
       "continuous_update": false,
       "description": "mu",
       "layout": "IPY_MODEL_f2d7aafe5a4b4e2182eefc78e17020d5",
       "max": 180,
       "min": 130,
       "step": 10,
       "style": "IPY_MODEL_8e5fe32c15194954bf7f576642f7d8bc",
       "value": 150
      }
     },
     "f3bb35be7c654a62ad046cdb2f064d84": {
      "model_module": "@jupyter-widgets/controls",
      "model_module_version": "1.5.0",
      "model_name": "FloatSliderModel",
      "state": {
       "description": "sigma2",
       "layout": "IPY_MODEL_4194dd47384d46d4885e939964820b3a",
       "max": 0.05,
       "min": 0.01,
       "step": 0.001,
       "style": "IPY_MODEL_1252f2a707dd40c1bd5467963c22c247",
       "value": 0.01
      }
     },
     "f70f322bb229482286af16cf33b3158c": {
      "model_module": "@jupyter-widgets/controls",
      "model_module_version": "1.5.0",
      "model_name": "SliderStyleModel",
      "state": {
       "description_width": ""
      }
     },
     "f75f08dd4e03491a874bf8a0da83f50c": {
      "model_module": "@jupyter-widgets/base",
      "model_module_version": "1.2.0",
      "model_name": "LayoutModel",
      "state": {}
     },
     "f7afadb0b07d48fdb6f20c7d42c72fd3": {
      "model_module": "@jupyter-widgets/base",
      "model_module_version": "1.2.0",
      "model_name": "LayoutModel",
      "state": {}
     },
     "f88b1418cde24f8dbd16401c63d2bc92": {
      "model_module": "@jupyter-widgets/controls",
      "model_module_version": "1.5.0",
      "model_name": "VBoxModel",
      "state": {
       "_dom_classes": [
        "widget-interact"
       ],
       "children": [
        "IPY_MODEL_8832461317634c1d981d98df05ad72c0",
        "IPY_MODEL_202ea4fe25f64b7ea42be7a69225afe3",
        "IPY_MODEL_dced7466470e4859aedde6034160e154",
        "IPY_MODEL_deeba004df134cbb80776a9a72291c4b",
        "IPY_MODEL_576104cdecd34af9bebaad42078a5eae",
        "IPY_MODEL_7e47df12052048fabc1da1f24f62451d",
        "IPY_MODEL_5d9089ed5382448b95053d3eb3af8142",
        "IPY_MODEL_4b74defb239f439683e0af067cb5b1b5",
        "IPY_MODEL_9606f2bcdb0f455f82d469918df6e316",
        "IPY_MODEL_4ada49329e7741aba747ae89134c5f88"
       ],
       "layout": "IPY_MODEL_4cc6c675d68b4f75be0cc61a03b923b3"
      }
     },
     "f88fb49d5bd34e8a86e148bf734525da": {
      "model_module": "@jupyter-widgets/controls",
      "model_module_version": "1.5.0",
      "model_name": "SliderStyleModel",
      "state": {
       "description_width": ""
      }
     },
     "f8fc8d027bbd43aaa9c4d620251a132d": {
      "model_module": "@jupyter-widgets/controls",
      "model_module_version": "1.5.0",
      "model_name": "FloatSliderModel",
      "state": {
       "description": "r1",
       "layout": "IPY_MODEL_8b87dcd86516476cb4723fdefcaa7a14",
       "max": 5,
       "step": 0.5,
       "style": "IPY_MODEL_49ad02ee3008473da35e4637e4406778",
       "value": 1
      }
     },
     "f93be1e3e9444a7ca9643873abf577ec": {
      "model_module": "@jupyter-widgets/controls",
      "model_module_version": "1.5.0",
      "model_name": "IntSliderModel",
      "state": {
       "description": "m",
       "layout": "IPY_MODEL_9ef00e2fdc624c90a28b831745154945",
       "min": 1,
       "style": "IPY_MODEL_f70f322bb229482286af16cf33b3158c",
       "value": 1
      }
     },
     "fa894e72860849e79a6da0de436056d5": {
      "model_module": "@jupyter-widgets/controls",
      "model_module_version": "1.5.0",
      "model_name": "FloatSliderModel",
      "state": {
       "description": "sigma2",
       "layout": "IPY_MODEL_5dc9106119784f91a83cc21254646bdf",
       "max": 0.05,
       "min": 0.01,
       "step": 0.001,
       "style": "IPY_MODEL_41c69f294b7248978948d82e233266d7",
       "value": 0.01
      }
     },
     "fc1e2a6cae704fde9ec58dfee29658f6": {
      "model_module": "@jupyter-widgets/controls",
      "model_module_version": "1.5.0",
      "model_name": "VBoxModel",
      "state": {
       "_dom_classes": [
        "widget-interact"
       ],
       "children": [
        "IPY_MODEL_d1592063b19a47a1844c4725650889b6",
        "IPY_MODEL_248b0cdb44434a36b747bff3ea82e80c",
        "IPY_MODEL_bc339312bdd64762b26057b114fd981c",
        "IPY_MODEL_17a9a00717994616bfeece5f73d3d110",
        "IPY_MODEL_80c75b47531543168598480950945b7b",
        "IPY_MODEL_d9de16f9eab24fb3a8b805f4045fb7b6",
        "IPY_MODEL_cfc63a2456f14668991bbec0dcee9ae6",
        "IPY_MODEL_c80aa6ef0ac64299bfcddf15cc643cbc",
        "IPY_MODEL_1bae273f13484ff7bd90576bc8e93363",
        "IPY_MODEL_09b018aedcab4ded967b33fc218baf17"
       ],
       "layout": "IPY_MODEL_38119f285c384f07879f57aa1fe27ac4"
      }
     },
     "fd4931b870164d7c93ab8600347b3f28": {
      "model_module": "@jupyter-widgets/base",
      "model_module_version": "1.2.0",
      "model_name": "LayoutModel",
      "state": {}
     },
     "fe12df968aa94be49786a919a6671221": {
      "model_module": "@jupyter-widgets/controls",
      "model_module_version": "1.5.0",
      "model_name": "SliderStyleModel",
      "state": {
       "description_width": ""
      }
     },
     "fe553050fe4f43bb9ff01c1deff1ec85": {
      "model_module": "@jupyter-widgets/controls",
      "model_module_version": "1.5.0",
      "model_name": "SliderStyleModel",
      "state": {
       "description_width": ""
      }
     },
     "fe7f1e7923094fc8b30fadace2e04905": {
      "model_module": "@jupyter-widgets/controls",
      "model_module_version": "1.5.0",
      "model_name": "SliderStyleModel",
      "state": {
       "description_width": ""
      }
     },
     "ff4059da5225426caa7cf6cb77b3073c": {
      "model_module": "@jupyter-widgets/base",
      "model_module_version": "1.2.0",
      "model_name": "LayoutModel",
      "state": {}
     }
    },
    "version_major": 2,
    "version_minor": 0
   }
  }
 },
 "nbformat": 4,
 "nbformat_minor": 2
}
